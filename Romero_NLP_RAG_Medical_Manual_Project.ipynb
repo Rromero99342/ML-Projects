{
  "cells": [
    {
      "cell_type": "markdown",
      "metadata": {
        "id": "3CNz35ia6Bz3"
      },
      "source": [
        "## Problem Statement"
      ]
    },
    {
      "cell_type": "markdown",
      "metadata": {
        "id": "CkRbhMJH6Bz3"
      },
      "source": [
        "### Business Context"
      ]
    },
    {
      "cell_type": "markdown",
      "metadata": {
        "id": "3PBm5xaj6Bz3"
      },
      "source": [
        "The healthcare industry is rapidly evolving, with professionals facing increasing challenges in managing vast volumes of medical data while delivering accurate and timely diagnoses. The need for quick access to comprehensive, reliable, and up-to-date medical knowledge is critical for improving patient outcomes and ensuring informed decision-making in a fast-paced environment.\n",
        "\n",
        "Healthcare professionals often encounter information overload, struggling to sift through extensive research and data to create accurate diagnoses and treatment plans. This challenge is amplified by the need for efficiency, particularly in emergencies, where time-sensitive decisions are vital. Furthermore, access to trusted, current medical information from renowned manuals and research papers is essential for maintaining high standards of care.\n",
        "\n",
        "To address these challenges, healthcare centers can focus on integrating systems that streamline access to medical knowledge, provide tools to support quick decision-making, and enhance efficiency. Leveraging centralized knowledge platforms and ensuring healthcare providers have continuous access to reliable resources can significantly improve patient care and operational effectiveness."
      ]
    },
    {
      "cell_type": "markdown",
      "metadata": {
        "id": "1xDPsqvO6Bz5"
      },
      "source": [
        "**Common Questions to Answer**\n",
        "\n",
        "**1. Diagnostic Assistance**: \"What are the common symptoms and treatments for pulmonary embolism?\"\n",
        "\n",
        "**2. Drug Information**: \"Can you provide the trade names of medications used for treating hypertension?\"\n",
        "\n",
        "**3. Treatment Plans**: \"What are the first-line options and alternatives for managing rheumatoid arthritis?\"\n",
        "\n",
        "**4. Specialty Knowledge**: \"What are the diagnostic steps for suspected endocrine disorders?\"\n",
        "\n",
        "**5. Critical Care Protocols**: \"What is the protocol for managing sepsis in a critical care unit?\""
      ]
    },
    {
      "cell_type": "markdown",
      "metadata": {
        "id": "CARPKFwm6Bz4"
      },
      "source": [
        "### Objective"
      ]
    },
    {
      "cell_type": "markdown",
      "metadata": {
        "id": "dOElOEXq6Bz4"
      },
      "source": [
        "As an AI specialist, your task is to develop a RAG-based AI solution using renowned medical manuals to address healthcare challenges. The objective is to **understand** issues like information overload, **apply** AI techniques to streamline decision-making, **analyze** its impact on diagnostics and patient outcomes, **evaluate** its potential to standardize care practices, and **create** a functional prototype demonstrating its feasibility and effectiveness."
      ]
    },
    {
      "cell_type": "markdown",
      "metadata": {
        "id": "by9EvAnkSpZf"
      },
      "source": [
        "### Data Description"
      ]
    },
    {
      "cell_type": "markdown",
      "metadata": {
        "id": "Jw5LievCSru2"
      },
      "source": [
        "The **Merck Manuals** are medical references published by the American pharmaceutical company Merck & Co., that cover a wide range of medical topics, including disorders, tests, diagnoses, and drugs. The manuals have been published since 1899, when Merck & Co. was still a subsidiary of the German company Merck.\n",
        "\n",
        "The manual is provided as a PDF with over 4,000 pages divided into 23 sections."
      ]
    },
    {
      "cell_type": "markdown",
      "metadata": {
        "id": "lnwETBOE6Bz5"
      },
      "source": [
        "## Installing and Importing Necessary Libraries and Dependencies"
      ]
    },
    {
      "cell_type": "code",
      "source": [
        "!pip install pandas==2.2.2"
      ],
      "metadata": {
        "colab": {
          "base_uri": "https://localhost:8080/"
        },
        "id": "ROleFByLgIyw",
        "outputId": "d917af35-382b-47ea-a175-be5349858fc0"
      },
      "execution_count": 1,
      "outputs": [
        {
          "output_type": "stream",
          "name": "stdout",
          "text": [
            "Requirement already satisfied: pandas==2.2.2 in /usr/local/lib/python3.11/dist-packages (2.2.2)\n",
            "Requirement already satisfied: numpy>=1.23.2 in /usr/local/lib/python3.11/dist-packages (from pandas==2.2.2) (2.0.2)\n",
            "Requirement already satisfied: python-dateutil>=2.8.2 in /usr/local/lib/python3.11/dist-packages (from pandas==2.2.2) (2.8.2)\n",
            "Requirement already satisfied: pytz>=2020.1 in /usr/local/lib/python3.11/dist-packages (from pandas==2.2.2) (2025.2)\n",
            "Requirement already satisfied: tzdata>=2022.7 in /usr/local/lib/python3.11/dist-packages (from pandas==2.2.2) (2025.2)\n",
            "Requirement already satisfied: six>=1.5 in /usr/local/lib/python3.11/dist-packages (from python-dateutil>=2.8.2->pandas==2.2.2) (1.17.0)\n"
          ]
        }
      ]
    },
    {
      "cell_type": "code",
      "source": [
        "!pip install numpy==1.26.0"
      ],
      "metadata": {
        "colab": {
          "base_uri": "https://localhost:8080/"
        },
        "id": "2rdg8ts0gfgZ",
        "outputId": "53cecfc6-2be4-4a89-fa0b-56ecf18f0b7d"
      },
      "execution_count": 5,
      "outputs": [
        {
          "output_type": "stream",
          "name": "stdout",
          "text": [
            "Requirement already satisfied: numpy==1.26.0 in /usr/local/lib/python3.11/dist-packages (1.26.0)\n"
          ]
        }
      ]
    },
    {
      "cell_type": "code",
      "source": [
        "!pip install huggingface_hub==0.30.2"
      ],
      "metadata": {
        "colab": {
          "base_uri": "https://localhost:8080/"
        },
        "id": "qCaFgE2riCA3",
        "outputId": "1d84cb94-ee03-47e9-b18b-8cf4d321c4a9"
      },
      "execution_count": 6,
      "outputs": [
        {
          "output_type": "stream",
          "name": "stdout",
          "text": [
            "Requirement already satisfied: huggingface_hub==0.30.2 in /usr/local/lib/python3.11/dist-packages (0.30.2)\n",
            "Requirement already satisfied: filelock in /usr/local/lib/python3.11/dist-packages (from huggingface_hub==0.30.2) (3.18.0)\n",
            "Requirement already satisfied: fsspec>=2023.5.0 in /usr/local/lib/python3.11/dist-packages (from huggingface_hub==0.30.2) (2025.3.2)\n",
            "Requirement already satisfied: packaging>=20.9 in /usr/local/lib/python3.11/dist-packages (from huggingface_hub==0.30.2) (23.2)\n",
            "Requirement already satisfied: pyyaml>=5.1 in /usr/local/lib/python3.11/dist-packages (from huggingface_hub==0.30.2) (6.0.2)\n",
            "Requirement already satisfied: requests in /usr/local/lib/python3.11/dist-packages (from huggingface_hub==0.30.2) (2.32.3)\n",
            "Requirement already satisfied: tqdm>=4.42.1 in /usr/local/lib/python3.11/dist-packages (from huggingface_hub==0.30.2) (4.67.1)\n",
            "Requirement already satisfied: typing-extensions>=3.7.4.3 in /usr/local/lib/python3.11/dist-packages (from huggingface_hub==0.30.2) (4.13.2)\n",
            "Requirement already satisfied: charset-normalizer<4,>=2 in /usr/local/lib/python3.11/dist-packages (from requests->huggingface_hub==0.30.2) (3.4.1)\n",
            "Requirement already satisfied: idna<4,>=2.5 in /usr/local/lib/python3.11/dist-packages (from requests->huggingface_hub==0.30.2) (3.10)\n",
            "Requirement already satisfied: urllib3<3,>=1.21.1 in /usr/local/lib/python3.11/dist-packages (from requests->huggingface_hub==0.30.2) (2.3.0)\n",
            "Requirement already satisfied: certifi>=2017.4.17 in /usr/local/lib/python3.11/dist-packages (from requests->huggingface_hub==0.30.2) (2025.1.31)\n"
          ]
        }
      ]
    },
    {
      "cell_type": "code",
      "source": [
        "# Installation for GPU llama-cpp-python\n",
        "!CMAKE_ARGS=\"-DLLAMA_CUBLAS=on\" FORCE_CMAKE=1 pip install llama-cpp-python==0.2.28 --force-reinstall --upgrade --no-cache-dir -q 2>/dev/null"
      ],
      "metadata": {
        "colab": {
          "base_uri": "https://localhost:8080/"
        },
        "id": "Z0DhCidXi490",
        "outputId": "28544458-0e42-47ca-cbc0-0e73a34111cd",
        "collapsed": true
      },
      "execution_count": 7,
      "outputs": [
        {
          "output_type": "stream",
          "name": "stdout",
          "text": [
            "\u001b[?25l     \u001b[90m━━━━━━━━━━━━━━━━━━━━━━━━━━━━━━━━━━━━━━━━\u001b[0m \u001b[32m0.0/9.4 MB\u001b[0m \u001b[31m?\u001b[0m eta \u001b[36m-:--:--\u001b[0m\r\u001b[2K     \u001b[91m━\u001b[0m\u001b[91m╸\u001b[0m\u001b[90m━━━━━━━━━━━━━━━━━━━━━━━━━━━━━━━━━━━━━━\u001b[0m \u001b[32m0.4/9.4 MB\u001b[0m \u001b[31m13.1 MB/s\u001b[0m eta \u001b[36m0:00:01\u001b[0m\r\u001b[2K     \u001b[91m━━━━━━━━━━━━━━━━━━━━━━━━━━\u001b[0m\u001b[91m╸\u001b[0m\u001b[90m━━━━━━━━━━━━━\u001b[0m \u001b[32m6.3/9.4 MB\u001b[0m \u001b[31m90.7 MB/s\u001b[0m eta \u001b[36m0:00:01\u001b[0m\r\u001b[2K     \u001b[90m━━━━━━━━━━━━━━━━━━━━━━━━━━━━━━━━━━━━━━━━\u001b[0m \u001b[32m9.4/9.4 MB\u001b[0m \u001b[31m109.9 MB/s\u001b[0m eta \u001b[36m0:00:00\u001b[0m\n",
            "\u001b[?25h  Installing build dependencies ... \u001b[?25l\u001b[?25hdone\n",
            "  Getting requirements to build wheel ... \u001b[?25l\u001b[?25hdone\n",
            "  Installing backend dependencies ... \u001b[?25l\u001b[?25hdone\n",
            "  Preparing metadata (pyproject.toml) ... \u001b[?25l\u001b[?25hdone\n",
            "\u001b[2K     \u001b[90m━━━━━━━━━━━━━━━━━━━━━━━━━━━━━━━━━━━━━━━\u001b[0m \u001b[32m62.0/62.0 kB\u001b[0m \u001b[31m152.6 MB/s\u001b[0m eta \u001b[36m0:00:00\u001b[0m\n",
            "\u001b[2K   \u001b[90m━━━━━━━━━━━━━━━━━━━━━━━━━━━━━━━━━━━━━━━━\u001b[0m \u001b[32m45.5/45.5 kB\u001b[0m \u001b[31m254.2 MB/s\u001b[0m eta \u001b[36m0:00:00\u001b[0m\n",
            "\u001b[2K   \u001b[90m━━━━━━━━━━━━━━━━━━━━━━━━━━━━━━━━━━━━━━━━\u001b[0m \u001b[32m16.4/16.4 MB\u001b[0m \u001b[31m157.7 MB/s\u001b[0m eta \u001b[36m0:00:00\u001b[0m\n",
            "\u001b[2K   \u001b[90m━━━━━━━━━━━━━━━━━━━━━━━━━━━━━━━━━━━━━━━━\u001b[0m \u001b[32m45.8/45.8 kB\u001b[0m \u001b[31m281.9 MB/s\u001b[0m eta \u001b[36m0:00:00\u001b[0m\n",
            "\u001b[?25h  Building wheel for llama-cpp-python (pyproject.toml) ... \u001b[?25l\u001b[?25hdone\n"
          ]
        }
      ]
    },
    {
      "cell_type": "code",
      "execution_count": 8,
      "metadata": {
        "colab": {
          "base_uri": "https://localhost:8080/"
        },
        "id": "0VOckDVkWGei",
        "outputId": "3a3879d3-1c0e-4b82-810a-28ed12c20848",
        "collapsed": true
      },
      "outputs": [
        {
          "output_type": "stream",
          "name": "stdout",
          "text": [
            "Requirement already satisfied: tiktoken==0.6.0 in /usr/local/lib/python3.11/dist-packages (0.6.0)\n",
            "Requirement already satisfied: pymupdf==1.25.1 in /usr/local/lib/python3.11/dist-packages (1.25.1)\n",
            "Requirement already satisfied: langchain==0.1.1 in /usr/local/lib/python3.11/dist-packages (0.1.1)\n",
            "Requirement already satisfied: langchain-community==0.0.13 in /usr/local/lib/python3.11/dist-packages (0.0.13)\n",
            "Requirement already satisfied: chromadb==0.4.22 in /usr/local/lib/python3.11/dist-packages (0.4.22)\n",
            "Requirement already satisfied: sentence-transformers==2.3.1 in /usr/local/lib/python3.11/dist-packages (2.3.1)\n",
            "Requirement already satisfied: thinc==8.2.5 in /usr/local/lib/python3.11/dist-packages (8.2.5)\n",
            "Requirement already satisfied: spacy==3.7.6 in /usr/local/lib/python3.11/dist-packages (3.7.6)\n",
            "Requirement already satisfied: regex>=2022.1.18 in /usr/local/lib/python3.11/dist-packages (from tiktoken==0.6.0) (2024.11.6)\n",
            "Requirement already satisfied: requests>=2.26.0 in /usr/local/lib/python3.11/dist-packages (from tiktoken==0.6.0) (2.32.3)\n",
            "Requirement already satisfied: PyYAML>=5.3 in /usr/local/lib/python3.11/dist-packages (from langchain==0.1.1) (6.0.2)\n",
            "Requirement already satisfied: SQLAlchemy<3,>=1.4 in /usr/local/lib/python3.11/dist-packages (from langchain==0.1.1) (2.0.40)\n",
            "Requirement already satisfied: aiohttp<4.0.0,>=3.8.3 in /usr/local/lib/python3.11/dist-packages (from langchain==0.1.1) (3.11.15)\n",
            "Requirement already satisfied: dataclasses-json<0.7,>=0.5.7 in /usr/local/lib/python3.11/dist-packages (from langchain==0.1.1) (0.6.7)\n",
            "Requirement already satisfied: jsonpatch<2.0,>=1.33 in /usr/local/lib/python3.11/dist-packages (from langchain==0.1.1) (1.33)\n",
            "Requirement already satisfied: langchain-core<0.2,>=0.1.9 in /usr/local/lib/python3.11/dist-packages (from langchain==0.1.1) (0.1.23)\n",
            "Requirement already satisfied: langsmith<0.1.0,>=0.0.77 in /usr/local/lib/python3.11/dist-packages (from langchain==0.1.1) (0.0.87)\n",
            "Collecting numpy<2,>=1 (from langchain==0.1.1)\n",
            "  Using cached numpy-1.26.4-cp311-cp311-manylinux_2_17_x86_64.manylinux2014_x86_64.whl.metadata (61 kB)\n",
            "Requirement already satisfied: pydantic<3,>=1 in /usr/local/lib/python3.11/dist-packages (from langchain==0.1.1) (2.11.3)\n",
            "Requirement already satisfied: tenacity<9.0.0,>=8.1.0 in /usr/local/lib/python3.11/dist-packages (from langchain==0.1.1) (8.5.0)\n",
            "Requirement already satisfied: build>=1.0.3 in /usr/local/lib/python3.11/dist-packages (from chromadb==0.4.22) (1.2.2.post1)\n",
            "Requirement already satisfied: chroma-hnswlib==0.7.3 in /usr/local/lib/python3.11/dist-packages (from chromadb==0.4.22) (0.7.3)\n",
            "Requirement already satisfied: fastapi>=0.95.2 in /usr/local/lib/python3.11/dist-packages (from chromadb==0.4.22) (0.115.12)\n",
            "Requirement already satisfied: uvicorn>=0.18.3 in /usr/local/lib/python3.11/dist-packages (from uvicorn[standard]>=0.18.3->chromadb==0.4.22) (0.34.2)\n",
            "Requirement already satisfied: posthog>=2.4.0 in /usr/local/lib/python3.11/dist-packages (from chromadb==0.4.22) (4.0.0)\n",
            "Requirement already satisfied: typing-extensions>=4.5.0 in /usr/local/lib/python3.11/dist-packages (from chromadb==0.4.22) (4.13.2)\n",
            "Requirement already satisfied: pulsar-client>=3.1.0 in /usr/local/lib/python3.11/dist-packages (from chromadb==0.4.22) (3.6.1)\n",
            "Requirement already satisfied: onnxruntime>=1.14.1 in /usr/local/lib/python3.11/dist-packages (from chromadb==0.4.22) (1.21.1)\n",
            "Requirement already satisfied: opentelemetry-api>=1.2.0 in /usr/local/lib/python3.11/dist-packages (from chromadb==0.4.22) (1.32.1)\n",
            "Requirement already satisfied: opentelemetry-exporter-otlp-proto-grpc>=1.2.0 in /usr/local/lib/python3.11/dist-packages (from chromadb==0.4.22) (1.32.1)\n",
            "Requirement already satisfied: opentelemetry-instrumentation-fastapi>=0.41b0 in /usr/local/lib/python3.11/dist-packages (from chromadb==0.4.22) (0.53b1)\n",
            "Requirement already satisfied: opentelemetry-sdk>=1.2.0 in /usr/local/lib/python3.11/dist-packages (from chromadb==0.4.22) (1.32.1)\n",
            "Requirement already satisfied: tokenizers>=0.13.2 in /usr/local/lib/python3.11/dist-packages (from chromadb==0.4.22) (0.21.1)\n",
            "Requirement already satisfied: pypika>=0.48.9 in /usr/local/lib/python3.11/dist-packages (from chromadb==0.4.22) (0.48.9)\n",
            "Requirement already satisfied: tqdm>=4.65.0 in /usr/local/lib/python3.11/dist-packages (from chromadb==0.4.22) (4.67.1)\n",
            "Requirement already satisfied: overrides>=7.3.1 in /usr/local/lib/python3.11/dist-packages (from chromadb==0.4.22) (7.7.0)\n",
            "Requirement already satisfied: importlib-resources in /usr/local/lib/python3.11/dist-packages (from chromadb==0.4.22) (6.5.2)\n",
            "Requirement already satisfied: grpcio>=1.58.0 in /usr/local/lib/python3.11/dist-packages (from chromadb==0.4.22) (1.71.0)\n",
            "Requirement already satisfied: bcrypt>=4.0.1 in /usr/local/lib/python3.11/dist-packages (from chromadb==0.4.22) (4.3.0)\n",
            "Requirement already satisfied: typer>=0.9.0 in /usr/local/lib/python3.11/dist-packages (from chromadb==0.4.22) (0.15.2)\n",
            "Requirement already satisfied: kubernetes>=28.1.0 in /usr/local/lib/python3.11/dist-packages (from chromadb==0.4.22) (32.0.1)\n",
            "Requirement already satisfied: mmh3>=4.0.1 in /usr/local/lib/python3.11/dist-packages (from chromadb==0.4.22) (5.1.0)\n",
            "Requirement already satisfied: transformers<5.0.0,>=4.32.0 in /usr/local/lib/python3.11/dist-packages (from sentence-transformers==2.3.1) (4.51.3)\n",
            "Requirement already satisfied: torch>=1.11.0 in /usr/local/lib/python3.11/dist-packages (from sentence-transformers==2.3.1) (2.6.0+cu124)\n",
            "Requirement already satisfied: scikit-learn in /usr/local/lib/python3.11/dist-packages (from sentence-transformers==2.3.1) (1.6.1)\n",
            "Requirement already satisfied: scipy in /usr/local/lib/python3.11/dist-packages (from sentence-transformers==2.3.1) (1.14.1)\n",
            "Requirement already satisfied: nltk in /usr/local/lib/python3.11/dist-packages (from sentence-transformers==2.3.1) (3.9.1)\n",
            "Requirement already satisfied: sentencepiece in /usr/local/lib/python3.11/dist-packages (from sentence-transformers==2.3.1) (0.2.0)\n",
            "Requirement already satisfied: huggingface-hub>=0.15.1 in /usr/local/lib/python3.11/dist-packages (from sentence-transformers==2.3.1) (0.30.2)\n",
            "Requirement already satisfied: Pillow in /usr/local/lib/python3.11/dist-packages (from sentence-transformers==2.3.1) (11.1.0)\n",
            "Requirement already satisfied: blis<0.8.0,>=0.7.8 in /usr/local/lib/python3.11/dist-packages (from thinc==8.2.5) (0.7.11)\n",
            "Requirement already satisfied: murmurhash<1.1.0,>=1.0.2 in /usr/local/lib/python3.11/dist-packages (from thinc==8.2.5) (1.0.12)\n",
            "Requirement already satisfied: cymem<2.1.0,>=2.0.2 in /usr/local/lib/python3.11/dist-packages (from thinc==8.2.5) (2.0.11)\n",
            "Requirement already satisfied: preshed<3.1.0,>=3.0.2 in /usr/local/lib/python3.11/dist-packages (from thinc==8.2.5) (3.0.9)\n",
            "Requirement already satisfied: wasabi<1.2.0,>=0.8.1 in /usr/local/lib/python3.11/dist-packages (from thinc==8.2.5) (1.1.3)\n",
            "Requirement already satisfied: srsly<3.0.0,>=2.4.0 in /usr/local/lib/python3.11/dist-packages (from thinc==8.2.5) (2.5.1)\n",
            "Requirement already satisfied: catalogue<2.1.0,>=2.0.4 in /usr/local/lib/python3.11/dist-packages (from thinc==8.2.5) (2.0.10)\n",
            "Requirement already satisfied: confection<1.0.0,>=0.0.1 in /usr/local/lib/python3.11/dist-packages (from thinc==8.2.5) (0.1.5)\n",
            "Requirement already satisfied: setuptools in /usr/local/lib/python3.11/dist-packages (from thinc==8.2.5) (75.2.0)\n",
            "Requirement already satisfied: packaging>=20.0 in /usr/local/lib/python3.11/dist-packages (from thinc==8.2.5) (23.2)\n",
            "Requirement already satisfied: spacy-legacy<3.1.0,>=3.0.11 in /usr/local/lib/python3.11/dist-packages (from spacy==3.7.6) (3.0.12)\n",
            "Requirement already satisfied: spacy-loggers<2.0.0,>=1.0.0 in /usr/local/lib/python3.11/dist-packages (from spacy==3.7.6) (1.0.5)\n",
            "Requirement already satisfied: weasel<0.5.0,>=0.1.0 in /usr/local/lib/python3.11/dist-packages (from spacy==3.7.6) (0.4.1)\n",
            "Requirement already satisfied: jinja2 in /usr/local/lib/python3.11/dist-packages (from spacy==3.7.6) (3.1.6)\n",
            "Requirement already satisfied: langcodes<4.0.0,>=3.2.0 in /usr/local/lib/python3.11/dist-packages (from spacy==3.7.6) (3.5.0)\n",
            "Requirement already satisfied: aiohappyeyeballs>=2.3.0 in /usr/local/lib/python3.11/dist-packages (from aiohttp<4.0.0,>=3.8.3->langchain==0.1.1) (2.6.1)\n",
            "Requirement already satisfied: aiosignal>=1.1.2 in /usr/local/lib/python3.11/dist-packages (from aiohttp<4.0.0,>=3.8.3->langchain==0.1.1) (1.3.2)\n",
            "Requirement already satisfied: attrs>=17.3.0 in /usr/local/lib/python3.11/dist-packages (from aiohttp<4.0.0,>=3.8.3->langchain==0.1.1) (25.3.0)\n",
            "Requirement already satisfied: frozenlist>=1.1.1 in /usr/local/lib/python3.11/dist-packages (from aiohttp<4.0.0,>=3.8.3->langchain==0.1.1) (1.6.0)\n",
            "Requirement already satisfied: multidict<7.0,>=4.5 in /usr/local/lib/python3.11/dist-packages (from aiohttp<4.0.0,>=3.8.3->langchain==0.1.1) (6.4.3)\n",
            "Requirement already satisfied: propcache>=0.2.0 in /usr/local/lib/python3.11/dist-packages (from aiohttp<4.0.0,>=3.8.3->langchain==0.1.1) (0.3.1)\n",
            "Requirement already satisfied: yarl<2.0,>=1.17.0 in /usr/local/lib/python3.11/dist-packages (from aiohttp<4.0.0,>=3.8.3->langchain==0.1.1) (1.20.0)\n",
            "Requirement already satisfied: pyproject_hooks in /usr/local/lib/python3.11/dist-packages (from build>=1.0.3->chromadb==0.4.22) (1.2.0)\n",
            "Requirement already satisfied: marshmallow<4.0.0,>=3.18.0 in /usr/local/lib/python3.11/dist-packages (from dataclasses-json<0.7,>=0.5.7->langchain==0.1.1) (3.26.1)\n",
            "Requirement already satisfied: typing-inspect<1,>=0.4.0 in /usr/local/lib/python3.11/dist-packages (from dataclasses-json<0.7,>=0.5.7->langchain==0.1.1) (0.9.0)\n",
            "Requirement already satisfied: starlette<0.47.0,>=0.40.0 in /usr/local/lib/python3.11/dist-packages (from fastapi>=0.95.2->chromadb==0.4.22) (0.46.2)\n",
            "Requirement already satisfied: filelock in /usr/local/lib/python3.11/dist-packages (from huggingface-hub>=0.15.1->sentence-transformers==2.3.1) (3.18.0)\n",
            "Requirement already satisfied: fsspec>=2023.5.0 in /usr/local/lib/python3.11/dist-packages (from huggingface-hub>=0.15.1->sentence-transformers==2.3.1) (2025.3.2)\n",
            "Requirement already satisfied: jsonpointer>=1.9 in /usr/local/lib/python3.11/dist-packages (from jsonpatch<2.0,>=1.33->langchain==0.1.1) (3.0.0)\n",
            "Requirement already satisfied: certifi>=14.05.14 in /usr/local/lib/python3.11/dist-packages (from kubernetes>=28.1.0->chromadb==0.4.22) (2025.1.31)\n",
            "Requirement already satisfied: six>=1.9.0 in /usr/local/lib/python3.11/dist-packages (from kubernetes>=28.1.0->chromadb==0.4.22) (1.17.0)\n",
            "Requirement already satisfied: python-dateutil>=2.5.3 in /usr/local/lib/python3.11/dist-packages (from kubernetes>=28.1.0->chromadb==0.4.22) (2.8.2)\n",
            "Requirement already satisfied: google-auth>=1.0.1 in /usr/local/lib/python3.11/dist-packages (from kubernetes>=28.1.0->chromadb==0.4.22) (2.38.0)\n",
            "Requirement already satisfied: websocket-client!=0.40.0,!=0.41.*,!=0.42.*,>=0.32.0 in /usr/local/lib/python3.11/dist-packages (from kubernetes>=28.1.0->chromadb==0.4.22) (1.8.0)\n",
            "Requirement already satisfied: requests-oauthlib in /usr/local/lib/python3.11/dist-packages (from kubernetes>=28.1.0->chromadb==0.4.22) (2.0.0)\n",
            "Requirement already satisfied: oauthlib>=3.2.2 in /usr/local/lib/python3.11/dist-packages (from kubernetes>=28.1.0->chromadb==0.4.22) (3.2.2)\n",
            "Requirement already satisfied: urllib3>=1.24.2 in /usr/local/lib/python3.11/dist-packages (from kubernetes>=28.1.0->chromadb==0.4.22) (2.3.0)\n",
            "Requirement already satisfied: durationpy>=0.7 in /usr/local/lib/python3.11/dist-packages (from kubernetes>=28.1.0->chromadb==0.4.22) (0.9)\n",
            "Requirement already satisfied: anyio<5,>=3 in /usr/local/lib/python3.11/dist-packages (from langchain-core<0.2,>=0.1.9->langchain==0.1.1) (4.9.0)\n",
            "Requirement already satisfied: language-data>=1.2 in /usr/local/lib/python3.11/dist-packages (from langcodes<4.0.0,>=3.2.0->spacy==3.7.6) (1.3.0)\n",
            "Requirement already satisfied: coloredlogs in /usr/local/lib/python3.11/dist-packages (from onnxruntime>=1.14.1->chromadb==0.4.22) (15.0.1)\n",
            "Requirement already satisfied: flatbuffers in /usr/local/lib/python3.11/dist-packages (from onnxruntime>=1.14.1->chromadb==0.4.22) (25.2.10)\n",
            "Requirement already satisfied: protobuf in /usr/local/lib/python3.11/dist-packages (from onnxruntime>=1.14.1->chromadb==0.4.22) (5.29.4)\n",
            "Requirement already satisfied: sympy in /usr/local/lib/python3.11/dist-packages (from onnxruntime>=1.14.1->chromadb==0.4.22) (1.13.1)\n",
            "Requirement already satisfied: deprecated>=1.2.6 in /usr/local/lib/python3.11/dist-packages (from opentelemetry-api>=1.2.0->chromadb==0.4.22) (1.2.18)\n",
            "Requirement already satisfied: importlib-metadata<8.7.0,>=6.0 in /usr/local/lib/python3.11/dist-packages (from opentelemetry-api>=1.2.0->chromadb==0.4.22) (8.6.1)\n",
            "Requirement already satisfied: googleapis-common-protos~=1.52 in /usr/local/lib/python3.11/dist-packages (from opentelemetry-exporter-otlp-proto-grpc>=1.2.0->chromadb==0.4.22) (1.70.0)\n",
            "Requirement already satisfied: opentelemetry-exporter-otlp-proto-common==1.32.1 in /usr/local/lib/python3.11/dist-packages (from opentelemetry-exporter-otlp-proto-grpc>=1.2.0->chromadb==0.4.22) (1.32.1)\n",
            "Requirement already satisfied: opentelemetry-proto==1.32.1 in /usr/local/lib/python3.11/dist-packages (from opentelemetry-exporter-otlp-proto-grpc>=1.2.0->chromadb==0.4.22) (1.32.1)\n",
            "Requirement already satisfied: opentelemetry-instrumentation-asgi==0.53b1 in /usr/local/lib/python3.11/dist-packages (from opentelemetry-instrumentation-fastapi>=0.41b0->chromadb==0.4.22) (0.53b1)\n",
            "Requirement already satisfied: opentelemetry-instrumentation==0.53b1 in /usr/local/lib/python3.11/dist-packages (from opentelemetry-instrumentation-fastapi>=0.41b0->chromadb==0.4.22) (0.53b1)\n",
            "Requirement already satisfied: opentelemetry-semantic-conventions==0.53b1 in /usr/local/lib/python3.11/dist-packages (from opentelemetry-instrumentation-fastapi>=0.41b0->chromadb==0.4.22) (0.53b1)\n",
            "Requirement already satisfied: opentelemetry-util-http==0.53b1 in /usr/local/lib/python3.11/dist-packages (from opentelemetry-instrumentation-fastapi>=0.41b0->chromadb==0.4.22) (0.53b1)\n",
            "Requirement already satisfied: wrapt<2.0.0,>=1.0.0 in /usr/local/lib/python3.11/dist-packages (from opentelemetry-instrumentation==0.53b1->opentelemetry-instrumentation-fastapi>=0.41b0->chromadb==0.4.22) (1.17.2)\n",
            "Requirement already satisfied: asgiref~=3.0 in /usr/local/lib/python3.11/dist-packages (from opentelemetry-instrumentation-asgi==0.53b1->opentelemetry-instrumentation-fastapi>=0.41b0->chromadb==0.4.22) (3.8.1)\n",
            "Requirement already satisfied: monotonic>=1.5 in /usr/local/lib/python3.11/dist-packages (from posthog>=2.4.0->chromadb==0.4.22) (1.6)\n",
            "Requirement already satisfied: backoff>=1.10.0 in /usr/local/lib/python3.11/dist-packages (from posthog>=2.4.0->chromadb==0.4.22) (2.2.1)\n",
            "Requirement already satisfied: distro>=1.5.0 in /usr/local/lib/python3.11/dist-packages (from posthog>=2.4.0->chromadb==0.4.22) (1.9.0)\n",
            "Requirement already satisfied: annotated-types>=0.6.0 in /usr/local/lib/python3.11/dist-packages (from pydantic<3,>=1->langchain==0.1.1) (0.7.0)\n",
            "Requirement already satisfied: pydantic-core==2.33.1 in /usr/local/lib/python3.11/dist-packages (from pydantic<3,>=1->langchain==0.1.1) (2.33.1)\n",
            "Requirement already satisfied: typing-inspection>=0.4.0 in /usr/local/lib/python3.11/dist-packages (from pydantic<3,>=1->langchain==0.1.1) (0.4.0)\n",
            "Requirement already satisfied: charset-normalizer<4,>=2 in /usr/local/lib/python3.11/dist-packages (from requests>=2.26.0->tiktoken==0.6.0) (3.4.1)\n",
            "Requirement already satisfied: idna<4,>=2.5 in /usr/local/lib/python3.11/dist-packages (from requests>=2.26.0->tiktoken==0.6.0) (3.10)\n",
            "Requirement already satisfied: greenlet>=1 in /usr/local/lib/python3.11/dist-packages (from SQLAlchemy<3,>=1.4->langchain==0.1.1) (3.2.1)\n",
            "Requirement already satisfied: networkx in /usr/local/lib/python3.11/dist-packages (from torch>=1.11.0->sentence-transformers==2.3.1) (3.4.2)\n",
            "Requirement already satisfied: nvidia-cuda-nvrtc-cu12==12.4.127 in /usr/local/lib/python3.11/dist-packages (from torch>=1.11.0->sentence-transformers==2.3.1) (12.4.127)\n",
            "Requirement already satisfied: nvidia-cuda-runtime-cu12==12.4.127 in /usr/local/lib/python3.11/dist-packages (from torch>=1.11.0->sentence-transformers==2.3.1) (12.4.127)\n",
            "Requirement already satisfied: nvidia-cuda-cupti-cu12==12.4.127 in /usr/local/lib/python3.11/dist-packages (from torch>=1.11.0->sentence-transformers==2.3.1) (12.4.127)\n",
            "Requirement already satisfied: nvidia-cudnn-cu12==9.1.0.70 in /usr/local/lib/python3.11/dist-packages (from torch>=1.11.0->sentence-transformers==2.3.1) (9.1.0.70)\n",
            "Requirement already satisfied: nvidia-cublas-cu12==12.4.5.8 in /usr/local/lib/python3.11/dist-packages (from torch>=1.11.0->sentence-transformers==2.3.1) (12.4.5.8)\n",
            "Requirement already satisfied: nvidia-cufft-cu12==11.2.1.3 in /usr/local/lib/python3.11/dist-packages (from torch>=1.11.0->sentence-transformers==2.3.1) (11.2.1.3)\n",
            "Requirement already satisfied: nvidia-curand-cu12==10.3.5.147 in /usr/local/lib/python3.11/dist-packages (from torch>=1.11.0->sentence-transformers==2.3.1) (10.3.5.147)\n",
            "Requirement already satisfied: nvidia-cusolver-cu12==11.6.1.9 in /usr/local/lib/python3.11/dist-packages (from torch>=1.11.0->sentence-transformers==2.3.1) (11.6.1.9)\n",
            "Requirement already satisfied: nvidia-cusparse-cu12==12.3.1.170 in /usr/local/lib/python3.11/dist-packages (from torch>=1.11.0->sentence-transformers==2.3.1) (12.3.1.170)\n",
            "Requirement already satisfied: nvidia-cusparselt-cu12==0.6.2 in /usr/local/lib/python3.11/dist-packages (from torch>=1.11.0->sentence-transformers==2.3.1) (0.6.2)\n",
            "Requirement already satisfied: nvidia-nccl-cu12==2.21.5 in /usr/local/lib/python3.11/dist-packages (from torch>=1.11.0->sentence-transformers==2.3.1) (2.21.5)\n",
            "Requirement already satisfied: nvidia-nvtx-cu12==12.4.127 in /usr/local/lib/python3.11/dist-packages (from torch>=1.11.0->sentence-transformers==2.3.1) (12.4.127)\n",
            "Requirement already satisfied: nvidia-nvjitlink-cu12==12.4.127 in /usr/local/lib/python3.11/dist-packages (from torch>=1.11.0->sentence-transformers==2.3.1) (12.4.127)\n",
            "Requirement already satisfied: triton==3.2.0 in /usr/local/lib/python3.11/dist-packages (from torch>=1.11.0->sentence-transformers==2.3.1) (3.2.0)\n",
            "Requirement already satisfied: mpmath<1.4,>=1.1.0 in /usr/local/lib/python3.11/dist-packages (from sympy->onnxruntime>=1.14.1->chromadb==0.4.22) (1.3.0)\n",
            "Requirement already satisfied: safetensors>=0.4.3 in /usr/local/lib/python3.11/dist-packages (from transformers<5.0.0,>=4.32.0->sentence-transformers==2.3.1) (0.5.3)\n",
            "Requirement already satisfied: click>=8.0.0 in /usr/local/lib/python3.11/dist-packages (from typer>=0.9.0->chromadb==0.4.22) (8.1.8)\n",
            "Requirement already satisfied: shellingham>=1.3.0 in /usr/local/lib/python3.11/dist-packages (from typer>=0.9.0->chromadb==0.4.22) (1.5.4)\n",
            "Requirement already satisfied: rich>=10.11.0 in /usr/local/lib/python3.11/dist-packages (from typer>=0.9.0->chromadb==0.4.22) (13.9.4)\n",
            "Requirement already satisfied: h11>=0.8 in /usr/local/lib/python3.11/dist-packages (from uvicorn>=0.18.3->uvicorn[standard]>=0.18.3->chromadb==0.4.22) (0.14.0)\n",
            "Requirement already satisfied: httptools>=0.6.3 in /usr/local/lib/python3.11/dist-packages (from uvicorn[standard]>=0.18.3->chromadb==0.4.22) (0.6.4)\n",
            "Requirement already satisfied: python-dotenv>=0.13 in /usr/local/lib/python3.11/dist-packages (from uvicorn[standard]>=0.18.3->chromadb==0.4.22) (1.1.0)\n",
            "Requirement already satisfied: uvloop!=0.15.0,!=0.15.1,>=0.14.0 in /usr/local/lib/python3.11/dist-packages (from uvicorn[standard]>=0.18.3->chromadb==0.4.22) (0.21.0)\n",
            "Requirement already satisfied: watchfiles>=0.13 in /usr/local/lib/python3.11/dist-packages (from uvicorn[standard]>=0.18.3->chromadb==0.4.22) (1.0.5)\n",
            "Requirement already satisfied: websockets>=10.4 in /usr/local/lib/python3.11/dist-packages (from uvicorn[standard]>=0.18.3->chromadb==0.4.22) (15.0.1)\n",
            "Requirement already satisfied: cloudpathlib<1.0.0,>=0.7.0 in /usr/local/lib/python3.11/dist-packages (from weasel<0.5.0,>=0.1.0->spacy==3.7.6) (0.21.0)\n",
            "Requirement already satisfied: smart-open<8.0.0,>=5.2.1 in /usr/local/lib/python3.11/dist-packages (from weasel<0.5.0,>=0.1.0->spacy==3.7.6) (7.1.0)\n",
            "Requirement already satisfied: MarkupSafe>=2.0 in /usr/local/lib/python3.11/dist-packages (from jinja2->spacy==3.7.6) (3.0.2)\n",
            "Requirement already satisfied: joblib in /usr/local/lib/python3.11/dist-packages (from nltk->sentence-transformers==2.3.1) (1.4.2)\n",
            "Requirement already satisfied: threadpoolctl>=3.1.0 in /usr/local/lib/python3.11/dist-packages (from scikit-learn->sentence-transformers==2.3.1) (3.6.0)\n",
            "Requirement already satisfied: sniffio>=1.1 in /usr/local/lib/python3.11/dist-packages (from anyio<5,>=3->langchain-core<0.2,>=0.1.9->langchain==0.1.1) (1.3.1)\n",
            "Requirement already satisfied: cachetools<6.0,>=2.0.0 in /usr/local/lib/python3.11/dist-packages (from google-auth>=1.0.1->kubernetes>=28.1.0->chromadb==0.4.22) (5.5.2)\n",
            "Requirement already satisfied: pyasn1-modules>=0.2.1 in /usr/local/lib/python3.11/dist-packages (from google-auth>=1.0.1->kubernetes>=28.1.0->chromadb==0.4.22) (0.4.2)\n",
            "Requirement already satisfied: rsa<5,>=3.1.4 in /usr/local/lib/python3.11/dist-packages (from google-auth>=1.0.1->kubernetes>=28.1.0->chromadb==0.4.22) (4.9.1)\n",
            "Requirement already satisfied: zipp>=3.20 in /usr/local/lib/python3.11/dist-packages (from importlib-metadata<8.7.0,>=6.0->opentelemetry-api>=1.2.0->chromadb==0.4.22) (3.21.0)\n",
            "Requirement already satisfied: marisa-trie>=1.1.0 in /usr/local/lib/python3.11/dist-packages (from language-data>=1.2->langcodes<4.0.0,>=3.2.0->spacy==3.7.6) (1.2.1)\n",
            "Requirement already satisfied: markdown-it-py>=2.2.0 in /usr/local/lib/python3.11/dist-packages (from rich>=10.11.0->typer>=0.9.0->chromadb==0.4.22) (3.0.0)\n",
            "Requirement already satisfied: pygments<3.0.0,>=2.13.0 in /usr/local/lib/python3.11/dist-packages (from rich>=10.11.0->typer>=0.9.0->chromadb==0.4.22) (2.18.0)\n",
            "Requirement already satisfied: mypy-extensions>=0.3.0 in /usr/local/lib/python3.11/dist-packages (from typing-inspect<1,>=0.4.0->dataclasses-json<0.7,>=0.5.7->langchain==0.1.1) (1.1.0)\n",
            "Requirement already satisfied: humanfriendly>=9.1 in /usr/local/lib/python3.11/dist-packages (from coloredlogs->onnxruntime>=1.14.1->chromadb==0.4.22) (10.0)\n",
            "Requirement already satisfied: mdurl~=0.1 in /usr/local/lib/python3.11/dist-packages (from markdown-it-py>=2.2.0->rich>=10.11.0->typer>=0.9.0->chromadb==0.4.22) (0.1.2)\n",
            "Requirement already satisfied: pyasn1<0.7.0,>=0.6.1 in /usr/local/lib/python3.11/dist-packages (from pyasn1-modules>=0.2.1->google-auth>=1.0.1->kubernetes>=28.1.0->chromadb==0.4.22) (0.6.1)\n",
            "Using cached numpy-1.26.4-cp311-cp311-manylinux_2_17_x86_64.manylinux2014_x86_64.whl (18.3 MB)\n",
            "Installing collected packages: numpy\n",
            "  Attempting uninstall: numpy\n",
            "    Found existing installation: numpy 2.2.5\n",
            "    Uninstalling numpy-2.2.5:\n",
            "      Successfully uninstalled numpy-2.2.5\n",
            "Successfully installed numpy-1.26.4\n"
          ]
        }
      ],
      "source": [
        "# For installing the libraries & downloading models from HF Hub\n",
        "!pip install tiktoken==0.6.0 pymupdf==1.25.1 langchain==0.1.1 langchain-community==0.0.13 chromadb==0.4.22 sentence-transformers==2.3.1 thinc==8.2.5 spacy==3.7.6"
      ]
    },
    {
      "cell_type": "code",
      "execution_count": 9,
      "metadata": {
        "id": "RTY9GN4oWK3g"
      },
      "outputs": [],
      "source": [
        "#Libraries for processing dataframes,text\n",
        "import json,os\n",
        "import tiktoken\n",
        "import pandas as pd\n",
        "\n",
        "#Libraries for Loading Data, Chunking, Embedding, and Vector Databases\n",
        "from langchain.text_splitter import RecursiveCharacterTextSplitter\n",
        "from langchain_community.document_loaders import PyMuPDFLoader\n",
        "from langchain_community.embeddings.sentence_transformer import SentenceTransformerEmbeddings\n",
        "from langchain_community.vectorstores import Chroma\n",
        "\n",
        "#Libraries for downloading and loading the llm\n",
        "from huggingface_hub import hf_hub_download\n",
        "from llama_cpp import Llama"
      ]
    },
    {
      "cell_type": "markdown",
      "metadata": {
        "id": "TtZWqj0wFTS1"
      },
      "source": [
        "## Question Answering using LLM"
      ]
    },
    {
      "cell_type": "markdown",
      "metadata": {
        "id": "Uq1lhM4WFTS2"
      },
      "source": [
        "#### Downloading and Loading the model"
      ]
    },
    {
      "cell_type": "code",
      "source": [
        "model_name_or_path = \"TheBloke/Llama-2-13B-chat-GGUF\"\n",
        "model_basename = \"llama-2-13b-chat.Q5_K_M.gguf\" # the model is in gguf format"
      ],
      "metadata": {
        "id": "dA3XQMWmQLJp"
      },
      "execution_count": 10,
      "outputs": []
    },
    {
      "cell_type": "code",
      "source": [
        "# Using hf_hub_download to download a model from the Hugging Face model hub\n",
        "# The repo_id parameter specifies the model name or path in the Hugging Face repository\n",
        "# The filename parameter specifies the name of the file to download\n",
        "model_path = hf_hub_download(\n",
        "    repo_id=model_name_or_path,\n",
        "    filename=model_basename\n",
        ")"
      ],
      "metadata": {
        "id": "RO115bAyIo42",
        "colab": {
          "base_uri": "https://localhost:8080/",
          "height": 153,
          "referenced_widgets": [
            "9a470e57589a4eeab5e7f6d26ee3d8fa",
            "87d3d5b04da243d899199bc4caa06b0b",
            "83c185388787453da212b10185fa68d4",
            "a16d7a6cdc1c472f957f94bbde961ca6",
            "4541aa26bba44d7f8a745763f8925ed5",
            "c59f5087812046a4a8a9f0d0ebaf5294",
            "0ce7098ec7f64f2ca68eff250cc4a6ed",
            "db2acf8acd4d44eb8dee5eb99df00dbc",
            "2a7e72176c5d4c4d8740a5f54a80d96c",
            "ce3fee68de9d4754b6c413896440d697",
            "f6c4bc34138242c29c94d6c1a892d57e"
          ]
        },
        "outputId": "eb0777da-80be-448c-f721-6a1a5aedee83"
      },
      "execution_count": 11,
      "outputs": [
        {
          "output_type": "stream",
          "name": "stderr",
          "text": [
            "/usr/local/lib/python3.11/dist-packages/huggingface_hub/utils/_auth.py:94: UserWarning: \n",
            "The secret `HF_TOKEN` does not exist in your Colab secrets.\n",
            "To authenticate with the Hugging Face Hub, create a token in your settings tab (https://huggingface.co/settings/tokens), set it as secret in your Google Colab and restart your session.\n",
            "You will be able to reuse this secret in all of your notebooks.\n",
            "Please note that authentication is recommended but still optional to access public models or datasets.\n",
            "  warnings.warn(\n"
          ]
        },
        {
          "output_type": "display_data",
          "data": {
            "text/plain": [
              "llama-2-13b-chat.Q5_K_M.gguf:   0%|          | 0.00/9.23G [00:00<?, ?B/s]"
            ],
            "application/vnd.jupyter.widget-view+json": {
              "version_major": 2,
              "version_minor": 0,
              "model_id": "9a470e57589a4eeab5e7f6d26ee3d8fa"
            }
          },
          "metadata": {}
        }
      ]
    },
    {
      "cell_type": "code",
      "source": [
        "lcpp_llm = Llama(\n",
        "    model_path=model_path,\n",
        "    n_threads=2,  # CPU cores\n",
        "    n_batch=512,  # Should be between 1 and n_ctx, consider the amount of VRAM in your GPU.\n",
        "    n_gpu_layers=43,  # Change this value based on your model and your GPU VRAM pool.\n",
        "    n_ctx=4096,  # Context window\n",
        ")"
      ],
      "metadata": {
        "colab": {
          "base_uri": "https://localhost:8080/"
        },
        "id": "_8vlIQbUJTPc",
        "outputId": "8e825f2f-b318-40c4-e358-163d529a5a87"
      },
      "execution_count": 12,
      "outputs": [
        {
          "output_type": "stream",
          "name": "stderr",
          "text": [
            "AVX = 1 | AVX_VNNI = 0 | AVX2 = 1 | AVX512 = 1 | AVX512_VBMI = 0 | AVX512_VNNI = 0 | FMA = 1 | NEON = 0 | ARM_FMA = 0 | F16C = 1 | FP16_VA = 0 | WASM_SIMD = 0 | BLAS = 1 | SSE3 = 1 | SSSE3 = 1 | VSX = 0 | \n"
          ]
        }
      ]
    },
    {
      "cell_type": "markdown",
      "metadata": {
        "id": "EzzkvIXvFTS4"
      },
      "source": [
        "#### Response Function"
      ]
    },
    {
      "cell_type": "code",
      "source": [
        "def response(query,max_tokens=128,temperature=0,top_p=0.95,top_k=50):\n",
        "    model_output = lcpp_llm(\n",
        "      prompt=query,\n",
        "      max_tokens=max_tokens,\n",
        "      temperature=temperature,\n",
        "      top_p=top_p,\n",
        "      top_k=top_k\n",
        "    )\n",
        "\n",
        "    return model_output['choices'][0]['text']"
      ],
      "metadata": {
        "id": "hG_IaZj0QLw4"
      },
      "execution_count": 109,
      "outputs": []
    },
    {
      "cell_type": "markdown",
      "metadata": {
        "id": "K8YgK91SFjVY"
      },
      "source": [
        "### Query 1: What is the protocol for managing sepsis in a critical care unit?"
      ]
    },
    {
      "cell_type": "code",
      "source": [
        "user_prompt_sepsis_no_gen = \"What is the protocol for managing sepsis in a critical care unit?\"\n",
        "response = response(user_prompt_sepsis_no_gen)\n",
        "print(response)"
      ],
      "metadata": {
        "id": "-JLIVmpPQH0f",
        "colab": {
          "base_uri": "https://localhost:8080/"
        },
        "outputId": "f72e52c6-09fa-4d84-a56d-8eb19f11a9c1"
      },
      "execution_count": 108,
      "outputs": [
        {
          "output_type": "stream",
          "name": "stderr",
          "text": [
            "Llama.generate: prefix-match hit\n"
          ]
        },
        {
          "output_type": "stream",
          "name": "stdout",
          "text": [
            "\n",
            "Sepsis is a life-threatening condition that can arise from an infection, and it is a leading cause of death in hospitals. The management of sepsis in a critical care unit requires a protocol that includes early recognition, prompt treatment, and ongoing monitoring. Here are the key components of a sepsis protocol for managing patients in a critical care unit:\n",
            "\n",
            "1. Early recognition: Sepsis can be difficult to diagnose, but it is essential to identify patients who are at risk of developing sepsis early. The protocol should include a systematic assessment of patients\n"
          ]
        }
      ]
    },
    {
      "cell_type": "markdown",
      "metadata": {
        "id": "J6yxICeVFjVc"
      },
      "source": [
        "### Query 2: What are the common symptoms for appendicitis, and can it be cured via medicine? If not, what surgical procedure should be followed to treat it?"
      ]
    },
    {
      "cell_type": "code",
      "source": [
        "user_prompt_appendicitis_no_gen = \"What are the common symptoms for appendicitis, and can it be cured via medicine? If not, what surgical procedure should be followed to treat it?\"\n",
        "response = response(user_prompt_appendicitis_no_gen)\n",
        "print(response)"
      ],
      "metadata": {
        "id": "BdiHRgEqQIP9",
        "colab": {
          "base_uri": "https://localhost:8080/"
        },
        "outputId": "b042b5a9-1253-4c98-f1e4-739fd1cf5d3b"
      },
      "execution_count": 110,
      "outputs": [
        {
          "output_type": "stream",
          "name": "stderr",
          "text": [
            "Llama.generate: prefix-match hit\n"
          ]
        },
        {
          "output_type": "stream",
          "name": "stdout",
          "text": [
            "\n",
            "\n",
            "Answer:\n",
            "\n",
            "Appendicitis is a medical emergency that requires prompt treatment. The common symptoms of appendicitis include:\n",
            "\n",
            "1. Severe pain in the abdomen, usually starting near the belly button and then moving to the lower right side of the abdomen.\n",
            "2. Nausea and vomiting.\n",
            "3. Loss of appetite.\n",
            "4. Fever.\n",
            "5. Abdominal tenderness and guarding (muscle tension).\n",
            "6. Abdominal swelling.\n",
            "7. Diarrhea or constipation.\n"
          ]
        }
      ]
    },
    {
      "cell_type": "markdown",
      "metadata": {
        "id": "oflaoOGiFjVd"
      },
      "source": [
        "### Query 3: What are the effective treatments or solutions for addressing sudden patchy hair loss, commonly seen as localized bald spots on the scalp, and what could be the possible causes behind it?"
      ]
    },
    {
      "cell_type": "code",
      "source": [
        "user_prompt_hairloss_no_gen = \"What are the effective treatments or solutions for addressing sudden patchy hair loss, commonly seen as localized bald spots on the scalp, and what could be the possible causes behind it?\"\n",
        "response = response(user_prompt_hairloss_no_gen)\n",
        "print(response)"
      ],
      "metadata": {
        "id": "N-mx9yboQIt-",
        "colab": {
          "base_uri": "https://localhost:8080/"
        },
        "outputId": "397ba4fe-d078-4661-9abb-c2a115768d09"
      },
      "execution_count": 21,
      "outputs": [
        {
          "output_type": "stream",
          "name": "stderr",
          "text": [
            "Llama.generate: prefix-match hit\n"
          ]
        },
        {
          "output_type": "stream",
          "name": "stdout",
          "text": [
            "\n",
            "Sudden patchy hair loss, also known as alopecia areata, can be caused by a variety of factors. Here are some effective treatments and solutions for addressing this condition:\n",
            "\n",
            "1. Corticosteroid injections: These injections can help suppress the immune system and promote hair growth. They are usually given every 4-6 weeks and can be effective in promoting hair regrowth.\n",
            "2. Topical corticosteroids: Over-the-counter or prescription topical corticosteroids can be applied directly to the affected area to reduce inflamm\n"
          ]
        }
      ]
    },
    {
      "cell_type": "markdown",
      "metadata": {
        "id": "WUUqY4FbFjVe"
      },
      "source": [
        "### Query 4:  What treatments are recommended for a person who has sustained a physical injury to brain tissue, resulting in temporary or permanent impairment of brain function?"
      ]
    },
    {
      "cell_type": "code",
      "source": [
        "user_prompt_injury_no_gen = \"What treatments are recommended for a person who has sustained a physical injury to brain tissue, resulting in temporary or permanent impairment of brain function?\"\n",
        "response = response(user_prompt_injury_no_gen)\n",
        "print(response)"
      ],
      "metadata": {
        "id": "TEsVMaKaQJzh",
        "colab": {
          "base_uri": "https://localhost:8080/"
        },
        "outputId": "007c96f0-32e7-476b-c3b1-5c3a4d070fe7"
      },
      "execution_count": 23,
      "outputs": [
        {
          "output_type": "stream",
          "name": "stderr",
          "text": [
            "Llama.generate: prefix-match hit\n"
          ]
        },
        {
          "output_type": "stream",
          "name": "stdout",
          "text": [
            "\n",
            "There are several treatments that may be recommended for a person who has sustained a physical injury to brain tissue, resulting in temporary or permanent impairment of brain function. The specific treatment plan will depend on the location and severity of the injury, as well as the individual's overall health and medical history. Some common treatments for brain injuries include:\n",
            "\n",
            "1. Medications: To manage symptoms such as pain, inflammation, and anxiety.\n",
            "2. Rehabilitation therapy: To help regain lost function and improve cognitive, physical, and emotional abilities.\n"
          ]
        }
      ]
    },
    {
      "cell_type": "markdown",
      "metadata": {
        "id": "5laPFTHrFjVf"
      },
      "source": [
        "### Query 5: What are the necessary precautions and treatment steps for a person who has fractured their leg during a hiking trip, and what should be considered for their care and recovery?"
      ]
    },
    {
      "cell_type": "code",
      "source": [
        "user_prompt_fractured_no_gen = \"What are the necessary precautions and treatment steps for a person who has fractured their leg during a hiking trip, and what should be considered for their care and recovery?\"\n",
        "response = response(user_prompt_fractured_no_gen)\n",
        "print(response)"
      ],
      "metadata": {
        "id": "VfrlmrP5QKJz",
        "colab": {
          "base_uri": "https://localhost:8080/"
        },
        "outputId": "25a32b0d-f756-43f7-d4e7-2ce2fb86b04b"
      },
      "execution_count": 25,
      "outputs": [
        {
          "output_type": "stream",
          "name": "stderr",
          "text": [
            "Llama.generate: prefix-match hit\n"
          ]
        },
        {
          "output_type": "stream",
          "name": "stdout",
          "text": [
            "\n",
            "\n",
            "A person who has fractured their leg during a hiking trip requires prompt medical attention to ensure proper healing and prevent complications. Here are some necessary precautions and treatment steps:\n",
            "\n",
            "1. Stop all activity: The first step is to stop all activity and rest the affected leg immediately. This will help prevent further damage and reduce the risk of complications.\n",
            "2. Assess the severity of the injury: Evaluate the extent of the fracture and determine if there are any other injuries that require attention.\n",
            "3. Immobilize the leg: Use a splint\n"
          ]
        }
      ]
    },
    {
      "cell_type": "markdown",
      "metadata": {
        "id": "g5myZ5dOOefc"
      },
      "source": [
        "## Question Answering using LLM with Prompt Engineering"
      ]
    },
    {
      "cell_type": "markdown",
      "source": [
        "### Defining Model Response Parameters"
      ],
      "metadata": {
        "id": "JlYpcbi1IqtS"
      }
    },
    {
      "cell_type": "code",
      "source": [
        "def generate_llama_response(instruction):\n",
        "\n",
        "    # System message explicitly instructing not to include the review text\n",
        "    system_message = \"\"\"\n",
        "        [INST]<<SYS>>\n",
        "        {}\n",
        "        <</SYS>>[/INST]\n",
        "    \"\"\".format(instruction)\n",
        "\n",
        "    # Combine user_prompt and system_message to create the prompt\n",
        "    prompt = f\"{instruction}\\n{system_message}\"\n",
        "\n",
        "    # Generate a response from the LLaMA model\n",
        "    response = lcpp_llm(\n",
        "        prompt=prompt,\n",
        "        max_tokens=2048,\n",
        "        temperature=0,\n",
        "        top_p=0.95,\n",
        "        repeat_penalty=1.2,\n",
        "        top_k=50,\n",
        "        stop=['INST'],\n",
        "        echo=False,\n",
        "        seed=42,\n",
        "    )\n",
        "\n",
        "    # Extract the sentiment from the response\n",
        "    response_text = response[\"choices\"][0][\"text\"]\n",
        "    return response_text"
      ],
      "metadata": {
        "id": "Hl-wHJi9I2AH"
      },
      "execution_count": 26,
      "outputs": []
    },
    {
      "cell_type": "markdown",
      "source": [
        "- **`max_tokens`**: This parameter **specifies the maximum number of tokens that the model should generate** in response to the prompt.\n",
        "\n",
        "- **`temperature`**: This parameter **controls the randomness of the generated response**. A higher temperature value will result in a more random response, while a lower temperature value will result in a more predictable response.\n",
        "\n",
        "- **`top_p`**: This parameter **controls the diversity of the generated response by establishing a cumulative probability cutoff for token selection**. A higher value of top_p will result in a more diverse response, while a lower value will result in a less diverse response.\n",
        "\n",
        "- **`repeat_penalty`**: This parameter **controls the penalty for repeating tokens in the generated response**. A higher value of repeat_penalty will result in a lower probability of repeating tokens, while a lower value will result in a higher probability of repeating tokens.\n",
        "\n",
        "- **`top_k`**: This parameter **controls the maximum number of most-likely next tokens to consider** when generating the response at each step.\n",
        "\n",
        "- **`stop`**: This parameter is a **list of tokens that are used to dynamically stop response generation** whenever the tokens in the list are encountered.\n",
        "\n",
        "- **`echo`**: This parameter **controls whether the input (prompt) to the model should be returned** in the model response.\n",
        "\n",
        "- **`seed`**: This parameter **specifies a seed value that helps replicate results**."
      ],
      "metadata": {
        "id": "DOmzJlTFJB2l"
      }
    },
    {
      "cell_type": "markdown",
      "metadata": {
        "id": "9Jg3r_LWOeff"
      },
      "source": [
        "### Query 1: What is the protocol for managing sepsis in a critical care unit?"
      ]
    },
    {
      "cell_type": "code",
      "source": [
        "# defining the response instructions for question regarding protocol for managing sepsis in a critical unit.\n",
        "instruction_1 = \"\"\"\n",
        "    You are managing sepsis in a critical care unit. In a manual format to be used by unit personnel please explain the protocol for managing sepsis in a critical care unit.\n",
        "\"\"\""
      ],
      "metadata": {
        "id": "G-VZKEvCJfkQ"
      },
      "execution_count": 27,
      "outputs": []
    },
    {
      "cell_type": "code",
      "source": [
        "response= generate_llama_response(instruction_1)"
      ],
      "metadata": {
        "id": "YqM4VMw5ROhX",
        "colab": {
          "base_uri": "https://localhost:8080/"
        },
        "outputId": "216d8698-cf85-4d76-b822-7f53d55dc577"
      },
      "execution_count": 28,
      "outputs": [
        {
          "output_type": "stream",
          "name": "stderr",
          "text": [
            "Llama.generate: prefix-match hit\n"
          ]
        }
      ]
    },
    {
      "cell_type": "code",
      "source": [
        "print(response)"
      ],
      "metadata": {
        "colab": {
          "base_uri": "https://localhost:8080/"
        },
        "id": "p-qfvKc9K6LD",
        "outputId": "d1630faf-8f86-4204-ff9a-906876acb3f4"
      },
      "execution_count": 29,
      "outputs": [
        {
          "output_type": "stream",
          "name": "stdout",
          "text": [
            " Sepsis Protocol for Critical Care Unit:\n",
            "\n",
            "I. Introduction\n",
            "---------------\n",
            "\n",
            "Sepsis is a life-threatening condition that can arise from an infection, and it is a medical emergency. The goal of this protocol is to provide a standardized approach to managing sepsis in the critical care unit. This protocol outlines the assessment, diagnosis, and management of sepsis, including early recognition, prompt intervention, and ongoing monitoring.\n",
            "\n",
            "II. Assessment and Diagnosis\n",
            "---------------------------\n",
            "\n",
            "A. Initial Assessment\n",
            "\n",
            "1. Vital signs: temperature, blood pressure, heart rate, respiratory rate, oxygen saturation (SpO2)\n",
            "2. Physical examination: general condition, including level of consciousness, pupillary response, and peripheral circulation\n",
            "3. Review of medical history: underlying conditions, allergies, medications, and recent infections or surgeries\n",
            "4. Laboratory tests: complete blood count (CBC), serum electrolytes, renal function tests, and blood cultures as appropriate\n",
            "5. Imaging studies: chest X-ray, computed tomography (CT) scan, or magnetic resonance imaging (MRI) if clinically indicated\n",
            "\n",
            "B. Diagnostic Criteria for Sepsis\n",
            "\n",
            "1. Systemic inflammatory response syndrome (SIRS) criteria: body temperature >38°C or <36°C, heart rate >90 beats per minute, respiratory rate >20 breaths per minute, and white blood cell count ≥12,000 cells/mm3 or <4,000 cells/mm3\n",
            "2. Sepsis-induced organ dysfunction: acute kidney injury (AKI), hepatic dysfunction, cardiovascular instability, and respiratory failure\n",
            "\n",
            "III. Management of Sepsis\n",
            "---------------------------\n",
            "\n",
            "A. Early Recognition and Intervention\n",
            "\n",
            "1. Administer broad-spectrum antibiotics within the first hour of recognition of sepsis\n",
            "2. Initiate fluid resuscitation with crystalloids or colloids as appropriate\n",
            "3. Manage pain and discomfort with opioid analgesia and other supportive measures\n",
            "4. Maintain adequate oxygenation and ventilation\n",
            "5. Monitor for signs of sepsis progression, including changes in vital signs, laboratory values, and clinical status\n",
            "\n",
            "B. Management of Severe Sepsis\n",
            "\n",
            "1. In addition to the above interventions:\n",
            "2. Administer vasopressors as needed to maintain mean arterial pressure (MAP) ≥65 mmHg\n",
            "3. Provide mechanical ventilation if respiratory failure persists despite optimal supportive care\n",
            "4. Consider invasive hemodynamic monitoring and management strategies, such as pulmonary artery catheterization or vasopressor therapy, in patients with severe sepsis and cardiovascular instability\n",
            "5. Evaluate for potential sources of infection and manage appropriately\n",
            "\n",
            "C. Management of Septic Shock\n",
            "\n",
            "1. In addition to the above interventions:\n",
            "2. Administer corticosteroids as soon as possible after recognition of septic shock, followed by antibiotics if not already given\n",
            "3. Consider vasopressor therapy and mechanical ventilation in patients with refractory hypotension or respiratory failure despite optimal supportive care\n",
            "4. Evaluate for potential sources of infection and manage appropriately\n",
            "5. Monitor for signs of multiple organ dysfunction syndrome (MODS) and provide appropriate supportive therapies\n",
            "\n",
            "IV. Ongoing Monitoring and Management\n",
            "-----------------------------------\n",
            "\n",
            "A. Vital Signs and Clinical Status\n",
            "\n",
            "1. Continuously monitor vital signs, including temperature, blood pressure, heart rate, respiratory rate, and oxygen saturation (SpO2)\n",
            "2. Assess clinical status, including level of consciousness, pupillary response, and peripheral circulation\n",
            "3. Monitor for signs of sepsis progression or complications, such as AKI, hepatic dysfunction, cardiovascular instability, and respiratory failure\n",
            "\n",
            "B. Laboratory Tests and Imaging Studies\n",
            "\n",
            "1. Repeat laboratory tests as clinically indicated to monitor for changes in inflammatory markers, organ function, and infectious status\n",
            "2. Obtain repeat imaging studies if clinically indicated to assess for progression of infection or organ dysfunction\n",
            "\n",
            "C. Pain Management and Comfort Measures\n",
            "\n",
            "1. Provide adequate pain management with opioid analgesia and other supportive measures as needed\n",
            "2. Ensure comfort measures, such as positioning, hydration, and hygiene, are maintained throughout the patient's stay in the critical care unit\n",
            "\n",
            "V. Discharge Criteria\n",
            "----------------------\n",
            "\n",
            "A. Patients with Sepsis\n",
            "\n",
            "1. Meet SIRS criteria and have a confirmed or suspected infection\n",
            "2. Have improved clinical status and resolution of signs of sepsis\n",
            "3. Have normalized laboratory values, including white blood cell count and organ function tests\n",
            "4. Be stable on appropriate antibiotics and supportive care\n",
            "5. Have a clear discharge plan and follow-up appointment with a primary care physician or specialist\n",
            "\n",
            "B. Patients with Severe Sepsis or Septic Shock\n",
            "\n",
            "1. Meet SIRS criteria and have a confirmed or suspected infection\n",
            "2. Have improved clinical status and resolution of signs of sepsis\n",
            "3. Have normalized laboratory values, including white blood cell count and organ function tests\n",
            "4. Be stable on appropriate antibiotics and supportive care, including vasopressors and mechanical ventilation if necessary\n",
            "5. Have a clear discharge plan and follow-up appointment with a primary care physician or specialist\n",
            "6. Consider early transfer to a rehabilitation facility for patients who require prolonged critical care stay\n",
            "\n",
            "VI. Follow-Up Care\n",
            "------------------\n",
            "\n",
            "A. Outpatient Follow-Up\n",
            "\n",
            "1. Schedule an outpatient follow-up appointment within 24-48 hours of discharge\n",
            "2. Monitor for signs of recurrent infection or sepsis, including fever, chills, and changes in clinical status\n",
            "3. Provide education on antibiotic therapy, wound care, and symptom management\n",
            "\n",
            "B. Inpatient Follow-Up\n",
            "\n",
            "1. Monitor patients with severe sepsis or septic shock for signs of recurrent infection or organ dysfunction during their hospital stay\n",
            "2. Adjust treatment plans as needed based on clinical status and laboratory values\n",
            "3. Consider early transfer to a rehabilitation facility for patients who require prolonged critical care stay\n",
            "\n",
            "VII. Conclusion\n",
            "--------------\n",
            "\n",
            "Sepsis is a life-threatening condition that requires prompt recognition, diagnosis, and management in the critical care unit. This protocol outlines the assessment, diagnosis, and management of sepsis, including early recognition, prompt intervention, and ongoing monitoring. By following this protocol, we can improve patient outcomes and reduce morbidity and mortality from sepsis.\n"
          ]
        }
      ]
    },
    {
      "cell_type": "markdown",
      "metadata": {
        "id": "iYpyw4HjOeff"
      },
      "source": [
        "### Query 2: What are the common symptoms for appendicitis, and can it be cured via medicine? If not, what surgical procedure should be followed to treat it?"
      ]
    },
    {
      "cell_type": "code",
      "source": [
        "# defining the response instructions for common symptoms for appendicitis, and can it be cured via medicine? If not, what surgical procedure should be followed to treat it.\n",
        "instruction_2 = \"\"\"\n",
        "    The topic is related to common symptoms for appendicitis. Divide the response for each part of the subquestons of the following general question:\n",
        "     What are the common symptoms for appendicitis, and can it be cured via medicine? If not, what surgical procedure should be followed to treat it?\n",
        "      Please answer in a bullet point format, be specific for the surgical procedure, and list at least 3 common symptoms.\n",
        "\"\"\""
      ],
      "metadata": {
        "id": "GXl09pFfRPBr"
      },
      "execution_count": 30,
      "outputs": []
    },
    {
      "cell_type": "code",
      "source": [
        "response= generate_llama_response(instruction_2)"
      ],
      "metadata": {
        "colab": {
          "base_uri": "https://localhost:8080/"
        },
        "id": "SsNQUtU4aEUk",
        "outputId": "ebc2852b-3e96-4dea-837f-605fc55a1f14"
      },
      "execution_count": 31,
      "outputs": [
        {
          "output_type": "stream",
          "name": "stderr",
          "text": [
            "Llama.generate: prefix-match hit\n"
          ]
        }
      ]
    },
    {
      "cell_type": "code",
      "source": [
        "print(response)"
      ],
      "metadata": {
        "colab": {
          "base_uri": "https://localhost:8080/"
        },
        "id": "nWdd5A_8aJEA",
        "outputId": "7e1d7e75-f42e-414a-d690-a3497177c55f"
      },
      "execution_count": 32,
      "outputs": [
        {
          "output_type": "stream",
          "name": "stdout",
          "text": [
            " Sure, I'd be happy to help! Here are the answers to each part of the question:\n",
            "\n",
            "Part 1: Common Symptoms for Appendicitis\n",
            "\n",
            "* Severe pain in the lower right abdomen that starts suddenly and worsens over time\n",
            "\t+ Pain may be described as a sharp, stabbing sensation or a dull ache\n",
            "\t+ Pain may be worse with movement or deep breathing\n",
            "* Nausea and vomiting\n",
            "* Loss of appetite and inability to eat due to pain\n",
            "* Fever and chills\n",
            "* Abdominal tenderness and guarding (muscle tension)\n",
            "* Palpable abdominal mass (the appendix can be felt through the abdominal wall)\n",
            "\n",
            "Part 2: Can Appendicitis Be Cured Via Medicine?\n",
            "\n",
            "No, appendicitis cannot be cured via medicine. The only effective treatment for appendicitis is surgical removal of the inflamed appendix.\n",
            "\n",
            "Part 3: Surgical Procedure for Treating Appendicitis\n",
            "\n",
            "The most common surgical procedure for treating appendicitis is a laparoscopic appendectomy, which involves the following steps:\n",
            "\n",
            "* General anesthesia is administered to the patient.\n",
            "* Small incisions are made in the abdomen, and a laparoscope (a thin tube with a camera and light) is inserted through one of the incisions.\n",
            "* The surgeon uses the laparoscope to visualize the appendix and surrounding tissue.\n",
            "* Specialized instruments are used to remove the inflamed appendix through another incision.\n",
            "* The incisions are closed, usually with stitches or adhesive strips.\n",
            "\n",
            "At least 3 common symptoms of appendicitis that can be identified before surgery include:\n",
            "\n",
            "1. Severe pain in the lower right abdomen that starts suddenly and worsens over time.\n",
            "2. Nausea and vomiting.\n",
            "3. Fever and chills.\n"
          ]
        }
      ]
    },
    {
      "cell_type": "markdown",
      "metadata": {
        "id": "dRp92JQZOeff"
      },
      "source": [
        "### Query 3: What are the effective treatments or solutions for addressing sudden patchy hair loss, commonly seen as localized bald spots on the scalp, and what could be the possible causes behind it?"
      ]
    },
    {
      "cell_type": "code",
      "source": [
        "# defining the response instructions for the effective treatments or solutions for addressing sudden patchy hair loss, commonly seen as localized bald spots on the scalp, and what could be the possible causes behind it\n",
        "instruction_3 = \"\"\"\n",
        "Act as a medical advisor. Provide a detailed explanation of the possible medical and non-medical causes of sudden patchy hair loss, commonly seen as localized bald spots on the scalp.\n",
        " Then, outline the most effective evidence-based treatments or management strategies for these conditions, and when to consult a healthcare provider.\n",
        "Organize the response clearly under 'Causes' and 'Treatments' headings\n",
        "\"\"\""
      ],
      "metadata": {
        "id": "JOgATEpMRPve"
      },
      "execution_count": 33,
      "outputs": []
    },
    {
      "cell_type": "code",
      "source": [
        "response= generate_llama_response(instruction_3)"
      ],
      "metadata": {
        "colab": {
          "base_uri": "https://localhost:8080/"
        },
        "id": "tQXey_xgcz5H",
        "outputId": "7d5075fe-278d-4132-c60c-49e33fb12b1b"
      },
      "execution_count": 34,
      "outputs": [
        {
          "output_type": "stream",
          "name": "stderr",
          "text": [
            "Llama.generate: prefix-match hit\n"
          ]
        }
      ]
    },
    {
      "cell_type": "code",
      "source": [
        "print(response)"
      ],
      "metadata": {
        "colab": {
          "base_uri": "https://localhost:8080/"
        },
        "id": "FHY3mzrCc7uF",
        "outputId": "aa50b5a5-b204-4104-fb9d-6b04f866d3fe"
      },
      "execution_count": 35,
      "outputs": [
        {
          "output_type": "stream",
          "name": "stdout",
          "text": [
            " As a medical advisor, I can provide information on possible causes of sudden patchy hair loss, commonly seen as localized bald spots on the scalp. It is essential to note that this condition may be caused by both medical and non-medical factors. Here are some potential causes: \n",
            "\n",
            "Causes:  \n",
            "\n",
            "1. Alopecia Areata - This autoimmune disorder can cause sudden hair loss in patches, often resulting in smooth bald spots on the scalp. It may also affect other parts of the body.\n",
            "2. Telogen Effluvium - A stress-induced condition that causes excessive hair shedding and sudden patchy hair loss due to an increase in telogen phase hair follicles. \n",
            "3. Anemia - Iron deficiency or pernicious anemia can cause hair thinning, leading to localized bald spots on the scalp.  \n",
            "4. Thyroid Disorders - Both hypothyroidism and hyperthyroidism have been linked to sudden patchy hair loss. \n",
            "5. Medications - Certain medications such as chemotherapy drugs, blood thinners, and birth control pills can cause hair loss as a side effect.  \n",
            "6. Infections - Fungal infections of the scalp (ringworm) or bacterial infections like folliculitis can lead to localized bald spots on the scalp. \n",
            "7. Traction Alopecia - Prolonged use of tight hairstyles such as braids, ponytails, and cornrows can cause hair loss due to traction on the scalp.  \n",
            "8. Inflammation - Conditions like folliculitis or eczema that cause inflammation on the scalp may lead to sudden patchy hair loss. \n",
            "9. Hormonal Imbalance - Hormonal fluctuations during pregnancy, childbirth, menopause, or polycystic ovary syndrome (PCOS) can cause localized bald spots on the scalp.  \n",
            "10. Nutritional Deficiencies - Lack of essential nutrients like zinc, vitamin D, and iron may contribute to sudden patchy hair loss. \n",
            "\n",
            "Treatments:  \n",
            "\n",
            "1. Medications for Alopecia Areata - Corticosteroids can help suppress the immune system and promote hair growth in cases of alopecia areata. Minoxidil (Rogaine) may also be effective in stimulating hair regrowth. \n",
            "2. Treatment of Underlying Conditions - Addressing underlying conditions such as thyroid disorders, anemia, or hormonal imbalances can help resolve sudden patchy hair loss.  \n",
            "3. Dietary Changes - Increasing intake of essential nutrients like zinc, iron, and biotin may promote hair growth and reduce localized bald spots on the scalp. \n",
            "4. Reducing Stress - Managing stress through relaxation techniques or therapy can help resolve telogen effluvium and prevent further hair loss.  \n",
            "5. Hair Care - Proper hair care, including regular washing, conditioning, and avoiding heat styling tools, can reduce the risk of traction alopecia and other forms of hair damage. \n",
            "6. Low-Level Laser Therapy (LLLT) - LLLT may promote hair growth by increasing blood flow to the scalp and stimulating hair follicles.  \n",
            "7. Platelet-Rich Plasma (PRP) Therapy - PRP therapy involves injecting platelets rich in growth factors into the scalp, which can stimulate hair regrowth. \n",
            "8. Hair Transplantation - In severe cases of localized bald spots, hair transplantation may be considered to restore a natural-looking hairline and fill in patchy areas.  \n",
            "9. Wigs or Hairpieces - Temporary solutions like wigs or hairpieces can help individuals with sudden patchy hair loss address cosmetic concerns until their hair grows back naturally. \n",
            "10. Consulting a Healthcare Provider - If you experience sudden patchy hair loss, it is essential to consult a healthcare provider for proper diagnosis and treatment. They may recommend one or more of the above treatments based on your specific condition.  \n",
            "\n",
            "In conclusion, sudden patchy hair loss can be caused by both medical and non-medical factors. It is crucial to identify the underlying cause and seek professional help if you experience persistent or worsening symptoms. By understanding these causes and evidence-based treatments, individuals with localized bald spots on their scalp can take steps towards addressing this condition and restoring a healthy head of hair.\n"
          ]
        }
      ]
    },
    {
      "cell_type": "markdown",
      "metadata": {
        "id": "AA45zwyUOefg"
      },
      "source": [
        "### Query 4:  What treatments are recommended for a person who has sustained a physical injury to brain tissue, resulting in temporary or permanent impairment of brain function?"
      ]
    },
    {
      "cell_type": "code",
      "source": [
        "# defining the response instructions for What treatments are recommended for a person who has sustained a physical injury to brain tissue,\n",
        "# resulting in temporary or permanent impairment of brain function?\n",
        "instruction_4 = \"\"\"\n",
        "Explain in simple and clear terms the treatments recommended for someone who has experienced a brain injury that affects their thinking, movement, or memory.\n",
        "Include examples of therapies, medications, and support systems that help with recovery.\n",
        "Write as if you're educating a family member of the patient who has no medical background.List in bullet points the most important points.\n",
        "\"\"\""
      ],
      "metadata": {
        "id": "VA7G8FOnRQZY"
      },
      "execution_count": 36,
      "outputs": []
    },
    {
      "cell_type": "code",
      "source": [
        "response= generate_llama_response(instruction_4)"
      ],
      "metadata": {
        "colab": {
          "base_uri": "https://localhost:8080/"
        },
        "id": "1eW96rRHg5h6",
        "outputId": "df8dd68b-9c2b-42f3-cb77-04b62bc26b83"
      },
      "execution_count": 37,
      "outputs": [
        {
          "output_type": "stream",
          "name": "stderr",
          "text": [
            "Llama.generate: prefix-match hit\n"
          ]
        }
      ]
    },
    {
      "cell_type": "code",
      "source": [
        "print(response)"
      ],
      "metadata": {
        "colab": {
          "base_uri": "https://localhost:8080/"
        },
        "id": "O6p2AtMnhAKq",
        "outputId": "3057e138-a4ec-4b42-dfa2-b731dd2232c4"
      },
      "execution_count": 38,
      "outputs": [
        {
          "output_type": "stream",
          "name": "stdout",
          "text": [
            " Sure! Here are some treatments recommended for someone who has experienced a brain injury that affects their thinking, movement, or memory: \n",
            "\n",
            "Therapies:\n",
            "• Cognitive therapy to improve problem-solving skills and decision-making abilities.\n",
            "• Physical therapy to help regain strength and mobility.\n",
            "• Occupational therapy to learn new ways of doing daily activities.\n",
            "• Speech therapy for communication difficulties. \n",
            "\n",
            "Medications:\n",
            "• Pain relievers to manage headaches or discomfort.\n",
            "• Anti-seizure medication if the patient experiences seizures.\n",
            "• Medication to control mood swings, anxiety, or depression.\n",
            "\n",
            "Support systems:\n",
            "• Family support and encouragement for emotional well-being.\n",
            "• Support groups for patients and families to connect with others who have gone through similar experiences. \n",
            "\n",
            "Rehabilitation programs that focus on cognitive, physical, and social retraining can significantly improve the patient's quality of life. It is essential to work closely with healthcare professionals to develop a personalized treatment plan tailored to the individual's needs. With time, patience, and proper care, many people are able to recover from brain injuries and lead fulfilling lives.\n",
            " \n"
          ]
        }
      ]
    },
    {
      "cell_type": "markdown",
      "metadata": {
        "id": "TYXxiSuBOefg"
      },
      "source": [
        "### Query 5: What are the necessary precautions and treatment steps for a person who has fractured their leg during a hiking trip, and what should be considered for their care and recovery?"
      ]
    },
    {
      "cell_type": "code",
      "source": [
        "# defining the response instructions for what are the necessary precautions and treatment steps for a person who has fractured their leg\n",
        "# during a hiking trip, and what should be considered for their care and recovery?\n",
        "instruction_5 = \"\"\"\n",
        "Explain how to handle a leg fracture during a hiking trip for someone with no medical background.\n",
        " Describe what to do immediately, as far as precaution and treatment steps, after the injury, how to keep the person safe until help arrives,\n",
        " and what to expect in terms of treatment and healing once they reach a hospital. Keep the explanation simple, clear, and structured.\n",
        "\"\"\""
      ],
      "metadata": {
        "id": "mE2GMQk8RQ_p"
      },
      "execution_count": 39,
      "outputs": []
    },
    {
      "cell_type": "code",
      "source": [
        "response= generate_llama_response(instruction_5)"
      ],
      "metadata": {
        "colab": {
          "base_uri": "https://localhost:8080/"
        },
        "id": "tY-U3j9KjhoR",
        "outputId": "950e4e60-93a5-4642-9721-d471fc2afb0a"
      },
      "execution_count": 40,
      "outputs": [
        {
          "output_type": "stream",
          "name": "stderr",
          "text": [
            "Llama.generate: prefix-match hit\n"
          ]
        }
      ]
    },
    {
      "cell_type": "code",
      "source": [
        "print(response)"
      ],
      "metadata": {
        "colab": {
          "base_uri": "https://localhost:8080/"
        },
        "id": "biPaWp-0jpjj",
        "outputId": "2536d29a-fdcc-4df7-a4c4-a17a67ddb3e7"
      },
      "execution_count": 41,
      "outputs": [
        {
          "output_type": "stream",
          "name": "stdout",
          "text": [
            " Sure! Here's how to handle a leg fracture during a hiking trip for someone with no medical background:\n",
            "\n",
            "Step 1: Assess the situation and call for help (immediate precautions)\n",
            "\n",
            "* Check if the person is conscious, breathing properly, and has a pulse. If not, begin CPR immediately.\n",
            "* Call for emergency services using a cell phone or any available communication device. Provide your location and describe the injury as clearly as possible.\n",
            "* Keep the person warm and comfortable to prevent shock. Use extra clothing or blankets if available.\n",
            "\n",
            "Step 2: Stabilize the leg (precautionary steps)\n",
            "\n",
            "* Do not move the injured leg unless it is in danger of being further injured. If necessary, carefully immobilize the leg using a splint or any available object to keep it straight and stable.\n",
            "* Check for any visible deformities or abnormalities in the affected limb.\n",
            "* Loosen any tight clothing or equipment that may be constricting blood flow or movement.\n",
            "\n",
            "Step 3: Provide basic first aid (treatment steps)\n",
            "\n",
            "* Apply direct pressure to any open wounds using a clean cloth or bandage.\n",
            "* Elevate the injured leg above heart level if possible, to reduce swelling and promote bleeding control.\n",
            "* Use pain management techniques such as deep breathing exercises or distraction methods (e.g., talking calmly) to keep the person comfortable until help arrives.\n",
            "\n",
            "Step 4: Keep the person safe until help arrives (precautionary steps)\n",
            "\n",
            "* Monitor vital signs, including pulse and breathing rate, and be prepared to provide this information to emergency responders when they arrive.\n",
            "* Stay with the injured person at all times and keep them calm.\n",
            "* If possible, create a clear path for rescue teams to reach the injured person without putting themselves or others in danger.\n",
            "\n",
            "Step 5: Expectations during hospital treatment and healing (what to expect)\n",
            "\n",
            "* Once the person reaches the hospital, they will undergo further assessment and diagnosis by medical professionals.\n",
            "* Treatment for a leg fracture may include immobilization with a cast or brace, pain management medication, physical therapy, and possibly surgery in severe cases.\n",
            "* Healing time varies depending on the severity of the injury, but it can take anywhere from 6-12 weeks for minor fractures to several months for more complex ones.\n",
            "\n",
            "Remember that these steps are only a temporary solution until medical professionals can provide proper treatment and care. Always prioritize safety and seek immediate help if you suspect a leg fracture or any other serious injury during a hiking trip.\n"
          ]
        }
      ]
    },
    {
      "cell_type": "markdown",
      "source": [
        "## Data Preparation for RAG"
      ],
      "metadata": {
        "id": "t_O1PGdNO2M9"
      }
    },
    {
      "cell_type": "markdown",
      "metadata": {
        "id": "uTpWESc53dL9"
      },
      "source": [
        "### Loading the Data"
      ]
    },
    {
      "cell_type": "code",
      "source": [
        "from google.colab import drive\n",
        "drive.mount('/content/drive')"
      ],
      "metadata": {
        "colab": {
          "base_uri": "https://localhost:8080/"
        },
        "id": "lgFIl_gZmdrh",
        "outputId": "5b8bba98-21c5-4f13-d880-ff8445cb5318"
      },
      "execution_count": 42,
      "outputs": [
        {
          "output_type": "stream",
          "name": "stdout",
          "text": [
            "Mounted at /content/drive\n"
          ]
        }
      ]
    },
    {
      "cell_type": "code",
      "source": [
        "pdf_file = \"/content/drive/MyDrive/Colab Notebooks/AI-Project/medical_diagnosis_manual.pdf\""
      ],
      "metadata": {
        "id": "TiGrK9M2mw2x"
      },
      "execution_count": 43,
      "outputs": []
    },
    {
      "cell_type": "code",
      "source": [
        "pdf_loader = PyMuPDFLoader(pdf_file);"
      ],
      "metadata": {
        "id": "XugmHollncQA"
      },
      "execution_count": 44,
      "outputs": []
    },
    {
      "cell_type": "code",
      "source": [
        "#Loading Document\n",
        "documents = pdf_loader.load()"
      ],
      "metadata": {
        "id": "-hMhDR8Kq8pO"
      },
      "execution_count": 45,
      "outputs": []
    },
    {
      "cell_type": "markdown",
      "metadata": {
        "id": "ffj0ca3eZT4u"
      },
      "source": [
        "### Data Overview"
      ]
    },
    {
      "cell_type": "markdown",
      "source": [
        "#### Checking the first 5 Pages"
      ],
      "metadata": {
        "id": "JUYiWs9PqEbs"
      }
    },
    {
      "cell_type": "code",
      "source": [
        "for i in range(5):\n",
        "    print(f\"Page Number : {i+1}\",end=\"\\n\")\n",
        "    print(documents[i].page_content,end=\"\\n\")"
      ],
      "metadata": {
        "colab": {
          "base_uri": "https://localhost:8080/"
        },
        "collapsed": true,
        "id": "OJ5IseEJqOPi",
        "outputId": "8415cfd2-0371-4c8f-a296-586673036a84"
      },
      "execution_count": 47,
      "outputs": [
        {
          "output_type": "stream",
          "name": "stdout",
          "text": [
            "Page Number : 1\n",
            "rromerofinance@gmail.com\n",
            "KLBMNYPGXS\n",
            "nt for personal use by rromerofinance@g\n",
            "shing the contents in part or full is liable \n",
            "\n",
            "Page Number : 2\n",
            "rromerofinance@gmail.com\n",
            "KLBMNYPGXS\n",
            "This file is meant for personal use by rromerofinance@gmail.com only.\n",
            "Sharing or publishing the contents in part or full is liable for legal action.\n",
            "\n",
            "Page Number : 3\n",
            "Table of Contents\n",
            "1\n",
            "Front    ................................................................................................................................................................................................................\n",
            "1\n",
            "Cover    .......................................................................................................................................................................................................\n",
            "2\n",
            "Front Matter    ...........................................................................................................................................................................................\n",
            "53\n",
            "1 - Nutritional Disorders    ...............................................................................................................................................................\n",
            "53\n",
            "Chapter 1. Nutrition: General Considerations    .....................................................................................................................\n",
            "59\n",
            "Chapter 2. Undernutrition    .............................................................................................................................................................\n",
            "69\n",
            "Chapter 3. Nutritional Support    ...................................................................................................................................................\n",
            "76\n",
            "Chapter 4. Vitamin Deficiency, Dependency & Toxicity    ..................................................................................................\n",
            "99\n",
            "Chapter 5. Mineral Deficiency & Toxicity    ..............................................................................................................................\n",
            "108\n",
            "Chapter 6. Obesity & the Metabolic Syndrome    ...............................................................................................................\n",
            "120\n",
            "2 - Gastrointestinal Disorders    ..............................................................................................................................................\n",
            "120\n",
            "Chapter 7. Approach to the Patient With Upper GI Complaints    ...............................................................................\n",
            "132\n",
            "Chapter 8. Approach to the Patient With Lower GI Complaints    ...............................................................................\n",
            "143\n",
            "Chapter 9. Diagnostic & Therapeutic GI Procedures    ....................................................................................................\n",
            "150\n",
            "Chapter 10. GI Bleeding    ............................................................................................................................................................\n",
            "158\n",
            "Chapter 11. Acute Abdomen & Surgical Gastroenterology    .........................................................................................\n",
            "172\n",
            "Chapter 12. Esophageal & Swallowing Disorders    ..........................................................................................................\n",
            "183\n",
            "Chapter 13. Gastritis & Peptic Ulcer Disease    ..................................................................................................................\n",
            "196\n",
            "Chapter 14. Bezoars & Foreign Bodies    ..............................................................................................................................\n",
            "199\n",
            "Chapter 15. Pancreatitis    ............................................................................................................................................................\n",
            "206\n",
            "Chapter 16. Gastroenteritis    ......................................................................................................................................................\n",
            "213\n",
            "Chapter 17. Malabsorption Syndromes    ..............................................................................................................................\n",
            "225\n",
            "Chapter 18. Irritable Bowel Syndrome    ................................................................................................................................\n",
            "229\n",
            "Chapter 19. Inflammatory Bowel Disease    .........................................................................................................................\n",
            "241\n",
            "Chapter 20. Diverticular Disease    ...........................................................................................................................................\n",
            "246\n",
            "Chapter 21. Anorectal Disorders    ............................................................................................................................................\n",
            "254\n",
            "Chapter 22. Tumors of the GI Tract    ......................................................................................................................................\n",
            "275\n",
            "3 - Hepatic & Biliary Disorders    ............................................................................................................................................\n",
            "275\n",
            "Chapter 23. Approach to the Patient With Liver Disease    ...........................................................................................\n",
            "294\n",
            "Chapter 24. Testing for Hepatic & Biliary Disorders    ......................................................................................................\n",
            "305\n",
            "Chapter 25. Drugs & the Liver    ................................................................................................................................................\n",
            "308\n",
            "Chapter 26. Alcoholic Liver Disease    ....................................................................................................................................\n",
            "314\n",
            "Chapter 27. Fibrosis & Cirrhosis    ............................................................................................................................................\n",
            "322\n",
            "Chapter 28. Hepatitis    ..................................................................................................................................................................\n",
            "333\n",
            "Chapter 29. Vascular Disorders of the Liver    .....................................................................................................................\n",
            "341\n",
            "Chapter 30. Liver Masses & Granulomas    ..........................................................................................................................\n",
            "348\n",
            "Chapter 31. Gallbladder & Bile Duct Disorders    ...............................................................................................................\n",
            "362\n",
            "4 - Musculoskeletal & Connective Tissue Disorders    .........................................................................................\n",
            "362\n",
            "Chapter 32. Approach to the Patient With Joint Disease    ............................................................................................\n",
            "373\n",
            "Chapter 33. Autoimmune Rheumatic Disorders    ..............................................................................................................\n",
            "391\n",
            "Chapter 34. Vasculitis    .................................................................................................................................................................\n",
            "416\n",
            "Chapter 35. Joint Disorders    .....................................................................................................................................................\n",
            "435\n",
            "Chapter 36. Crystal-Induced Arthritides    ..............................................................................................................................\n",
            "443\n",
            "Chapter 37. Osteoporosis    .........................................................................................................................................................\n",
            "448\n",
            "Chapter 38. Paget's Disease of Bone    ..................................................................................................................................\n",
            "451\n",
            "Chapter 39. Osteonecrosis    .......................................................................................................................................................\n",
            "455\n",
            "Chapter 40. Infections of Joints & Bones    ...........................................................................................................................\n",
            "463\n",
            "Chapter 41. Bursa, Muscle & Tendon Disorders    .............................................................................................................\n",
            "470\n",
            "Chapter 42. Neck & Back Pain    ...............................................................................................................................................\n",
            "481\n",
            "Chapter 43. Hand Disorders    ....................................................................................................................................................\n",
            "rromerofinance@gmail.com\n",
            "KLBMNYPGXS\n",
            "This file is meant for personal use by rromerofinance@gmail.com only.\n",
            "Sharing or publishing the contents in part or full is liable for legal action.\n",
            "\n",
            "Page Number : 4\n",
            "491\n",
            "Chapter 44. Foot & Ankle Disorders    .....................................................................................................................................\n",
            "502\n",
            "Chapter 45. Tumors of Bones & Joints    ...............................................................................................................................\n",
            "510\n",
            "5 - Ear, Nose, Throat & Dental Disorders    ..................................................................................................................\n",
            "510\n",
            "Chapter 46. Approach to the Patient With Ear Problems    ...........................................................................................\n",
            "523\n",
            "Chapter 47. Hearing Loss    .........................................................................................................................................................\n",
            "535\n",
            "Chapter 48. Inner Ear Disorders    ............................................................................................................................................\n",
            "542\n",
            "Chapter 49. Middle Ear & Tympanic Membrane Disorders    ........................................................................................\n",
            "550\n",
            "Chapter 50. External Ear Disorders    .....................................................................................................................................\n",
            "554\n",
            "Chapter 51. Approach to the Patient With Nasal & Pharyngeal Symptoms    .......................................................\n",
            "567\n",
            "Chapter 52. Oral & Pharyngeal Disorders    .........................................................................................................................\n",
            "578\n",
            "Chapter 53. Nose & Paranasal Sinus Disorders    .............................................................................................................\n",
            "584\n",
            "Chapter 54. Laryngeal Disorders    ...........................................................................................................................................\n",
            "590\n",
            "Chapter 55. Tumors of the Head & Neck    ...........................................................................................................................\n",
            "600\n",
            "Chapter 56. Approach to Dental & Oral Symptoms    .......................................................................................................\n",
            "619\n",
            "Chapter 57. Common Dental Disorders    .............................................................................................................................\n",
            "629\n",
            "Chapter 58. Dental Emergencies    ..........................................................................................................................................\n",
            "635\n",
            "Chapter 59. Temporomandibular Disorders    ......................................................................................................................\n",
            "641\n",
            "6 - Eye Disorders    ............................................................................................................................................................................\n",
            "641\n",
            "Chapter 60. Approach to the Ophthalmologic Patient    ..................................................................................................\n",
            "669\n",
            "Chapter 61. Refractive Error    ...................................................................................................................................................\n",
            "674\n",
            "Chapter 62. Eyelid & Lacrimal Disorders    ...........................................................................................................................\n",
            "680\n",
            "Chapter 63. Conjunctival & Scleral Disorders    .................................................................................................................\n",
            "690\n",
            "Chapter 64. Corneal Disorders    ...............................................................................................................................................\n",
            "703\n",
            "Chapter 65. Glaucoma    ...............................................................................................................................................................\n",
            "710\n",
            "Chapter 66. Cataract    ...................................................................................................................................................................\n",
            "713\n",
            "Chapter 67. Uveitis    ......................................................................................................................................................................\n",
            "719\n",
            "Chapter 68. Retinal Disorders    .................................................................................................................................................\n",
            "731\n",
            "Chapter 69. Optic Nerve Disorders    ......................................................................................................................................\n",
            "737\n",
            "Chapter 70. Orbital Diseases    ..................................................................................................................................................\n",
            "742\n",
            "7 - Dermatologic Disorders    ....................................................................................................................................................\n",
            "742\n",
            "Chapter 71. Approach to the Dermatologic Patient    .......................................................................................................\n",
            "755\n",
            "Chapter 72. Principles of Topical Dermatologic Therapy    ............................................................................................\n",
            "760\n",
            "Chapter 73. Acne & Related Disorders    ...............................................................................................................................\n",
            "766\n",
            "Chapter 74. Bullous Diseases    .................................................................................................................................................\n",
            "771\n",
            "Chapter 75. Cornification Disorders    .....................................................................................................................................\n",
            "775\n",
            "Chapter 76. Dermatitis    ...............................................................................................................................................................\n",
            "786\n",
            "Chapter 77. Reactions to Sunlight    ........................................................................................................................................\n",
            "791\n",
            "Chapter 78. Psoriasis & Scaling Diseases    ........................................................................................................................\n",
            "799\n",
            "Chapter 79. Hypersensitivity & Inflammatory Disorders    .............................................................................................\n",
            "808\n",
            "Chapter 80. Sweating Disorders    ............................................................................................................................................\n",
            "811\n",
            "Chapter 81. Bacterial Skin Infections    ...................................................................................................................................\n",
            "822\n",
            "Chapter 82. Fungal Skin Infections    ......................................................................................................................................\n",
            "831\n",
            "Chapter 83. Parasitic Skin Infections    ...................................................................................................................................\n",
            "836\n",
            "Chapter 84. Viral Skin Diseases    ............................................................................................................................................\n",
            "841\n",
            "Chapter 85. Pigmentation Disorders    ....................................................................................................................................\n",
            "846\n",
            "Chapter 86. Hair Disorders    .......................................................................................................................................................\n",
            "855\n",
            "Chapter 87. Nail Disorders    .......................................................................................................................................................\n",
            "861\n",
            "Chapter 88. Pressure Ulcers    ...................................................................................................................................................\n",
            "867\n",
            "Chapter 89. Benign Tumors    .....................................................................................................................................................\n",
            "874\n",
            "Chapter 90. Cancers of the Skin    ............................................................................................................................................\n",
            "882\n",
            "8 - Endocrine & Metabolic Disorders    .............................................................................................................................\n",
            "882\n",
            "Chapter 91. Principles of Endocrinology    ............................................................................................................................\n",
            "887\n",
            "Chapter 92. Pituitary Disorders    ..............................................................................................................................................\n",
            "901\n",
            "Chapter 93. Thyroid Disorders    ................................................................................................................................................\n",
            "rromerofinance@gmail.com\n",
            "KLBMNYPGXS\n",
            "This file is meant for personal use by rromerofinance@gmail.com only.\n",
            "Sharing or publishing the contents in part or full is liable for legal action.\n",
            "\n",
            "Page Number : 5\n",
            "921\n",
            "Chapter 94. Adrenal Disorders    ................................................................................................................................................\n",
            "936\n",
            "Chapter 95. Polyglandular Deficiency Syndromes    ........................................................................................................\n",
            "939\n",
            "Chapter 96. Porphyrias    ..............................................................................................................................................................\n",
            "949\n",
            "Chapter 97. Fluid & Electrolyte Metabolism    .....................................................................................................................\n",
            "987\n",
            "Chapter 98. Acid-Base Regulation & Disorders    ..............................................................................................................\n",
            "1001\n",
            "Chapter 99. Diabetes Mellitus & Disorders of Carbohydrate Metabolism    ........................................................\n",
            "1024\n",
            "Chapter 100. Lipid Disorders    ................................................................................................................................................\n",
            "1034\n",
            "Chapter 101. Amyloidosis    ......................................................................................................................................................\n",
            "1037\n",
            "Chapter 102. Carcinoid Tumors    ..........................................................................................................................................\n",
            "1040\n",
            "Chapter 103. Multiple Endocrine Neoplasia Syndromes    .........................................................................................\n",
            "1046\n",
            "9 - Hematology & Oncology    ...............................................................................................................................................\n",
            "1046\n",
            "Chapter 104. Approach to the Patient With Anemia    ..................................................................................................\n",
            "1050\n",
            "Chapter 105. Anemias Caused by Deficient Erythropoiesis    ...................................................................................\n",
            "1061\n",
            "Chapter 106. Anemias Caused by Hemolysis    ...............................................................................................................\n",
            "1078\n",
            "Chapter 107. Neutropenia & Lymphocytopenia    ...........................................................................................................\n",
            "1086\n",
            "Chapter 108. Thrombocytopenia & Platelet Dysfunction    .........................................................................................\n",
            "1097\n",
            "Chapter 109. Hemostasis    ......................................................................................................................................................\n",
            "1104\n",
            "Chapter 110. Thrombotic Disorders    ...................................................................................................................................\n",
            "1107\n",
            "Chapter 111. Coagulation Disorders    ..................................................................................................................................\n",
            "1113\n",
            "Chapter 112. Bleeding Due to Abnormal Blood Vessels    ...........................................................................................\n",
            "1116\n",
            "Chapter 113. Spleen Disorders    ............................................................................................................................................\n",
            "1120\n",
            "Chapter 114. Eosinophilic Disorders    .................................................................................................................................\n",
            "1126\n",
            "Chapter 115. Histiocytic Syndromes    .................................................................................................................................\n",
            "1131\n",
            "Chapter 116. Myeloproliferative Disorders    .....................................................................................................................\n",
            "1141\n",
            "Chapter 117. Leukemias    .........................................................................................................................................................\n",
            "1154\n",
            "Chapter 118. Lymphomas    ......................................................................................................................................................\n",
            "1164\n",
            "Chapter 119. Plasma Cell Disorders    .................................................................................................................................\n",
            "1172\n",
            "Chapter 120. Iron Overload    ...................................................................................................................................................\n",
            "1177\n",
            "Chapter 121. Transfusion Medicine    ...................................................................................................................................\n",
            "1186\n",
            "Chapter 122. Overview of Cancer    ......................................................................................................................................\n",
            "1198\n",
            "Chapter 123. Tumor Immunology    .......................................................................................................................................\n",
            "1204\n",
            "Chapter 124. Principles of Cancer Therapy    ...................................................................................................................\n",
            "1215\n",
            "10 - Immunology; Allergic Disorders    ...........................................................................................................................\n",
            "1215\n",
            "Chapter 125. Biology of the Immune System    ...............................................................................................................\n",
            "1227\n",
            "Chapter 126. Immunodeficiency Disorders    ....................................................................................................................\n",
            "1243\n",
            "Chapter 127. Allergic & Other Hypersensitivity Disorders    .......................................................................................\n",
            "1263\n",
            "Chapter 128. Transplantation    ...............................................................................................................................................\n",
            "1281\n",
            "11 - Infectious Diseases    ........................................................................................................................................................\n",
            "1281\n",
            "Chapter 129. Biology of Infectious Disease    ...................................................................................................................\n",
            "1300\n",
            "Chapter 130. Laboratory Diagnosis of Infectious Disease    ......................................................................................\n",
            "1306\n",
            "Chapter 131. Immunization    ...................................................................................................................................................\n",
            "1313\n",
            "Chapter 132. Bacteria & Antibacterial Drugs    .................................................................................................................\n",
            "1353\n",
            "Chapter 133. Gram-Positive Cocci    ....................................................................................................................................\n",
            "1366\n",
            "Chapter 134. Gram-Positive Bacilli    ...................................................................................................................................\n",
            "1376\n",
            "Chapter 135. Gram-Negative Bacilli    .................................................................................................................................\n",
            "1405\n",
            "Chapter 136. Spirochetes    ......................................................................................................................................................\n",
            "1413\n",
            "Chapter 137. Neisseriaceae    .................................................................................................................................................\n",
            "1419\n",
            "Chapter 138. Chlamydia & Mycoplasmas    ......................................................................................................................\n",
            "1421\n",
            "Chapter 139. Rickettsiae & Related Organisms    ..........................................................................................................\n",
            "1431\n",
            "Chapter 140. Anaerobic Bacteria    ........................................................................................................................................\n",
            "1450\n",
            "Chapter 141. Mycobacteria    ...................................................................................................................................................\n",
            "1470\n",
            "Chapter 142. Fungi    ...................................................................................................................................................................\n",
            "1493\n",
            "Chapter 143. Approach to Parasitic Infections    .............................................................................................................\n",
            "1496\n",
            "Chapter 144. Nematodes (Roundworms)    .......................................................................................................................\n",
            "rromerofinance@gmail.com\n",
            "KLBMNYPGXS\n",
            "This file is meant for personal use by rromerofinance@gmail.com only.\n",
            "Sharing or publishing the contents in part or full is liable for legal action.\n",
            "\n"
          ]
        }
      ]
    },
    {
      "cell_type": "markdown",
      "source": [
        "#### Checking the contents of page 100"
      ],
      "metadata": {
        "id": "QzdRoIhwqQhk"
      }
    },
    {
      "cell_type": "code",
      "source": [
        "print (documents[99].page_content)"
      ],
      "metadata": {
        "colab": {
          "base_uri": "https://localhost:8080/"
        },
        "id": "dgcdX4UZr8gd",
        "outputId": "641550c1-85b4-4eab-a47d-bf85cfe7d19b"
      },
      "execution_count": 48,
      "outputs": [
        {
          "output_type": "stream",
          "name": "stdout",
          "text": [
            "• Usually, skin or gingival findings and risk factors\n",
            "Diagnosis is usually made clinically in a patient who has skin or gingival signs and is at risk of vitamin C\n",
            "deficiency. Laboratory confirmation may be available. Anemia is common. Bleeding, coagulation, and PT\n",
            "are normal.\n",
            "Skeletal x-rays can help diagnose childhood (but not adult) scurvy. Changes are most evident at the ends\n",
            "of long bones, particularly at the knee. Early changes resemble atrophy. Loss of trabeculae results in a\n",
            "ground-glass appearance. The cortex thins. A line of calcified, irregular cartilage (white line of Fraenkel)\n",
            "may be visible at the metaphysis. A zone of rarefaction or a linear fracture proximal and parallel to the\n",
            "white line may be visible as only a triangular defect at the bone's lateral margin but is specific. The\n",
            "epiphysis may be compressed. Healing subperiosteal hemorrhages may elevate and calcify the\n",
            "periosteum.\n",
            "Laboratory diagnosis, which requires measuring blood ascorbic acid, is sometimes done at academic\n",
            "centers. Levels of < 0.6 mg/dL (< 34 μmol/L) are considered marginal; levels of < 0.2 mg/dL (< 11 μmol/L)\n",
            "indicate vitamin C deficiency. Measurement of ascorbic acid levels in the WBC-platelet layer of\n",
            "centrifuged blood is not widely available or standardized.\n",
            "In adults, scurvy must be differentiated from arthritis, hemorrhagic disorders, gingivitis, and protein-energy\n",
            "undernutrition. Hyperkeratotic hair follicles with surrounding hyperemia or hemorrhage are almost\n",
            "pathognomonic. Bleeding gums, conjunctival hemorrhages, most petechiae, and ecchymoses are\n",
            "nonspecific.\n",
            "Treatment\n",
            "• Nutritious diet with supplemental ascorbic acid\n",
            "For scurvy in adults, ascorbic acid 100 to 500 mg po tid is given for 1 to 2 wk, until signs disappear, and\n",
            "followed by a nutritious diet supplying 1 to 2 times the daily recommended intake. In scurvy, therapeutic\n",
            "doses of ascorbic acid restore the functions of vitamin C in a few days. The symptoms and signs usually\n",
            "disappear over 1 to 2 wk. Chronic gingivitis with extensive subcutaneous hemorrhage persists longer.\n",
            "Prevention\n",
            "Vitamin C 75 mg po once/day for women and 90 mg po once/day for men prevents deficiency. Smokers\n",
            "should consume an additional 35 mg/day. Five servings of most fruits and vegetables (recommended\n",
            "daily) provide > 200 mg of vitamin C.\n",
            "Vitamin C Toxicity\n",
            "The upper limit for vitamin C intake is 2000 mg/day. Up to 10 g/day of vitamin C are sometimes taken for\n",
            "unproven health benefits, such as preventing or shortening the duration of viral infections or slowing or\n",
            "reversing the progression of cancer or atherosclerosis. Such doses may acidify the urine, cause nausea\n",
            "and diarrhea, interfere with the healthy antioxidant-prooxidant balance in the body, and, in patients with\n",
            "thalassemia or hemochromatosis, promote iron overload. Intake below the upper limit does not have toxic\n",
            "effects in healthy adults.\n",
            "Vitamin D\n",
            "Vitamin D has 2 main forms: D2 (ergocalciferol) and D3 (cholecalciferol); the latter is the naturally\n",
            "occurring form and the form used for low-dose supplementation. Vitamin D3 is synthesized in skin by\n",
            "exposure to direct sunlight (ultraviolet B radiation) and obtained in the diet chiefly in fish liver oils and salt\n",
            "water fish. In some developed countries, milk and other foods are fortified with vitamin D. Human breast\n",
            "milk is low in vitamin D, containing an average of only 10% of the amount in fortified cow's milk.\n",
            "Requirements for vitamin D increase with age because skin synthesis declines. Sunscreen use and dark\n",
            "skin pigmentation also reduce skin synthesis of vitamin D.\n",
            "The Merck Manual of Diagnosis & Therapy, 19th Edition Chapter 4. Vitamin Deficiency, Dependency & Toxicity\n",
            "90\n",
            "rromerofinance@gmail.com\n",
            "KLBMNYPGXS\n",
            "This file is meant for personal use by rromerofinance@gmail.com only.\n",
            "Sharing or publishing the contents in part or full is liable for legal action.\n",
            "\n"
          ]
        }
      ]
    },
    {
      "cell_type": "markdown",
      "metadata": {
        "id": "7-wNNalNxPKT"
      },
      "source": [
        "#### Checking the number of pages"
      ]
    },
    {
      "cell_type": "markdown",
      "metadata": {
        "id": "LECMxTH-zB-R"
      },
      "source": [
        "### Data Chunking"
      ]
    },
    {
      "cell_type": "code",
      "source": [
        "# Split a large body of text into smaller overlapping chunks, each with a maximum of 512 tokens, using the token encoding model 'cl100k_base' and\n",
        "# each chunk will overlap by 16 tokens with the previous chunk\n",
        "text_splitter = RecursiveCharacterTextSplitter.from_tiktoken_encoder(\n",
        "    encoding_name='cl100k_base',\n",
        "    chunk_size=512,\n",
        "    chunk_overlap=16\n",
        ")"
      ],
      "metadata": {
        "id": "ir9Zi8rKRUmG"
      },
      "execution_count": 49,
      "outputs": []
    },
    {
      "cell_type": "code",
      "source": [
        "# Load and split the PDF into chunks\n",
        "document_chunks = pdf_loader.load_and_split(text_splitter)"
      ],
      "metadata": {
        "id": "y9Yj781Xw_0v"
      },
      "execution_count": 50,
      "outputs": []
    },
    {
      "cell_type": "code",
      "source": [
        "# Chunk # 99\n",
        "\n",
        "document_chunks[99]"
      ],
      "metadata": {
        "colab": {
          "base_uri": "https://localhost:8080/"
        },
        "id": "bR6A0czXxdhG",
        "outputId": "ec3b0ca7-b684-4cc0-e1de-c835213831b0"
      },
      "execution_count": 51,
      "outputs": [
        {
          "output_type": "execute_result",
          "data": {
            "text/plain": [
              "Document(page_content='mortality better than measurement of the other proteins. However, the correlation of albumin with\\nmorbidity and mortality may be related to nonnutritional as well as nutritional factors. Inflammation\\nproduces cytokines that cause albumin and other nutritional protein markers to extravasate, decreasing\\nserum levels. Because prealbumin, transferrin, and retinol-binding protein decrease more rapidly during\\nstarvation than does albumin, their measurements are sometimes used to diagnose or assess the severity\\nof acute starvation. However, whether they are more sensitive or specific than albumin is unclear.\\nTotal lymphocyte count, which often decreases as undernutrition progresses, may be determined.\\nUndernutrition causes a marked decline in CD4+ T lymphocytes, so this count may not be useful in\\npatients who have AIDS.\\nSkin tests using antigens can detect impaired cell-mediated immunity in PEU and in some other disorders\\nof undernutrition (see p.\\n1098).\\nOther laboratory tests, such as measuring vitamin and mineral levels, are used selectively to diagnose\\nspecific deficiencies.\\n[Table 2-2. Mid Upper Arm Muscle Area in Adults]\\n[Figure 2-2. Simplified Nutrition Assessment Questionnaire (SNAQ).]\\nProtein-Energy Undernutrition\\nProtein-energy undernutrition (PEU), previously called protein-energy malnutrition, is an energy\\ndeficit due to chronic deficiency of all macronutrients. It commonly includes deficiencies of\\nmany micronutrients. PEU can be sudden and total (starvation) or gradual. Severity ranges from\\nsubclinical deficiencies to obvious wasting (with edema, hair loss, and skin atrophy) to\\nstarvation. Multiple organ systems are often impaired. Diagnosis usually involves laboratory\\ntesting, including serum albumin. Treatment consists of correcting fluid and electrolyte deficits\\nwith IV solutions, then gradually replenishing nutrients, orally if possible.\\nIn developed countries, PEU is common among the institutionalized elderly (although often not suspected)\\nand among patients with disorders that decrease appetite or impair nutrient digestion, absorption, or\\nmetabolism. In developing countries, PEU affects children who do not consume enough calories or\\nprotein.\\nClassification and Etiology\\nPEU is graded as mild, moderate, or severe. Grade is determined by calculating weight as a percentage\\nof expected weight for length or height using international standards (normal, 90 to 110%; mild PEU, 85 to', metadata={'source': '/content/drive/MyDrive/Colab Notebooks/AI-Project/medical_diagnosis_manual.pdf', 'file_path': '/content/drive/MyDrive/Colab Notebooks/AI-Project/medical_diagnosis_manual.pdf', 'page': 71, 'total_pages': 4114, 'format': 'PDF 1.7', 'title': 'The Merck Manual of Diagnosis & Therapy, 19th Edition', 'author': '', 'subject': '', 'keywords': '', 'creator': 'Atop CHM to PDF Converter', 'producer': 'pdf-lib (https://github.com/Hopding/pdf-lib)', 'creationDate': 'D:20120615054440Z', 'modDate': 'D:20250421013730Z', 'trapped': ''})"
            ]
          },
          "metadata": {},
          "execution_count": 51
        }
      ]
    },
    {
      "cell_type": "code",
      "source": [
        "# Chunk # 100\n",
        "document_chunks[100]"
      ],
      "metadata": {
        "colab": {
          "base_uri": "https://localhost:8080/"
        },
        "id": "zBkN7bDSyKr5",
        "outputId": "4c04d3aa-d5fd-43b6-a623-ac7d870873aa"
      },
      "execution_count": 52,
      "outputs": [
        {
          "output_type": "execute_result",
          "data": {
            "text/plain": [
              "Document(page_content='90%; moderate, 75 to 85%; severe, <75%).\\nPEU may be primary or secondary. Primary PEU is caused by inadequate nutrient intake. Secondary PEU\\nresults from disorders or drugs that interfere with nutrient use.\\nPrimary PEU: Worldwide, primary PEU occurs mostly in children and the elderly who lack access to\\nnutrients, although a common cause in the elderly is depression. PEU can also result from fasting or\\nanorexia nervosa. Child or elder abuse may be a cause.\\nIn children, chronic primary PEU has 2 common forms: marasmus and kwashiorkor. The form depends on\\nthe balance of nonprotein and protein sources of energy. Starvation is an acute severe form of primary\\nPEU.\\nMarasmus (also called the dry form of PEU) causes weight loss and depletion of fat and muscle. In\\ndeveloping countries, marasmus is the most common form of PEU in children.\\nKwashiorkor (also called the wet, swollen, or edematous form) is associated with premature abandonment\\nThe Merck Manual of Diagnosis & Therapy, 19th Edition\\nChapter 2. Undernutrition\\n62\\nrromerofinance@gmail.com\\nKLBMNYPGXS\\nThis file is meant for personal use by rromerofinance@gmail.com only.\\nSharing or publishing the contents in part or full is liable for legal action.', metadata={'source': '/content/drive/MyDrive/Colab Notebooks/AI-Project/medical_diagnosis_manual.pdf', 'file_path': '/content/drive/MyDrive/Colab Notebooks/AI-Project/medical_diagnosis_manual.pdf', 'page': 71, 'total_pages': 4114, 'format': 'PDF 1.7', 'title': 'The Merck Manual of Diagnosis & Therapy, 19th Edition', 'author': '', 'subject': '', 'keywords': '', 'creator': 'Atop CHM to PDF Converter', 'producer': 'pdf-lib (https://github.com/Hopding/pdf-lib)', 'creationDate': 'D:20120615054440Z', 'modDate': 'D:20250421013730Z', 'trapped': ''})"
            ]
          },
          "metadata": {},
          "execution_count": 52
        }
      ]
    },
    {
      "cell_type": "markdown",
      "metadata": {
        "id": "BvHVejcWz0Bl"
      },
      "source": [
        "### Embedding"
      ]
    },
    {
      "cell_type": "markdown",
      "source": [
        "### A good general-purpose embedding model is gte-large. The main reason for choosing this model is because of its embedding vector size, which is 512, the same as our token size in chunking.embedding models encode text into vector representations"
      ],
      "metadata": {
        "id": "2ZdDBh-52ylg"
      }
    },
    {
      "cell_type": "markdown",
      "source": [
        "![image.png](data:image/png;base64,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)"
      ],
      "metadata": {
        "id": "iESFdSrG3atC"
      }
    },
    {
      "cell_type": "code",
      "source": [
        "embedding_model = SentenceTransformerEmbeddings(model_name='thenlper/gte-large')"
      ],
      "metadata": {
        "id": "R3CAgoUeRVLa",
        "colab": {
          "base_uri": "https://localhost:8080/",
          "height": 337,
          "referenced_widgets": [
            "b31782d1138442a581e90cc93b67dd4b",
            "f0e008439e7544b78dcdfa3056abf690",
            "27862d785c39426da580be3a0c5892a7",
            "6da7f67169764acca5496da35a49af8b",
            "4301d3386b034bea8c4d911bdc1f5fcb",
            "c158bd59e52e45d691075af82af48d45",
            "938c874b0f214436915e0fac27c42893",
            "fd103ade5cc242a5841c9d50948b97c3",
            "2457902a008146098f758b39f0c7027b",
            "25024c3d319f46359247904920409af5",
            "9a5b2551265649fc9a4fe97adfa54e0b",
            "d697294f8c5b40f69ce863cc57734f6c",
            "b05ca5d2207244e4a0086db4ed8a3aad",
            "8ed68c6b7f9a480dbcd6b572ef6878ce",
            "45be3d8c8f7b4b4cb854c1c2887c6de2",
            "a321fef12df54e2b92273ec433a6392e",
            "1923fba0b1ce4a7f82b3730bdc7889a7",
            "b9bcc5da861d48f4b403d229fde7a710",
            "3c3a27cbe3fb4aca9e99297f54d4f2c9",
            "b8342d2c207d40bc8ded57ee83c69e18",
            "9f43e404cc4f4ecc8ca9a21a34596eaf",
            "d27bfd2c80e4497194ecbf60936fa11a",
            "59fc54230e0449c4825bfe68783928d1",
            "6ebfd35841a84389b7245873a2b156e8",
            "2db66e31ec614ed79bfb5da33ca1f9fa",
            "816e2c75458b4abeac06b804e63ebf50",
            "a3cc02b1b84348b6a1b24391abab96d8",
            "8cd14ba3d1194efa8733621b29974e4e",
            "f5b345f2e7a2403b9e01f51e3087a925",
            "7857ffb579e74ab9afa8f24d3e543174",
            "5cfd273c51244bd99e5fe34abf70c127",
            "66ccd1f8badd4d4895027c12fab312b6",
            "5c187b0641bc429c848bb92e1d377908",
            "7624bafa615c4640acf9815bbe83a84f",
            "275ecf980a36488fa5e8d6ef0a760bf2",
            "8bdc03c070be4e3e8d24d131c6e9c033",
            "6439591770044b6586dde457fc80fce6",
            "7cfc0ce948964ae5990b6e2e43ecca1e",
            "ae3804cb9f8a4e499f8783cd8607722c",
            "023360e35d83401dadcbff583f0a6500",
            "6c23fa8962f64d0ea9d3e7e87fc53548",
            "e68c4f3d67944447a2cf260075dbe37a",
            "16f862152df348baa0daae791b664e9d",
            "5bcc5fb30e7c4b54a1bb20cda59d7b64",
            "12fcaa0e702b49c6a1255fda69f4519c",
            "b7aa173139e2434082ee4741b30569b6",
            "82f409b20b064399872af2b80d610267",
            "8d7ea2e4a93a4c1ba129c3a07936e269",
            "debffb5442844871881158e1bfd355fa",
            "a3e9ff3ec1044ca788f33c47797b9ee2",
            "38ddb92cd8ed484cbe3f36ba6588a314",
            "5173190aaf2f4fcb88056968eb4c0a3c",
            "216c0296cd364e04b26698a0c7abed56",
            "ec1a694b2a414027ac8f0b4d4eba5da9",
            "1eacac1c976843c29677bdcd93d249fb",
            "280eea1af71d435989dcffcbd6e9a4fa",
            "0adf7c9317b443a1b9c0fe4598bc5bba",
            "c47ca519c2ba40f8b482b1f56f52d418",
            "b9f45d80b8e0465f987e75c892103092",
            "4e85d5b8c7b64e078c78e045c35f4cad",
            "d6a352ddfb2f427bb633c19c5ac4c741",
            "72cc0753f7db445b8ae78fe21770acd0",
            "8f1d888eab9e400abf76f3f8d81b2b63",
            "ab014cf6fbfe4866b084a379ecc3efae",
            "d09fe5d7e00f44109f98eab6cba42410",
            "3db756297b0b4ef1b4bbaedb254d8300",
            "e0ed003c076f45c49b06c598bd54d8f3",
            "d26e03755a544a54a6a1a7fb5ee09c57",
            "6827a3ebefc349ad9938238ce858f54c",
            "5b26a64bc118418dbb0515e3bd8328ab",
            "274946c8f1d5400b997af8e8afcc7ec7",
            "f08cab2ea99c4689bf8bff5d9a146a5a",
            "97d7396481984354aaf42ce29b6c3acc",
            "d9e8f2493d5e49d39c4297b738b681df",
            "abb4f2cc683d4b83ab4adef6bfb3dc20",
            "247ff9fdd80242a3bcb8be03b4dde653",
            "f49014f864ea4f44a80c729a4cf2c50b",
            "a906aed338ca4176a1c01b8642a04468",
            "cafa5df772a942df84bdb29c1ded6aa6",
            "a1fc48ac614446b68c604766388fcc56",
            "ac8ccf07a04745fe9312247ac7784659",
            "3d1ec81b6fd64915929ebdc29e37a492",
            "745ac1c64d714602acb8db28165f21ab",
            "f29d32d7387e4509ad4ec1caf1c795d8",
            "5bfa27c708fb4e058f768c6b7b36cd11",
            "70ecb1586b4a41409925b8870876fa8e",
            "924aac25c3f948c58d95589998480fbb",
            "fc76313a0a7f4f2295f2b2c68a3702ab",
            "1ab6b5dbe53b4abbad6a7cd495ba9571",
            "16ed801ad6ad4930817a25a75717d97f",
            "81d02670a2014456a079495e5f7ac173",
            "f48c265e70c84363a299fdd7db84dc59",
            "04b816bd9d8346ac8ed3c7e54c5ea3cb",
            "63efb448af1949a1b6992f3efb08ab61",
            "8ccfd2f15a574caeb7edbf734d3b769d",
            "5c107461d24c4b58a7883b530c61a610",
            "d1233fda081d46649a9c5bfa927d8159",
            "f7d322f224de48318d5209a1e5da744a",
            "ae919b0a537d4809a8e699822300c585",
            "70632a3704b348f98872c9326a3c6826",
            "1ed6cfbbc2494466b7f2b9bba4821eca",
            "8d140c24d30441a1986a1ac43bcd3ae0",
            "93a6db9f348b4ffd8f65eac321b0e066",
            "dffd58f632394970aa18f651675261de",
            "d4884898d6474ffa94523b12d39b72ba",
            "ab43827f3d0d458782cee6293b6e71a7",
            "54eb5a4f3c114988b407de7d17d04879",
            "be174127bd10433aab5233d3f00271ba",
            "4141595c5fa84c068cccaade86e91664",
            "2fe8395ed54e44b68ce8167ebd3e3608"
          ]
        },
        "outputId": "5bd54bdd-1bf2-472f-8993-14308c5df3a2"
      },
      "execution_count": 53,
      "outputs": [
        {
          "output_type": "display_data",
          "data": {
            "text/plain": [
              "modules.json:   0%|          | 0.00/385 [00:00<?, ?B/s]"
            ],
            "application/vnd.jupyter.widget-view+json": {
              "version_major": 2,
              "version_minor": 0,
              "model_id": "b31782d1138442a581e90cc93b67dd4b"
            }
          },
          "metadata": {}
        },
        {
          "output_type": "display_data",
          "data": {
            "text/plain": [
              "README.md:   0%|          | 0.00/67.9k [00:00<?, ?B/s]"
            ],
            "application/vnd.jupyter.widget-view+json": {
              "version_major": 2,
              "version_minor": 0,
              "model_id": "d697294f8c5b40f69ce863cc57734f6c"
            }
          },
          "metadata": {}
        },
        {
          "output_type": "display_data",
          "data": {
            "text/plain": [
              "sentence_bert_config.json:   0%|          | 0.00/57.0 [00:00<?, ?B/s]"
            ],
            "application/vnd.jupyter.widget-view+json": {
              "version_major": 2,
              "version_minor": 0,
              "model_id": "59fc54230e0449c4825bfe68783928d1"
            }
          },
          "metadata": {}
        },
        {
          "output_type": "display_data",
          "data": {
            "text/plain": [
              "config.json:   0%|          | 0.00/619 [00:00<?, ?B/s]"
            ],
            "application/vnd.jupyter.widget-view+json": {
              "version_major": 2,
              "version_minor": 0,
              "model_id": "7624bafa615c4640acf9815bbe83a84f"
            }
          },
          "metadata": {}
        },
        {
          "output_type": "display_data",
          "data": {
            "text/plain": [
              "model.safetensors:   0%|          | 0.00/670M [00:00<?, ?B/s]"
            ],
            "application/vnd.jupyter.widget-view+json": {
              "version_major": 2,
              "version_minor": 0,
              "model_id": "12fcaa0e702b49c6a1255fda69f4519c"
            }
          },
          "metadata": {}
        },
        {
          "output_type": "display_data",
          "data": {
            "text/plain": [
              "tokenizer_config.json:   0%|          | 0.00/342 [00:00<?, ?B/s]"
            ],
            "application/vnd.jupyter.widget-view+json": {
              "version_major": 2,
              "version_minor": 0,
              "model_id": "280eea1af71d435989dcffcbd6e9a4fa"
            }
          },
          "metadata": {}
        },
        {
          "output_type": "display_data",
          "data": {
            "text/plain": [
              "vocab.txt:   0%|          | 0.00/232k [00:00<?, ?B/s]"
            ],
            "application/vnd.jupyter.widget-view+json": {
              "version_major": 2,
              "version_minor": 0,
              "model_id": "e0ed003c076f45c49b06c598bd54d8f3"
            }
          },
          "metadata": {}
        },
        {
          "output_type": "display_data",
          "data": {
            "text/plain": [
              "tokenizer.json:   0%|          | 0.00/712k [00:00<?, ?B/s]"
            ],
            "application/vnd.jupyter.widget-view+json": {
              "version_major": 2,
              "version_minor": 0,
              "model_id": "a906aed338ca4176a1c01b8642a04468"
            }
          },
          "metadata": {}
        },
        {
          "output_type": "display_data",
          "data": {
            "text/plain": [
              "special_tokens_map.json:   0%|          | 0.00/125 [00:00<?, ?B/s]"
            ],
            "application/vnd.jupyter.widget-view+json": {
              "version_major": 2,
              "version_minor": 0,
              "model_id": "1ab6b5dbe53b4abbad6a7cd495ba9571"
            }
          },
          "metadata": {}
        },
        {
          "output_type": "display_data",
          "data": {
            "text/plain": [
              "config.json:   0%|          | 0.00/191 [00:00<?, ?B/s]"
            ],
            "application/vnd.jupyter.widget-view+json": {
              "version_major": 2,
              "version_minor": 0,
              "model_id": "70632a3704b348f98872c9326a3c6826"
            }
          },
          "metadata": {}
        }
      ]
    },
    {
      "cell_type": "markdown",
      "metadata": {
        "id": "qiKCOv4X0d7B"
      },
      "source": [
        "### Vector Database"
      ]
    },
    {
      "cell_type": "code",
      "source": [
        "report = 'Medical_Manual'\n",
        "vectorstore = Chroma.from_documents(\n",
        "    document_chunks,\n",
        "    embedding_model,\n",
        "    collection_name=report\n",
        ")"
      ],
      "metadata": {
        "id": "vHHt1MQQRVzs"
      },
      "execution_count": 54,
      "outputs": []
    },
    {
      "cell_type": "markdown",
      "metadata": {
        "id": "uEa5sKc41T1z"
      },
      "source": [
        "### Retriever"
      ]
    },
    {
      "cell_type": "markdown",
      "source": [
        "The user input is converted to a vector representation using the same model that was used for the context chunks. Then a similarity search is executed against the vectorized chunks in the vector database. Top-$k$ chunks from the search results in this step are then stuffed into the prompt as the context and the LLM is instructed to answer the user query using only the context."
      ],
      "metadata": {
        "id": "JwsOgHtIAOqT"
      }
    },
    {
      "cell_type": "markdown",
      "source": [
        "We will now create a retriever that can query an input text and retrieve the top −k  documents that are most relevant from the vector store.\n",
        "\n",
        "Under the hood, a similarity score is computed between the embedded query and all the chunks in the database\n",
        "The top  k  chunks with the highest similarity scores are then returned."
      ],
      "metadata": {
        "id": "e_HSlqIJAcfO"
      }
    },
    {
      "cell_type": "code",
      "source": [
        "retriever = vectorstore.as_retriever(\n",
        "    search_type='similarity',\n",
        "    search_kwargs={'k': 6}\n",
        ")"
      ],
      "metadata": {
        "id": "dqLRVNxuAdt2"
      },
      "execution_count": 55,
      "outputs": []
    },
    {
      "cell_type": "markdown",
      "source": [
        "The given code initializes a **retriever** from the **Chroma vector store** to fetch similar documents based on embeddings. Here's a breakdown:\n",
        "\n",
        "- `vectorstore.as_retriever(...)`: Converts the **Chroma vector store** into a retriever for querying.\n",
        "- `search_type='similarity'`: Specifies that retrieval is based on **cosine similarity** (or another similarity metric used by Chroma).\n",
        "- `search_kwargs={'k': 6}`: Retrieves the **top 6 most similar** documents for a given query.\n",
        "\n",
        "This allows for **efficient information retrieval**, where the retriever finds the most relevant document chunks based on their **semantic similarity** to a user's query."
      ],
      "metadata": {
        "id": "azL5MNK8AsOY"
      }
    },
    {
      "cell_type": "markdown",
      "metadata": {
        "id": "vw8qcwq66B0C",
        "nteract": {
          "transient": {
            "deleting": false
          }
        }
      },
      "source": [
        "### System and User Prompt Template"
      ]
    },
    {
      "cell_type": "markdown",
      "source": [
        "Prompt designing is a crucial part of designing a RAG based system, it consists mainly of two parts:\n",
        "\n",
        "- system message: This is the instruction that has to be given to the LLM.\n",
        "- user message template: This is a message template that contains the context retrieved from the document chunks and the User Query."
      ],
      "metadata": {
        "id": "-XNpgoMvMEZ6"
      }
    },
    {
      "cell_type": "code",
      "source": [
        "qna_system_message = \"\"\"\n",
        "You are an assistant whose work is to give answers to questions with repect to a context.\n",
        "User input will have the context required by you to answer user questions.\n",
        "\n",
        "This context will begin with the token: ###Context.\n",
        "The context contains references to specific portions of a document relevant to the user query.\n",
        "\n",
        "User questions will begin with the token: ###Question.\n",
        "\n",
        "Strictly answer only using the information provided in the ###Context.\n",
        "Do not mention anything about the information in ###Context or the question in ###Question in your final answer.\n",
        "\n",
        "If the answer to ###Question cannot be derived from the ###Context, just respond by saying \"I don't know\".\n",
        "\n",
        "Remember that the answer to ###Question might not always be directly present in the information provided in the ###Context.\n",
        "the answer can be indirectly derived from the information in ###Context.\n",
        "\n",
        "\"\"\""
      ],
      "metadata": {
        "id": "GF_4399TRW5D"
      },
      "execution_count": 56,
      "outputs": []
    },
    {
      "cell_type": "markdown",
      "source": [
        "Note: It is important to specify that the LLM should not attempt to answer the question if the context provided (retrieved from the knowledge base provided) doesn't contain the information required. We don't want the LLM to use the knowledge from its training data and/or hallucinate to share a \"seemingly correct\" answer."
      ],
      "metadata": {
        "id": "bz18HtkKMtvT"
      }
    },
    {
      "cell_type": "code",
      "source": [
        "qna_user_message_template = \"\"\"\n",
        "Conider the following ###Context and ###Question\n",
        "###Context\n",
        "{context}\n",
        "\n",
        "###Question\n",
        "{question}\n",
        "\"\"\""
      ],
      "metadata": {
        "id": "VPJGNlKzMr0u"
      },
      "execution_count": 57,
      "outputs": []
    },
    {
      "cell_type": "markdown",
      "metadata": {
        "id": "TkIteX4m6mny"
      },
      "source": [
        "### Response Function"
      ]
    },
    {
      "cell_type": "code",
      "source": [
        "def generate_rag_response(user_input,k=3,max_tokens=128,temperature=0,top_p=0.95,top_k=50):\n",
        "    global qna_system_message,qna_user_message_template\n",
        "    \"\"\"\n",
        "    Args:\n",
        "        user_input: Takes a user input for which the response should be retrieved from the vectorDB.\n",
        "        lcpp_llm: The LLM to be used for generating the response\n",
        "    Returns:\n",
        "        The generated response based on the user query and the context from the knowledge base\n",
        "    \"\"\"\n",
        "    # Retrieve relevant document chunks\n",
        "    relevant_document_chunks = retriever.get_relevant_documents(query=user_input,k=k)\n",
        "    context_list = [d.page_content for d in relevant_document_chunks]\n",
        "\n",
        "    # Combine document chunks into a single context\n",
        "    context_for_query = \". \".join(context_list)\n",
        "\n",
        "    user_message = qna_user_message_template.replace('{context}', context_for_query)\n",
        "    user_message = user_message.replace('{question}', user_input)\n",
        "\n",
        "    prompt = qna_system_message + '\\n' + user_message\n",
        "\n",
        "    # Generate the response\n",
        "    try:\n",
        "        response = lcpp_llm(\n",
        "                  prompt=prompt,\n",
        "                  max_tokens=max_tokens,\n",
        "                  temperature=temperature,\n",
        "                  top_p=top_p,\n",
        "                  top_k=top_k\n",
        "                  )\n",
        "\n",
        "\n",
        "        # Extract and print the model's response\n",
        "        response = response['choices'][0]['text'].strip()\n",
        "    except Exception as e:\n",
        "        response = f'Sorry, I encountered the following error: \\n {e}'\n",
        "\n",
        "    return response"
      ],
      "metadata": {
        "id": "5jFvGnOJRXZx"
      },
      "execution_count": 58,
      "outputs": []
    },
    {
      "cell_type": "code",
      "source": [
        "def RAG(user_input , llm):\n",
        "    \"\"\"\n",
        "    Args:\n",
        "        user_input: Takes a user input for which the response should be retrieved from the vectorDB.\n",
        "        llm: The LLM to be used for generating the response\n",
        "    Returns:\n",
        "        The generated response based on the user query and the context from the knowledge base\n",
        "    \"\"\"\n",
        "    relevant_document_chunks = retriever.get_relevant_documents(user_input)\n",
        "    context_list = [d.page_content.replace(\"\\t\", \" \") for d in relevant_document_chunks]\n",
        "    context_for_query = \". \".join(context_list)\n",
        "\n",
        "\n",
        "\n",
        "    # Combine user_prompt and system_message to create the prompt\n",
        "    prompt = f\"\"\"[INST]{qna_system_message}\\n\n",
        "                {'user'}: {qna_user_message_template.format(context=context_for_query, question=user_input)}\n",
        "                [/INST]\"\"\"\n",
        "\n",
        "\n",
        "    # Quering an LLM\n",
        "    try:\n",
        "        response = llm(\n",
        "                prompt=prompt,\n",
        "                max_tokens=500,\n",
        "                temperature=0.4,\n",
        "                top_p=0.95,\n",
        "                repeat_penalty=1.2,\n",
        "                top_k=25,\n",
        "                stop=['INST'],\n",
        "                echo=False\n",
        "                )\n",
        "        def insert_line_breaks(text, max_words=20):\n",
        "          words = text.split()\n",
        "          lines = []\n",
        "          for i in range(0, len(words), max_words):\n",
        "            lines.append(' '.join(words[i:i + max_words]))\n",
        "          return '\\n'.join(lines)\n",
        "\n",
        "        prediction =  response[\"choices\"][0][\"text\"]\n",
        "\n",
        "    except Exception as e:\n",
        "        prediction = f'Sorry, I encountered the following error: \\n {e}'\n",
        "\n",
        "    return  prediction"
      ],
      "metadata": {
        "id": "EsyCFVU8VYU_"
      },
      "execution_count": 59,
      "outputs": []
    },
    {
      "cell_type": "markdown",
      "source": [
        "## Question Answering using RAG"
      ],
      "metadata": {
        "id": "ffP1SRYbPQHN"
      }
    },
    {
      "cell_type": "markdown",
      "source": [],
      "metadata": {
        "id": "DwbmoexWNf1k"
      }
    },
    {
      "cell_type": "markdown",
      "metadata": {
        "id": "JjajBEj06B0E"
      },
      "source": [
        "### Query 1: What is the protocol for managing sepsis in a critical care unit?"
      ]
    },
    {
      "cell_type": "code",
      "source": [
        "print(RAG(\"What is the protocol for managing sepsis in a critical care unit?\",lcpp_llm))"
      ],
      "metadata": {
        "id": "Nlo9sMpPRbTP",
        "colab": {
          "base_uri": "https://localhost:8080/"
        },
        "outputId": "06bc1e44-bd6b-45e2-f55a-391c3c8c56ff"
      },
      "execution_count": 60,
      "outputs": [
        {
          "output_type": "stream",
          "name": "stderr",
          "text": [
            "Llama.generate: prefix-match hit\n"
          ]
        },
        {
          "output_type": "stream",
          "name": "stdout",
          "text": [
            "  Based on the provided context, I cannot directly answer your question as it requires information beyond what is provided. However, based on the context, I can provide some suggestions that may be helpful:\n",
            "\n",
            "1. Monitoring: The patient's vital signs and other relevant parameters should be closely monitored to detect any changes or deterioration in their condition. This includes temperature, blood pressure, heart rate, respiratory rate, oxygen saturation, and urine output.\n",
            "2. Fluid management: Sepsis patients often require aggressive fluid resuscitation to maintain mean arterial pressure (MAP) of at least 65 mmHg. Crystalloid fluids such as normal saline or lactated Ringer's solution should be administered initially, and vasopressors may be added if necessary.\n",
            "3. Antibiotics: Broad-spectrum antibiotics effective against common causes of sepsis (such as gram-negative bacteria) should be initiated promptly, ideally within the first hour of recognition of septic shock. The choice of antibiotics may need to be adjusted based on culture results and other factors.\n",
            "4. Source control: Drainage of abscesses or excision of necrotic tissue may be necessary to remove sources of infection and promote healing.\n",
            "5. Glucose management: Maintaining normal blood glucose levels (80-110 mg/dL) is important for improving outcomes in sepsis patients, even those not known to have diabetes. Insulin therapy may be necessary if the patient's blood glucose level remains elevated despite fluid and antibiotic management.\n",
            "6. Corticosteroid therapy: Hydrocortisone or other corticosteroids may be administered to support adren\n"
          ]
        }
      ]
    },
    {
      "cell_type": "markdown",
      "metadata": {
        "id": "QDw8zXuq6B0F"
      },
      "source": [
        "### Query 2: What are the common symptoms for appendicitis, and can it be cured via medicine? If not, what surgical procedure should be followed to treat it?"
      ]
    },
    {
      "cell_type": "code",
      "source": [
        "print(RAG(\"What are the common symptoms for appendicitis, and can it be cured via medicine? If not, what surgical procedure should be followed to treat it?\",lcpp_llm))"
      ],
      "metadata": {
        "id": "PVReF4G8RbzR",
        "colab": {
          "base_uri": "https://localhost:8080/"
        },
        "outputId": "fa8450c4-f697-437e-f25c-92483cc30b44"
      },
      "execution_count": 61,
      "outputs": [
        {
          "output_type": "stream",
          "name": "stderr",
          "text": [
            "Llama.generate: prefix-match hit\n"
          ]
        },
        {
          "output_type": "stream",
          "name": "stdout",
          "text": [
            "  ###Context\n",
            "The context discusses acute appendicitis, its symptoms, diagnosis, and treatment options.\n",
            "\n",
            "###Question\n",
            "What are the common symptoms for appendicitis, and can it be cured via medicine? If not, what surgical procedure should be followed to treat it?\n",
            "\n",
            "Answer: \n",
            "Common symptoms of appendicitis include epigastric or periumbilical pain, nausea, vomiting, anorexia, and tenderness in the right lower quadrant. However, these classic findings may not always be present, and atypical symptoms can occur, especially among elderly patients and pregnant women.\n",
            "\n",
            " Appendicitis is primarily a clinical diagnosis, and imaging studies should only be done when necessary to confirm the diagnosis or rule out other conditions. Laparotomy is the most appropriate surgical procedure for treating appendicitis, as it allows for prompt removal of the inflamed appendix and drainage of any abscesses.\n",
            "\n",
            "In some cases, antibiotics may be used preoperatively to reduce the risk of complications, but they are not a substitute for surgery. Appendectomy is the only definitive treatment for appendicitis, and delaying surgical intervention can lead to increased morbidity and mortality rates.\n"
          ]
        }
      ]
    },
    {
      "cell_type": "markdown",
      "metadata": {
        "id": "TggYyQPL6B0G"
      },
      "source": [
        "### Query 3: What are the effective treatments or solutions for addressing sudden patchy hair loss, commonly seen as localized bald spots on the scalp, and what could be the possible causes behind it?"
      ]
    },
    {
      "cell_type": "code",
      "source": [
        "print(RAG(\"What are the effective treatments or solutions for addressing sudden patchy hair loss, commonly seen as localized bald spots on the scalp, and what could be the possible causes behind it?\",lcpp_llm))"
      ],
      "metadata": {
        "id": "0aRbadGtRcX0",
        "colab": {
          "base_uri": "https://localhost:8080/"
        },
        "outputId": "ff5bc022-73be-4943-99e1-439f9af45c2b"
      },
      "execution_count": 62,
      "outputs": [
        {
          "output_type": "stream",
          "name": "stderr",
          "text": [
            "Llama.generate: prefix-match hit\n"
          ]
        },
        {
          "output_type": "stream",
          "name": "stdout",
          "text": [
            "  Based on the information provided in the context, the following is an answer to the question:\n",
            "\n",
            "Sudden patchy hair loss, typically seen as localized bald spots on the scalp, can have various causes. One common cause is alopecia areata, which is an autoimmune disorder that leads to hair loss due to inflammation and destruction of hair follicles. Another possible cause could be telogen effluvium, a condition where there is a significant increase in the number of hair follicles entering the resting phase, leading to excessive hair shedding.\n",
            "\n",
            "Effective treatments for sudden patchy hair loss include:\n",
            "\n",
            "1. Corticosteroids: These medications can help reduce inflammation and suppress the immune system, which can slow down or stop hair loss caused by alopecia areata.\n",
            "2. Topical minoxidil: This medication is applied directly to the scalp and can stimulate hair growth by increasing blood flow and widening the hair follicles.\n",
            "3. Anthralin: This medication is also topically applied and works by reducing inflammation and promoting hair growth.\n",
            "4. Finasteride: This oral medication blocks the conversion of testosterone to dihydrotestosterone, which can help slow down hair loss caused by male-pattern baldness.\n",
            "5. Platelet-rich plasma (PRP) therapy: This is a non-surgical treatment that involves injecting platelets rich in growth factors into the scalp to stimulate hair growth.\n",
            "\n",
            "It's essential to consult a dermatologist or healthcare professional for an accurate diagnosis and appropriate treatment plan, as they can help determine the underlying cause of sudden patchy hair loss and recommend personalized treatments based on individual cases.\n"
          ]
        }
      ]
    },
    {
      "cell_type": "markdown",
      "metadata": {
        "id": "1TgxdI-_6B0G"
      },
      "source": [
        "### Query 4:  What treatments are recommended for a person who has sustained a physical injury to brain tissue, resulting in temporary or permanent impairment of brain function?"
      ]
    },
    {
      "cell_type": "code",
      "source": [
        "print(RAG(\"What treatments are recommended for a person who has sustained a physical injury to brain tissue, resulting in temporary or permanent impairment of brain function?\",lcpp_llm))"
      ],
      "metadata": {
        "id": "0vzRX1TcRc29",
        "colab": {
          "base_uri": "https://localhost:8080/"
        },
        "outputId": "daad71ec-f92b-442f-9364-0b455014e966"
      },
      "execution_count": 63,
      "outputs": [
        {
          "output_type": "stream",
          "name": "stderr",
          "text": [
            "Llama.generate: prefix-match hit\n"
          ]
        },
        {
          "output_type": "stream",
          "name": "stdout",
          "text": [
            "  Based on the information provided in the context, there are several treatment recommendations for a person who has sustained a physical injury to brain tissue and is experiencing temporary or permanent impairment of brain function. These include:\n",
            "\n",
            "1. Supportive care: Preventing systemic complications due to immobilization (e.g., pneumonia, UTI, thromboembolic disease) and providing good nutrition are essential.\n",
            "2. Physical therapy: Providing physical therapy to prevent limb contractures is crucial in the rehabilitation process.\n",
            "3. Therapeutic systemic hypothermia: This treatment has not been found helpful in clinical trials, and corticosteroids are not recommended as they have been associated with a worse outcome in recent studies.\n",
            "4. Seizure management: Prompt treatment of seizures is essential to prevent worsening brain damage and increasing intracranial pressure. Prophylactic anticonvulsants may be considered for patients with significant structural injury or a GCS score < 10.\n",
            "5. Rehabilitation services: Early intervention by rehabilitation specialists is crucial to maximize functional recovery, prevent secondary disabilities, and provide cognitive therapy as needed. The specific rehabilitation therapy will depend on the patient's abnormalities, which are determined by the level and extent of the injury.\n",
            "\n",
            "It is important to note that these treatments may not be directly present in the context provided but can be inferred based on the information given. Additionally, it is essential to consult with a medical professional for personalized treatment recommendations.\n"
          ]
        }
      ]
    },
    {
      "cell_type": "markdown",
      "metadata": {
        "id": "FlHXYCkm6B0H"
      },
      "source": [
        "### Query 5: What are the necessary precautions and treatment steps for a person who has fractured their leg during a hiking trip, and what should be considered for their care and recovery?"
      ]
    },
    {
      "cell_type": "code",
      "source": [
        "print(RAG(\"What are the necessary precautions and treatment steps for a person who has fractured their leg during a hiking trip, and what should be considered for their care and recovery?\",lcpp_llm))"
      ],
      "metadata": {
        "id": "sarpUibcRdhq",
        "colab": {
          "base_uri": "https://localhost:8080/"
        },
        "outputId": "c4042eb2-4c3b-4c50-955b-f7b2783b9f67"
      },
      "execution_count": 64,
      "outputs": [
        {
          "output_type": "stream",
          "name": "stderr",
          "text": [
            "Llama.generate: prefix-match hit\n"
          ]
        },
        {
          "output_type": "stream",
          "name": "stdout",
          "text": [
            "  Based on the provided context, here is my answer to your question:\n",
            "\n",
            "To ensure proper care and recovery for an individual with a fractured leg sustained during a hiking trip, it is essential to follow these necessary precautions and treatment steps:\n",
            "\n",
            "1. Immobilization: The injured limb should be immobilized using a splint or cast to prevent further injury and promote healing. This will help minimize pain, swelling, and the risk of complications such as compartment syndrome.\n",
            "2. Elevation: Elevate the affected leg above heart level to reduce swelling and promote blood flow.\n",
            "3. Pain management: Administer appropriate analgesics to manage pain effectively, ensuring that the patient is comfortable and able to rest properly.\n",
            "4. Wound care: Keep the wound clean and dry, applying a sterile dressing to prevent infection. Monitor for signs of infection, such as redness, swelling, or increased pain.\n",
            "5. Rest: Encourage the patient to rest and avoid putting weight on the injured leg during the recovery period. This will help reduce the risk of further injury or complications.\n",
            "6. Cold therapy: Apply cold compresses or ice packs wrapped in a towel to the affected area for 15-20 minutes every hour, as needed, to reduce pain and swelling.\n",
            "7. Monitoring: Closely monitor the patient's condition, watching for signs of infection, such as redness, swelling, or increased pain, and addressing any issues promptly.\n",
            "8. Follow-up care: Schedule follow-up appointments with a healthcare professional to assess progress, remove any casts or splints, and ensure proper healing is taking place.\n",
            "9. Rehabilitation: Once the initial recovery period has passed, initiate rehabilitation exercises to regain strength, flexibility, and range of motion in the affected limb. This may involve physical therapy or home exercise programs.\n",
            "10. Follow-up appointments: Schedule follow-up appointments with a healthcare professional to assess progress, address any concerns or complications, and ensure proper healing is taking place.\n",
            "\n",
            "It is essential to note that the specific treatment plan may vary depending on the severity and type of\n"
          ]
        }
      ]
    },
    {
      "cell_type": "markdown",
      "source": [
        "### Fine-tuning"
      ],
      "metadata": {
        "id": "K7TYrqycEITB"
      }
    },
    {
      "cell_type": "markdown",
      "source": [
        "- **`max_tokens`**: This parameter **specifies the maximum number of tokens that the model should generate** in response to the prompt.\n",
        "\n",
        "- **`temperature`**: This parameter **controls the randomness of the generated response**. A higher temperature value will result in a more random response, while a lower temperature value will result in a more predictable response.\n",
        "\n",
        "- **`top_p`**: This parameter **controls the diversity of the generated response by establishing a cumulative probability cutoff for token selection**. A higher value of top_p will result in a more diverse response, while a lower value will result in a less diverse response.\n",
        "\n",
        "- **`repeat_penalty`**: This parameter **controls the penalty for repeating tokens in the generated response**. A higher value of repeat_penalty will result in a lower probability of repeating tokens, while a lower value will result in a higher probability of repeating tokens.\n",
        "\n",
        "- **`top_k`**: This parameter **controls the maximum number of most-likely next tokens to consider** when generating the response at each step.\n",
        "\n",
        "- **`stop`**: This parameter is a **list of tokens that are used to dynamically stop response generation** whenever the tokens in the list are encountered.\n",
        "\n",
        "- **`echo`**: This parameter **controls whether the input (prompt) to the model should be returned** in the model response."
      ],
      "metadata": {
        "id": "P3H3EB6a_1lK"
      }
    },
    {
      "cell_type": "code",
      "source": [
        "# The  predefined parameters are the default paramters for the original RAG function\n",
        "def RAG_fine_tune(user_input,llm,max_tokens=500,temperature=0.4,top_p=0.95,top_k=25,repeat_penalty=1.2):\n",
        "    \"\"\"\n",
        "    Args:\n",
        "        user_input: Takes a user input for which the response should be retrieved from the vectorDB.\n",
        "        llm: The LLM to be used for generating the response\n",
        "    Returns:\n",
        "        The generated response based on the user query and the context from the knowledge base\n",
        "    \"\"\"\n",
        "    relevant_document_chunks = retriever.get_relevant_documents(user_input)\n",
        "    context_list = [d.page_content.replace(\"\\t\", \" \") for d in relevant_document_chunks]\n",
        "    context_for_query = \". \".join(context_list)\n",
        "\n",
        "\n",
        "\n",
        "    # Combine user_prompt and system_message to create the prompt\n",
        "    prompt = f\"\"\"[INST]{qna_system_message}\\n\n",
        "                {'user'}: {qna_user_message_template.format(context=context_for_query, question=user_input)}\n",
        "                [/INST]\"\"\"\n",
        "\n",
        "\n",
        "    # Quering an LLM\n",
        "    try:\n",
        "        response = llm(\n",
        "                prompt=prompt,\n",
        "                max_tokens=max_tokens,\n",
        "                temperature=temperature,\n",
        "                top_p=top_p,\n",
        "                repeat_penalty=1.2,\n",
        "                top_k=top_k,\n",
        "                stop=['INST'],\n",
        "                echo=False\n",
        "                )\n",
        "        def insert_line_breaks(text, max_words=20):\n",
        "          words = text.split()\n",
        "          lines = []\n",
        "          for i in range(0, len(words), max_words):\n",
        "            lines.append(' '.join(words[i:i + max_words]))\n",
        "          return '\\n'.join(lines)\n",
        "\n",
        "        prediction =  response[\"choices\"][0][\"text\"]\n",
        "\n",
        "    except Exception as e:\n",
        "        prediction = f'Sorry, I encountered the following error: \\n {e}'\n",
        "\n",
        "    return  insert_line_breaks(prediction)"
      ],
      "metadata": {
        "id": "bcd5tqAR5_tP"
      },
      "execution_count": 90,
      "outputs": []
    },
    {
      "cell_type": "markdown",
      "source": [
        "#### Query 1: What is the protocol for managing sepsis in a critical care unit?"
      ],
      "metadata": {
        "id": "DT5yX8Qb3Iqt"
      }
    },
    {
      "cell_type": "code",
      "source": [
        "print(RAG_fine_tune(\"What is the protocol for managing sepsis in a critical care unit?\",lcpp_llm,max_tokens=1000))"
      ],
      "metadata": {
        "id": "7UYBR-hcReSo",
        "colab": {
          "base_uri": "https://localhost:8080/"
        },
        "outputId": "c695508a-a57d-4e1b-f94c-8b2b73a89c2d"
      },
      "execution_count": 91,
      "outputs": [
        {
          "output_type": "stream",
          "name": "stderr",
          "text": [
            "Llama.generate: prefix-match hit\n"
          ]
        },
        {
          "output_type": "stream",
          "name": "stdout",
          "text": [
            "Based on the provided context, there is no direct answer to your question in the given text. However, I can\n",
            "provide information that may help you find the answer. The management of sepsis in a critical care unit typically involves\n",
            "early recognition and aggressive treatment with antibiotics, fluid resuscitation, and supportive care. The protocol for managing sepsis in an ICU\n",
            "may include: 1. Early identification of patients at risk for sepsis using clinical criteria such as SIRS (Systemic Inflammatory Response\n",
            "Syndrome) or SOFA (Sequential Organ Failure Assessment). 2. Administration of broad-spectrum antibiotics within the first hour of recognition of sepsis,\n",
            "followed by cultures and adjustment of therapy based on culture results. 3. Aggressive fluid resuscitation with 0.9% saline to maintain\n",
            "mean arterial pressure (MAP) ≥ 65 mmHg and central venous oxygen saturation (ScvO2) ≥ 70%. 4. Monitoring of vital signs,\n",
            "including temperature, blood pressure, heart rate, respiratory rate, and oxygen saturation every hour for the first 24 hours and as\n",
            "clinically indicated thereafter. 5. Close monitoring of laboratory values, such as white blood cell count, serum creatinine, and blood urea\n",
            "nitrogen, to assess organ dysfunction and guide therapy. 6. Management of hypoglycemia with insulin infusion to maintain blood glucose levels\n",
            "between 140-180 mg/dL. 7. Use of vasopressors (such as norepinephrine or dopamine) to maintain mean arterial pressure and cardiac output\n",
            "if fluid resuscitation is not sufficient. 8. Early recognition and\n"
          ]
        }
      ]
    },
    {
      "cell_type": "markdown",
      "source": [
        "#### Query 2: What are the common symptoms for appendicitis, and can it be cured via medicine? If not, what surgical procedure should be followed to treat it?"
      ],
      "metadata": {
        "id": "Pfs2kxaP95ZF"
      }
    },
    {
      "cell_type": "code",
      "source": [
        "print(RAG_fine_tune(\"What are the common symptoms for appendicitis, and can it be cured via medicine? If not, what surgical procedure should be followed to treat it?\",lcpp_llm,temperature=0.9))"
      ],
      "metadata": {
        "colab": {
          "base_uri": "https://localhost:8080/"
        },
        "id": "bTXRbpx6-DZ6",
        "outputId": "b743c810-cd53-4c12-f52b-b8812b5d6a51"
      },
      "execution_count": 92,
      "outputs": [
        {
          "output_type": "stream",
          "name": "stderr",
          "text": [
            "Llama.generate: prefix-match hit\n"
          ]
        },
        {
          "output_type": "stream",
          "name": "stdout",
          "text": [
            "###Context The context discusses acute appendicitis, its symptoms, diagnosis, treatment options, and prognosis. It also mentions other conditions affecting the\n",
            "appendix and their management. ###Question What are the common symptoms for appendicitis, and can it be cured via medicine? If\n",
            "not, what surgical procedure should be followed to treat it? Answer: The common symptoms of appendicitis include abdominal pain (typically\n",
            "in the right lower quadrant), nausea, vomiting, fever, loss of appetite, and tender abdomen. While appendicitis can be treated with\n",
            "antibiotics if caught early, prompt surgical intervention is essential to prevent complications like gangrene or perforation. The recommended surgical procedure\n",
            "for treating acute appendicitis is a laparoscopic appendectomy or open appendectomy, depending on the severity of the condition and the\n",
            "surgeon's preference.\n"
          ]
        }
      ]
    },
    {
      "cell_type": "markdown",
      "source": [
        "#### Query 3: What are the effective treatments or solutions for addressing sudden patchy hair loss, commonly seen as localized bald spots on the scalp, and what could be the possible causes behind it?"
      ],
      "metadata": {
        "id": "TJv7Ir9wAQv8"
      }
    },
    {
      "cell_type": "code",
      "source": [
        "print(RAG_fine_tune(\"What are the effective treatments or solutions for addressing sudden patchy hair loss, commonly seen as localized bald spots on the scalp, and what could be the possible causes behind it?\",\n",
        "                    lcpp_llm,top_p=0.90))"
      ],
      "metadata": {
        "colab": {
          "base_uri": "https://localhost:8080/"
        },
        "id": "uaeyO4y5AtDC",
        "outputId": "737d16b3-3c6d-4e82-bbd0-911da7aa95c8"
      },
      "execution_count": 93,
      "outputs": [
        {
          "output_type": "stream",
          "name": "stderr",
          "text": [
            "Llama.generate: prefix-match hit\n"
          ]
        },
        {
          "output_type": "stream",
          "name": "stdout",
          "text": [
            "Based on the context provided, the following is my answer to your question: Sudden patchy hair loss, also known as\n",
            "alopecia areata, can be treated with topical corticosteroids, oral anti-inflammatory medications, or immunomodulatory drugs. The effectiveness of these treatments varies\n",
            "depending on the severity and location of the hair loss. In some cases, hair growth may resume spontaneously within a\n",
            "few months without treatment. Possible causes of sudden patchy hair loss include autoimmune disorders such as alopecia areata, fungal infections\n",
            "like tinea capitis, bacterial infections like folliculitis, and stress-induced telogen effluvium. A thorough examination by a dermatologist is necessary to\n",
            "determine the underlying cause of hair loss and develop an appropriate treatment plan. Please note that I cannot provide medical\n",
            "advice or diagnose conditions based on limited information. If you are experiencing sudden patchy hair loss, it is essential to\n",
            "consult a qualified healthcare professional for proper evaluation and treatment.\n"
          ]
        }
      ]
    },
    {
      "cell_type": "markdown",
      "source": [
        "#### Query 4:  What treatments are recommended for a person who has sustained a physical injury to brain tissue, resulting in temporary or permanent impairment of brain function?"
      ],
      "metadata": {
        "id": "DPkQtgO2Ehb_"
      }
    },
    {
      "cell_type": "code",
      "source": [
        "# Increase k=50\t- Sample randomly among the top 50 tokens for more randomness, and more diversity\n",
        "print(RAG_fine_tune(\"What treatments are recommended for a person who has sustained a physical injury to brain tissue, resulting in temporary or permanent impairment of brain function?\",\n",
        "                    lcpp_llm,top_k=50))"
      ],
      "metadata": {
        "colab": {
          "base_uri": "https://localhost:8080/"
        },
        "id": "dgQ082boFnwF",
        "outputId": "0111fcb4-d957-4f6b-b046-a2d7d77bcaaf"
      },
      "execution_count": 94,
      "outputs": [
        {
          "output_type": "stream",
          "name": "stderr",
          "text": [
            "Llama.generate: prefix-match hit\n"
          ]
        },
        {
          "output_type": "stream",
          "name": "stdout",
          "text": [
            "Based on the information provided in the context, there are no direct answers to your question regarding specific treatments for\n",
            "a person with a traumatic brain injury. However, supportive care is recommended to prevent systemic complications and ensure good nutrition.\n",
            "Additionally, physical therapy may be necessary to prevent limb contractures. The Merck Manual of Diagnosis & Therapy recommends the following:\n",
            "• Preventing systemic complications due to immobilization (eg, pneumonia, UTI, thromboembolic disease) • Providing good nutrition • Preventing pressure ulcers\n",
            "• Providing physical therapy to prevent limb contractures.\n"
          ]
        }
      ]
    },
    {
      "cell_type": "markdown",
      "source": [
        "#### Query 5: What are the necessary precautions and treatment steps for a person who has fractured their leg during a hiking trip, and what should be considered for their care and recovery?"
      ],
      "metadata": {
        "id": "acaYonocKJGC"
      }
    },
    {
      "cell_type": "code",
      "source": [
        "#  Increase repeat_penalty = 1.5 - 2.0\t for Strong penalty which forces very diverse output.\n",
        "print(RAG_fine_tune(\"What are the necessary precautions and treatment steps for a person who has fractured their leg during a hiking trip, and what should be considered for their care and recovery?\",\n",
        "                    lcpp_llm,repeat_penalty=1.75))"
      ],
      "metadata": {
        "colab": {
          "base_uri": "https://localhost:8080/"
        },
        "id": "kn95rIzRI6oM",
        "outputId": "115698e4-6178-474b-9d6c-e3a98543d8e9"
      },
      "execution_count": 95,
      "outputs": [
        {
          "output_type": "stream",
          "name": "stderr",
          "text": [
            "Llama.generate: prefix-match hit\n"
          ]
        },
        {
          "output_type": "stream",
          "name": "stdout",
          "text": [
            "Based on the provided context, here is my answer to your question: To ensure proper care and recovery for someone\n",
            "with a fractured leg from a hiking trip, it is essential to follow these necessary precautions and treatment steps: 1.\n",
            "Immobilization: The injured limb should be immobilized using a splint or cast to prevent further injury and promote healing. This\n",
            "will help reduce pain, swelling, and the risk of complications such as compartment syndrome. 2. Elevation: Elevate the affected leg\n",
            "above heart level to reduce swelling and promote blood flow. 3. Pain management: Administer appropriate analgesics to manage pain effectively.\n",
            "This will help the patient rest comfortably, reducing the risk of complications like pressure sores. 4. Monitoring for signs of\n",
            "infection: Keep an eye out for signs of infection such as redness, swelling, or increased pain around the fracture site.\n",
            "If any of these symptoms occur, seek medical attention immediately. 5. Follow-up appointments: Schedule regular follow-up appointments with a healthcare\n",
            "professional to monitor progress and address any concerns that may arise during recovery. This will help ensure proper healing and\n",
            "prevent potential complications. 6. Restrictions on weight-bearing activities: Avoid putting excessive weight on the affected leg until it has fully\n",
            "recovered, as this can impede healing and lead to further injury. 7. Physical therapy: Once the initial healing process is\n",
            "underway, physical therapy exercises should be initiated to help restore strength, flexibility, and range of motion in the injured limb.\n",
            "This will facilitate a smoother recovery and reduce the risk of long-term complications. 8. Monitoring for nerve damage: Be aware\n",
            "of the possibility of nerve damage resulting from the fracture or immobilization. If numbness, tingling, or weakness persist after healing\n",
            "has occurred, seek medical attention to address any potential issues. 9. Follow-up imaging: Obtain follow-up X-rays or other imaging studies\n",
            "to ensure proper alignment and healing of the fracture site. This will help identify and address any potential complications early\n",
            "on. 10. Supportive care: Provide supportive\n"
          ]
        }
      ]
    },
    {
      "cell_type": "markdown",
      "metadata": {
        "id": "yyQrTipNfuBN"
      },
      "source": [
        "## Output Evaluation"
      ]
    },
    {
      "cell_type": "markdown",
      "source": [
        "- **Measuring Groundedness** – Ensuring that the generated response is **faithfully derived** from the retrieved documents.  \n",
        "- **Assessing Relevance** – Checking if the retrieved information directly answers the user’s query.    "
      ],
      "metadata": {
        "id": "exZpP8uNNPbq"
      }
    },
    {
      "cell_type": "markdown",
      "source": [
        "For our RAG-based system, I am going to use the **LLM-as-a-Judge** method because other evaluation methods like BLEU and ROGUE score require human reference text as a gold standard reference which we don't have for this case.\n",
        "\n",
        "LLM judge can determine whether the generated output accurately synthesizes information from the retrieved documents without introducing hallucinations or inconsistencies. It evaluates if the response is contextually relevant and answers the query effectively. Additionally, LLMs can check for logical coherence, ensuring that the generated text flows naturally and maintains consistency throughout.\n",
        "\n",
        "This method offers several advantages, including scalability and consistency in evaluations, as the LLM can quickly assess large volumes of outputs using predefined criteria. It also reduces the need for human evaluators, enabling faster iteration and improvement of RAG systems. However, challenges include ensuring that the LLM judge itself is factually accurate and unbiased. To address this, LLMs are often fine-tuned or guided using specific evaluation prompts and rubrics to enhance their judgment capabilities.\n",
        "\n",
        "Overall, using an LLM as a judge enhances the evaluation process in RAG systems by providing a scalable and consistent way to measure relevance, coherence, and factual accuracy.\n",
        "\n",
        "- We are using the same Llama model for evaluation, so the LLM is rating itself on how well it has performed in the task."
      ],
      "metadata": {
        "id": "bdxlNRCWNTvd"
      }
    },
    {
      "cell_type": "markdown",
      "source": [
        "Two variables: *groundedness_rater_system_message*, and *relevance_rater_system_message*, define the evaluation criteria for assessing the quality of the generated answers."
      ],
      "metadata": {
        "id": "sIrYt-l2N3sf"
      }
    },
    {
      "cell_type": "code",
      "source": [
        "groundedness_rater_system_message = \"\"\"\n",
        "\n",
        "You will be presented a ###Question, ###Context used by the AI system and AI generated ###Answer.\n",
        "\n",
        "Your task is to judge the extent to which the ###Answer is derived from ###Context.\n",
        "\n",
        "Rate it 1 - if The ###Answer is not derived from the ###Context at all\n",
        "Rate it 2 - if The ###Answer is derived from the ###Context only to a limited extent\n",
        "Rate it 3 - if The ###Answer is derived from ###Context to a good extent\n",
        "Rate it 4 - if The ###Answer is derived from ###Context mostly\n",
        "Rate it 5 - if The ###Answer is is derived from ###Context completely\n",
        "\n",
        "Please note: Make sure you give a single overall rating in the range of 1 to 5 along with an overall explanation.\n",
        "\n",
        "\"\"\""
      ],
      "metadata": {
        "id": "_apvITDbNxQG"
      },
      "execution_count": 71,
      "outputs": []
    },
    {
      "cell_type": "code",
      "source": [
        "relevance_rater_system_message = \"\"\"\n",
        "\n",
        "You will be presented with a ###Question, the ###Context used by the AI system to generate a response, and the AI-generated ###Answer.\n",
        "\n",
        "Your task is to judge the extent to which the ###Answer is relevant to the ###Question, considering whether it directly addresses the key aspects of the ###Question based on the provided ###Context.\n",
        "\n",
        "Rate the relevance as follows:\n",
        "- Rate 1 – The ###Answer is not relevant to the ###Question at all.\n",
        "- Rate 2 – The ###Answer is only slightly relevant to the **###Question**, missing key aspects.\n",
        "- Rate 3 – The ###Answer is moderately relevant, addressing some parts of the **###Question** but leaving out important details.\n",
        "- Rate 4 – The ###Answer is mostly relevant, covering key aspects but with minor gaps.\n",
        "- Rate 5 – The ###Answer is fully relevant, directly answering all important aspects of the **###Question** with appropriate details from the **###Context**.\n",
        "\n",
        "Note: Provide a single overall rating in the range of 1 to 5, along with a brief explanation of why you assigned that score.\n",
        "\"\"\""
      ],
      "metadata": {
        "id": "qZCRO27iEriZ"
      },
      "execution_count": 72,
      "outputs": []
    },
    {
      "cell_type": "code",
      "source": [
        "user_message_template = \"\"\"\n",
        "###Question\n",
        "{question}\n",
        "\n",
        "###Context\n",
        "{context}\n",
        "\n",
        "###Answer\n",
        "{answer}\n",
        "\"\"\""
      ],
      "metadata": {
        "id": "RLqiSn-iRwSl"
      },
      "execution_count": 73,
      "outputs": []
    },
    {
      "cell_type": "code",
      "source": [
        "def generate_ground_relevance_response(user_input,k=3,max_tokens=128,temperature=0,top_p=0.95,top_k=50):\n",
        "    global qna_system_message,qna_user_message_template\n",
        "    # Retrieve relevant document chunks\n",
        "    relevant_document_chunks = retriever.get_relevant_documents(query=user_input,k=3)\n",
        "    context_list = [d.page_content for d in relevant_document_chunks]\n",
        "    context_for_query = \". \".join(context_list)\n",
        "\n",
        "     #Truncate the context to ensure it fits within the context window\n",
        "    context_for_query = \". \".join(context_list)\n",
        "    # Use \"cl100k_base\" encoding instead of \"llama-2-13b-chat\"\n",
        "    context_tokens = tiktoken.get_encoding(\"cl100k_base\").encode(context_for_query)\n",
        "    if len(context_tokens) > 2048:  # Reserve 2048 tokens for the context\n",
        "        # Use \"cl100k_base\" encoding instead of \"llama-2-13b-chat\"\n",
        "        context_for_query = tiktoken.get_encoding(\"cl100k_base\").decode(context_tokens[:2048])\n",
        "\n",
        "    # Combine user_prompt and system_message to create the prompt\n",
        "    prompt = f\"\"\"[INST]{qna_system_message}\\n\n",
        "                {'user'}: {qna_user_message_template.format(context=context_for_query, question=user_input)}\n",
        "                [/INST]\"\"\"\n",
        "\n",
        "    response = lcpp_llm(\n",
        "            prompt=prompt,\n",
        "            max_tokens=max_tokens,\n",
        "            temperature=temperature,\n",
        "            top_p=top_p,\n",
        "            top_k=top_k,\n",
        "            stop=['INST'],\n",
        "            echo=False\n",
        "            )\n",
        "\n",
        "    answer =  response[\"choices\"][0][\"text\"]\n",
        "\n",
        "    # Combine user_prompt and system_message to create the prompt\n",
        "    groundedness_prompt = f\"\"\"[INST]{groundedness_rater_system_message}\\n\n",
        "                {'user'}: {user_message_template.format(context=context_for_query, question=user_input, answer=answer)}\n",
        "                [/INST]\"\"\"\n",
        "\n",
        "    # Combine user_prompt and system_message to create the prompt\n",
        "    relevance_prompt = f\"\"\"[INST]{relevance_rater_system_message}\\n\n",
        "                {'user'}: {user_message_template.format(context=context_for_query, question=user_input, answer=answer)}\n",
        "                [/INST]\"\"\"\n",
        "\n",
        "    response_1 = lcpp_llm(\n",
        "            prompt=groundedness_prompt,\n",
        "            max_tokens=max_tokens,\n",
        "            temperature=temperature,\n",
        "            top_p=top_p,\n",
        "            top_k=top_k,\n",
        "            stop=['INST'],\n",
        "            echo=False\n",
        "            )\n",
        "\n",
        "    response_2 = lcpp_llm(\n",
        "            prompt=relevance_prompt,\n",
        "            max_tokens=max_tokens,\n",
        "            temperature=temperature,\n",
        "            top_p=top_p,\n",
        "            top_k=top_k,\n",
        "            stop=['INST'],\n",
        "            echo=False\n",
        "            )\n",
        "    def insert_line_breaks(text, max_words=20):\n",
        "      words = text.split()\n",
        "      lines = []\n",
        "      for i in range(0, len(words), max_words):\n",
        "          lines.append(' '.join(words[i:i + max_words]))\n",
        "      return '\\n'.join(lines)\n",
        "\n",
        "    return (\n",
        "      insert_line_breaks(response_1['choices'][0]['text']),\n",
        "      insert_line_breaks(response_2['choices'][0]['text'])\n",
        "  )\n",
        "\n",
        ""
      ],
      "metadata": {
        "id": "XIbZybyuRi2p"
      },
      "execution_count": 96,
      "outputs": []
    },
    {
      "cell_type": "markdown",
      "source": [
        "#### Query 1: What is the protocol for managing sepsis in a critical care unit?"
      ],
      "metadata": {
        "id": "d4o9y8uhb2mL"
      }
    },
    {
      "cell_type": "code",
      "source": [
        "user_input = \"What is the protocol for managing sepsis in a critical care unit?\"\n",
        "ground,rel = generate_ground_relevance_response(user_input,max_tokens=350)\n",
        "\n",
        "print(ground,end=\"\\n\\n\")\n",
        "print(rel)"
      ],
      "metadata": {
        "colab": {
          "base_uri": "https://localhost:8080/"
        },
        "id": "arwvoy9acVpI",
        "outputId": "cc30223d-fecb-4542-952d-6fd8887690c3"
      },
      "execution_count": 97,
      "outputs": [
        {
          "output_type": "stream",
          "name": "stderr",
          "text": [
            "Llama.generate: prefix-match hit\n",
            "Llama.generate: prefix-match hit\n",
            "Llama.generate: prefix-match hit\n"
          ]
        },
        {
          "output_type": "stream",
          "name": "stdout",
          "text": [
            "Based on the provided context, I would rate the answer as 4 (mostly derived from the context). The answer provides\n",
            "a comprehensive list of the protocols for managing sepsis in a critical care unit, which is consistent with the information\n",
            "presented in the context. However, some of the specific details and recommendations may not be directly mentioned in the context,\n",
            "but can be inferred based on the general principles and guidelines provided. Therefore, the answer is mostly derived from the\n",
            "context, but not completely so.\n",
            "\n",
            "Based on the provided context, I would rate the answer as follows: The answer provides a comprehensive overview of the\n",
            "protocol for managing sepsis in a critical care unit, including early recognition, fluid resuscitation, antibiotic therapy, surgical intervention, supportive care,\n",
            "blood glucose normalization, corticosteroid therapy, and activated protein C. The answer is fully relevant to the question and addresses all\n",
            "key aspects of sepsis management. However, it does not provide specific examples or case studies to illustrate the application of\n",
            "these protocols in real-world scenarios. Therefore, I would rate the answer as a 5 out of 5 in terms of\n",
            "relevance and completeness.\n"
          ]
        }
      ]
    },
    {
      "cell_type": "markdown",
      "source": [
        "#### Query 2: What are the common symptoms for appendicitis, and can it be cured via medicine? If not, what surgical procedure should be followed to treat it?"
      ],
      "metadata": {
        "id": "cz89_5_byDV8"
      }
    },
    {
      "cell_type": "code",
      "source": [
        "user_input_2 = \"What are the common symptoms for appendicitis, and can it be cured via medicine? If not, what surgical procedure should be followed to treat it?\"\n",
        "ground,rel = generate_ground_relevance_response(user_input_2,max_tokens=350)"
      ],
      "metadata": {
        "colab": {
          "base_uri": "https://localhost:8080/"
        },
        "id": "McO2F4S5yM-2",
        "outputId": "16443814-6c07-499d-9c51-4c6da3cade97"
      },
      "execution_count": 98,
      "outputs": [
        {
          "output_type": "stream",
          "name": "stderr",
          "text": [
            "Llama.generate: prefix-match hit\n",
            "Llama.generate: prefix-match hit\n",
            "Llama.generate: prefix-match hit\n"
          ]
        }
      ]
    },
    {
      "cell_type": "code",
      "source": [
        "print(ground,end=\"\\n\\n\")\n",
        "print(rel)"
      ],
      "metadata": {
        "colab": {
          "base_uri": "https://localhost:8080/"
        },
        "id": "w2-Jjn8x09Xi",
        "outputId": "776a60fd-66a0-4fe9-c0ca-a5607f0405bc"
      },
      "execution_count": 99,
      "outputs": [
        {
          "output_type": "stream",
          "name": "stdout",
          "text": [
            "Based on the provided context, I would rate the answer as follows: Common symptoms of appendicitis include epigastric or periumbilical\n",
            "pain, brief nausea and vomiting, anorexia, and tenderness in the right lower quadrant of the abdomen. However, these classic signs\n",
            "are not always present, and symptoms can vary among individuals, especially in elderly patients and pregnant women. Rating: 4 (out\n",
            "of 5) The answer is well-informed by the context provided and accurately describes the common symptoms of appendicitis and the\n",
            "recommended surgical procedure for treating acute appendicitis. However, the answer could be improved by providing more specific information about the\n",
            "diagnostic criteria for appendicitis and the factors that may influence the choice of surgical procedure (e.g., patient age, severity of\n",
            "symptoms, presence of complications).\n",
            "\n",
            "Based on the provided context, I would rate the answer as follows: The answer is fully relevant to the question,\n",
            "directly addressing all key aspects of the question by providing a comprehensive overview of acute appendicitis, its symptoms, diagnosis, and\n",
            "treatment options. The response is well-structured and easy to follow, with clear and concise language that effectively communicates the necessary\n",
            "information. Overall, I would rate the answer as a 5 out of 5 in terms of relevance and quality.\n"
          ]
        }
      ]
    },
    {
      "cell_type": "markdown",
      "source": [
        "#### Query 3: What are the effective treatments or solutions for addressing sudden patchy hair loss, commonly seen as localized bald spots on the scalp, and what could be the possible causes behind it?"
      ],
      "metadata": {
        "id": "xC66oSqWzRpK"
      }
    },
    {
      "cell_type": "code",
      "source": [
        "user_input_3 = \"What are the effective treatments or solutions for addressing sudden patchy hair loss, commonly seen as localized bald spots on the scalp, and what could be the possible causes behind it?\"\n",
        "ground,rel = generate_ground_relevance_response(user_input_3,max_tokens=350)"
      ],
      "metadata": {
        "colab": {
          "base_uri": "https://localhost:8080/"
        },
        "id": "K4Rf5klszcqy",
        "outputId": "2da4e8be-f826-4ec6-8727-c0ae4d17cc1a"
      },
      "execution_count": 100,
      "outputs": [
        {
          "output_type": "stream",
          "name": "stderr",
          "text": [
            "Llama.generate: prefix-match hit\n",
            "Llama.generate: prefix-match hit\n",
            "Llama.generate: prefix-match hit\n"
          ]
        }
      ]
    },
    {
      "cell_type": "code",
      "source": [
        "print(ground,end=\"\\n\\n\")\n",
        "print(rel)"
      ],
      "metadata": {
        "colab": {
          "base_uri": "https://localhost:8080/"
        },
        "id": "Q4nXLZnW1Pxw",
        "outputId": "76ffbd26-4a9f-4c8a-dd58-e7b4c7774cec"
      },
      "execution_count": 101,
      "outputs": [
        {
          "output_type": "stream",
          "name": "stdout",
          "text": [
            "Based on the information provided in the context, I would rate the answer as follows: 1. Corticosteroids: 5 (very effective)\n",
            "2. Minoxidil: 3 (somewhat effective) 3. Finasteride: 4 (moderately effective) 4. Anthralin: 3 (somewhat effective) 5. Immunotherapy: 4 (moderately effective)\n",
            "The answer provides a comprehensive list of possible treatments for sudden patchy hair loss, including both topical and systemic medications.\n",
            "However, the explanation could be more detailed and provide specific examples or references to support the effectiveness of each treatment.\n",
            "Additionally, the answer could benefit from a clearer organization and structure to make it easier to understand and navigate. Overall,\n",
            "I would rate the answer as 4 out of 5.\n",
            "\n",
            "Based on the information provided in the context, I would rate the answer as follows: The answer provides a comprehensive\n",
            "list of effective treatments and solutions for addressing sudden patchy hair loss, including corticosteroids, minoxidil, finasteride, anthralin, and immunotherapy. The\n",
            "possible causes behind sudden patchy hair loss are also accurately identified, including alopecia areata, telogen effluvium, and androgenetic alopecia. However,\n",
            "the answer could be improved by providing more specific information on the effectiveness of each treatment for addressing sudden patchy\n",
            "hair loss due to different causes. For example, finasteride may be more effective for male-pattern hair loss, while minoxidil may\n",
            "be more effective for female-pattern hair loss. Additionally, the answer could benefit from a brief explanation of how each treatment\n",
            "works and any potential side effects or risks associated with their use. Overall, I would rate the answer as a\n",
            "4 out of 5 in terms of relevance to the question, with room for improvement in providing more specific information\n",
            "on the effectiveness of each treatment and potential side effects.\n"
          ]
        }
      ]
    },
    {
      "cell_type": "markdown",
      "source": [
        "#### Query 4:  What treatments are recommended for a person who has sustained a physical injury to brain tissue, resulting in temporary or permanent impairment of brain function?"
      ],
      "metadata": {
        "id": "0NxBDGEP3nSq"
      }
    },
    {
      "cell_type": "code",
      "source": [
        "user_input_4 = \"What treatments are recommended for a person who has sustained a physical injury to brain tissue, resulting in temporary or permanent impairment of brain function?\"\n",
        "ground,rel = generate_ground_relevance_response(user_input_4,max_tokens=350)"
      ],
      "metadata": {
        "colab": {
          "base_uri": "https://localhost:8080/"
        },
        "id": "nUclzMVE31G-",
        "outputId": "2cdacfb4-10e8-4ca6-f650-bf3db4e411d3"
      },
      "execution_count": 102,
      "outputs": [
        {
          "output_type": "stream",
          "name": "stderr",
          "text": [
            "Llama.generate: prefix-match hit\n",
            "Llama.generate: prefix-match hit\n",
            "Llama.generate: prefix-match hit\n"
          ]
        }
      ]
    },
    {
      "cell_type": "code",
      "source": [
        "print(ground,end=\"\\n\\n\")\n",
        "print(rel)"
      ],
      "metadata": {
        "colab": {
          "base_uri": "https://localhost:8080/"
        },
        "id": "ssplH9U34ART",
        "outputId": "1fb19a70-a70e-4c1f-d623-3ec05d91b353"
      },
      "execution_count": 103,
      "outputs": [
        {
          "output_type": "stream",
          "name": "stdout",
          "text": [
            "Based on the information provided in the context, I would rate the answer as 4 (mostly derived from the context).\n",
            "The answer provides several treatments that may be recommended for a person with a physical injury to brain tissue, which\n",
            "are supported by the information in the context. However, the answer does not fully address all aspects of the question,\n",
            "such as the specific treatment plan depending on the severity and location of the injury, and the importance of consulting\n",
            "a healthcare professional for proper evaluation and treatment. Therefore, I would rate the answer as 4 (mostly derived from the\n",
            "context) rather than 5 (completely derived from the context).\n",
            "\n",
            "Based on the information provided in the context, I would rate the relevance of the answer as follows: * Supportive\n",
            "care: Highly relevant (5/5) - This is a crucial aspect of treating brain injury and is mentioned in the context.\n",
            "* Physical therapy: Moderately relevant (4/5) - While physical therapy is not specifically mentioned in the context, it is an\n",
            "important part of rehabilitation after brain injury. * Therapeutic hypothermia: Slightly relevant (3/5) - This treatment is not directly mentioned\n",
            "in the context, but it is a common treatment for brain injury and could be considered as part of the\n",
            "overall treatment plan. * Corticosteroids: Moderately relevant (4/5) - These medications are commonly used to treat brain injury, but their\n",
            "use is not specifically mentioned in the context. * Anticonvulsants: Highly relevant (5/5) - These medications are commonly used to\n",
            "treat seizures, which can be a complication of brain injury. * Rehabilitation services: Highly relevant (5/5) - This is an\n",
            "essential part of treating brain injury and is mentioned in the context. Overall, the answer is highly relevant to the\n",
            "question, with the exception of therapeutic hypothermia, which is only slightly relevant.\n"
          ]
        }
      ]
    },
    {
      "cell_type": "markdown",
      "source": [
        "#### Query 5: What are the necessary precautions and treatment steps for a person who has fractured their leg during a hiking trip, and what should be considered for their care and recovery?"
      ],
      "metadata": {
        "id": "FmAWF7e96v9z"
      }
    },
    {
      "cell_type": "code",
      "source": [
        "user_input_5 = \"What are the necessary precautions and treatment steps for a person who has fractured their leg during a hiking trip, and what should be considered for their care and recovery?\"\n",
        "ground,rel = generate_ground_relevance_response(user_input_5,max_tokens=350)"
      ],
      "metadata": {
        "colab": {
          "base_uri": "https://localhost:8080/"
        },
        "id": "6BWBQGZY6zsV",
        "outputId": "3a9e8a24-4809-4bf5-810e-d8570262e733"
      },
      "execution_count": 104,
      "outputs": [
        {
          "output_type": "stream",
          "name": "stderr",
          "text": [
            "Llama.generate: prefix-match hit\n",
            "Llama.generate: prefix-match hit\n",
            "Llama.generate: prefix-match hit\n"
          ]
        }
      ]
    },
    {
      "cell_type": "code",
      "source": [
        "print(ground,end=\"\\n\\n\")\n",
        "print(rel)"
      ],
      "metadata": {
        "colab": {
          "base_uri": "https://localhost:8080/"
        },
        "id": "hHJUdEXc6z1f",
        "outputId": "aaa20f61-887c-48ed-85db-887a9b55d5d0"
      },
      "execution_count": 105,
      "outputs": [
        {
          "output_type": "stream",
          "name": "stdout",
          "text": [
            "Based on the provided context, I would rate the answer as 4 out of 5. The answer provides a comprehensive\n",
            "list of necessary precautions and treatment steps for a person who has fractured their leg during a hiking trip, including\n",
            "immobilization, pain management, elevation, cleanliness, monitoring, rest, and follow-up care. The answer also considers important factors such as comfort, hygiene,\n",
            "nutrition, and rest for the patient's care and recovery. However, to achieve a perfect 5 out of 5 rating, the\n",
            "answer could benefit from providing more specific time frames for each treatment step and factor, as well as additional information\n",
            "on how to monitor and address any complications that may arise during the healing process.\n",
            "\n",
            "Based on the provided context, I would rate the answer as a 4 out of 5 in terms of relevance\n",
            "to the question. The answer provides a comprehensive list of necessary precautions and treatment steps for a person who has\n",
            "fractured their leg during a hiking trip, including immobilization, pain management, elevation, cleanliness, monitoring, rest, and follow-up care. However, the\n",
            "answer does not directly address some aspects of the question, such as the specific types of fractures that may require\n",
            "different treatment approaches or the importance of early mobilization to prevent complications. Overall, the answer is mostly relevant and provides\n",
            "a good overview of the necessary precautions and treatment steps for a person with a fractured leg.\n"
          ]
        }
      ]
    },
    {
      "cell_type": "markdown",
      "metadata": {
        "id": "Y7QICRU-njdj"
      },
      "source": [
        "## Actionable Insights and Business Recommendations"
      ]
    },
    {
      "cell_type": "markdown",
      "source": [
        "\n",
        "\n",
        "Based on the parameters, no hallucinations were encountered in any of the reponses.\n",
        "\n",
        "Prompt Engineering tremendously improves better responses by providing specific instructions to the query request as oppose to no instruction.\n",
        "\n",
        "Retrieval parameter **`k`** is critical as the answer can be spread across multiple contexts.\n",
        "\n",
        " **`chunk_overlap`** ensures coherence, especially when context spans across chunks.\n",
        "\n",
        "**`max_tokens`** depends on query complexity; higher values yield detailed responses, while simple queries result in concise outputs despite large token limits due to prompt design and zero **`temperature`**.\n",
        "\n",
        "Refine prompt design and temperature settings to control response length and creativity.\n",
        "\n",
        "Must try to RAG parameters based on specific use cases for optimal performance.\n",
        "\n",
        "Prioritize groundness  and relevance in evaluations to ensure reliable and contextually accurate outputs.\n",
        "\n",
        "The Output Evaluator was based on using \"cl100k_base\" encoding, and results provided feedback as how the scoring was determined indicating the deficiency of the reponse.\n",
        "\n",
        "Establish a feedback loop to fine-tune parameters, improving performance for diverse query types.\n",
        "\n",
        ""
      ],
      "metadata": {
        "id": "v9XTrs_UIlCs"
      }
    },
    {
      "cell_type": "markdown",
      "metadata": {
        "id": "ybRlzaIhWaM9"
      },
      "source": [
        "<font size=6 color='blue'>Power Ahead</font>\n",
        "___"
      ]
    }
  ],
  "metadata": {
    "accelerator": "GPU",
    "colab": {
      "gpuType": "T4",
      "provenance": []
    },
    "kernel_info": {
      "name": "python310-sdkv2"
    },
    "kernelspec": {
      "display_name": "Python 3",
      "name": "python3"
    },
    "language_info": {
      "name": "python"
    },
    "microsoft": {
      "host": {
        "AzureML": {
          "notebookHasBeenCompleted": true
        }
      },
      "ms_spell_check": {
        "ms_spell_check_language": "en"
      }
    },
    "nteract": {
      "version": "nteract-front-end@1.0.0"
    },
    "widgets": {
      "application/vnd.jupyter.widget-state+json": {
        "9a470e57589a4eeab5e7f6d26ee3d8fa": {
          "model_module": "@jupyter-widgets/controls",
          "model_name": "HBoxModel",
          "model_module_version": "1.5.0",
          "state": {
            "_dom_classes": [],
            "_model_module": "@jupyter-widgets/controls",
            "_model_module_version": "1.5.0",
            "_model_name": "HBoxModel",
            "_view_count": null,
            "_view_module": "@jupyter-widgets/controls",
            "_view_module_version": "1.5.0",
            "_view_name": "HBoxView",
            "box_style": "",
            "children": [
              "IPY_MODEL_87d3d5b04da243d899199bc4caa06b0b",
              "IPY_MODEL_83c185388787453da212b10185fa68d4",
              "IPY_MODEL_a16d7a6cdc1c472f957f94bbde961ca6"
            ],
            "layout": "IPY_MODEL_4541aa26bba44d7f8a745763f8925ed5"
          }
        },
        "87d3d5b04da243d899199bc4caa06b0b": {
          "model_module": "@jupyter-widgets/controls",
          "model_name": "HTMLModel",
          "model_module_version": "1.5.0",
          "state": {
            "_dom_classes": [],
            "_model_module": "@jupyter-widgets/controls",
            "_model_module_version": "1.5.0",
            "_model_name": "HTMLModel",
            "_view_count": null,
            "_view_module": "@jupyter-widgets/controls",
            "_view_module_version": "1.5.0",
            "_view_name": "HTMLView",
            "description": "",
            "description_tooltip": null,
            "layout": "IPY_MODEL_c59f5087812046a4a8a9f0d0ebaf5294",
            "placeholder": "​",
            "style": "IPY_MODEL_0ce7098ec7f64f2ca68eff250cc4a6ed",
            "value": "llama-2-13b-chat.Q5_K_M.gguf: 100%"
          }
        },
        "83c185388787453da212b10185fa68d4": {
          "model_module": "@jupyter-widgets/controls",
          "model_name": "FloatProgressModel",
          "model_module_version": "1.5.0",
          "state": {
            "_dom_classes": [],
            "_model_module": "@jupyter-widgets/controls",
            "_model_module_version": "1.5.0",
            "_model_name": "FloatProgressModel",
            "_view_count": null,
            "_view_module": "@jupyter-widgets/controls",
            "_view_module_version": "1.5.0",
            "_view_name": "ProgressView",
            "bar_style": "success",
            "description": "",
            "description_tooltip": null,
            "layout": "IPY_MODEL_db2acf8acd4d44eb8dee5eb99df00dbc",
            "max": 9229924224,
            "min": 0,
            "orientation": "horizontal",
            "style": "IPY_MODEL_2a7e72176c5d4c4d8740a5f54a80d96c",
            "value": 9229924224
          }
        },
        "a16d7a6cdc1c472f957f94bbde961ca6": {
          "model_module": "@jupyter-widgets/controls",
          "model_name": "HTMLModel",
          "model_module_version": "1.5.0",
          "state": {
            "_dom_classes": [],
            "_model_module": "@jupyter-widgets/controls",
            "_model_module_version": "1.5.0",
            "_model_name": "HTMLModel",
            "_view_count": null,
            "_view_module": "@jupyter-widgets/controls",
            "_view_module_version": "1.5.0",
            "_view_name": "HTMLView",
            "description": "",
            "description_tooltip": null,
            "layout": "IPY_MODEL_ce3fee68de9d4754b6c413896440d697",
            "placeholder": "​",
            "style": "IPY_MODEL_f6c4bc34138242c29c94d6c1a892d57e",
            "value": " 9.23G/9.23G [00:46&lt;00:00, 216MB/s]"
          }
        },
        "4541aa26bba44d7f8a745763f8925ed5": {
          "model_module": "@jupyter-widgets/base",
          "model_name": "LayoutModel",
          "model_module_version": "1.2.0",
          "state": {
            "_model_module": "@jupyter-widgets/base",
            "_model_module_version": "1.2.0",
            "_model_name": "LayoutModel",
            "_view_count": null,
            "_view_module": "@jupyter-widgets/base",
            "_view_module_version": "1.2.0",
            "_view_name": "LayoutView",
            "align_content": null,
            "align_items": null,
            "align_self": null,
            "border": null,
            "bottom": null,
            "display": null,
            "flex": null,
            "flex_flow": null,
            "grid_area": null,
            "grid_auto_columns": null,
            "grid_auto_flow": null,
            "grid_auto_rows": null,
            "grid_column": null,
            "grid_gap": null,
            "grid_row": null,
            "grid_template_areas": null,
            "grid_template_columns": null,
            "grid_template_rows": null,
            "height": null,
            "justify_content": null,
            "justify_items": null,
            "left": null,
            "margin": null,
            "max_height": null,
            "max_width": null,
            "min_height": null,
            "min_width": null,
            "object_fit": null,
            "object_position": null,
            "order": null,
            "overflow": null,
            "overflow_x": null,
            "overflow_y": null,
            "padding": null,
            "right": null,
            "top": null,
            "visibility": null,
            "width": null
          }
        },
        "c59f5087812046a4a8a9f0d0ebaf5294": {
          "model_module": "@jupyter-widgets/base",
          "model_name": "LayoutModel",
          "model_module_version": "1.2.0",
          "state": {
            "_model_module": "@jupyter-widgets/base",
            "_model_module_version": "1.2.0",
            "_model_name": "LayoutModel",
            "_view_count": null,
            "_view_module": "@jupyter-widgets/base",
            "_view_module_version": "1.2.0",
            "_view_name": "LayoutView",
            "align_content": null,
            "align_items": null,
            "align_self": null,
            "border": null,
            "bottom": null,
            "display": null,
            "flex": null,
            "flex_flow": null,
            "grid_area": null,
            "grid_auto_columns": null,
            "grid_auto_flow": null,
            "grid_auto_rows": null,
            "grid_column": null,
            "grid_gap": null,
            "grid_row": null,
            "grid_template_areas": null,
            "grid_template_columns": null,
            "grid_template_rows": null,
            "height": null,
            "justify_content": null,
            "justify_items": null,
            "left": null,
            "margin": null,
            "max_height": null,
            "max_width": null,
            "min_height": null,
            "min_width": null,
            "object_fit": null,
            "object_position": null,
            "order": null,
            "overflow": null,
            "overflow_x": null,
            "overflow_y": null,
            "padding": null,
            "right": null,
            "top": null,
            "visibility": null,
            "width": null
          }
        },
        "0ce7098ec7f64f2ca68eff250cc4a6ed": {
          "model_module": "@jupyter-widgets/controls",
          "model_name": "DescriptionStyleModel",
          "model_module_version": "1.5.0",
          "state": {
            "_model_module": "@jupyter-widgets/controls",
            "_model_module_version": "1.5.0",
            "_model_name": "DescriptionStyleModel",
            "_view_count": null,
            "_view_module": "@jupyter-widgets/base",
            "_view_module_version": "1.2.0",
            "_view_name": "StyleView",
            "description_width": ""
          }
        },
        "db2acf8acd4d44eb8dee5eb99df00dbc": {
          "model_module": "@jupyter-widgets/base",
          "model_name": "LayoutModel",
          "model_module_version": "1.2.0",
          "state": {
            "_model_module": "@jupyter-widgets/base",
            "_model_module_version": "1.2.0",
            "_model_name": "LayoutModel",
            "_view_count": null,
            "_view_module": "@jupyter-widgets/base",
            "_view_module_version": "1.2.0",
            "_view_name": "LayoutView",
            "align_content": null,
            "align_items": null,
            "align_self": null,
            "border": null,
            "bottom": null,
            "display": null,
            "flex": null,
            "flex_flow": null,
            "grid_area": null,
            "grid_auto_columns": null,
            "grid_auto_flow": null,
            "grid_auto_rows": null,
            "grid_column": null,
            "grid_gap": null,
            "grid_row": null,
            "grid_template_areas": null,
            "grid_template_columns": null,
            "grid_template_rows": null,
            "height": null,
            "justify_content": null,
            "justify_items": null,
            "left": null,
            "margin": null,
            "max_height": null,
            "max_width": null,
            "min_height": null,
            "min_width": null,
            "object_fit": null,
            "object_position": null,
            "order": null,
            "overflow": null,
            "overflow_x": null,
            "overflow_y": null,
            "padding": null,
            "right": null,
            "top": null,
            "visibility": null,
            "width": null
          }
        },
        "2a7e72176c5d4c4d8740a5f54a80d96c": {
          "model_module": "@jupyter-widgets/controls",
          "model_name": "ProgressStyleModel",
          "model_module_version": "1.5.0",
          "state": {
            "_model_module": "@jupyter-widgets/controls",
            "_model_module_version": "1.5.0",
            "_model_name": "ProgressStyleModel",
            "_view_count": null,
            "_view_module": "@jupyter-widgets/base",
            "_view_module_version": "1.2.0",
            "_view_name": "StyleView",
            "bar_color": null,
            "description_width": ""
          }
        },
        "ce3fee68de9d4754b6c413896440d697": {
          "model_module": "@jupyter-widgets/base",
          "model_name": "LayoutModel",
          "model_module_version": "1.2.0",
          "state": {
            "_model_module": "@jupyter-widgets/base",
            "_model_module_version": "1.2.0",
            "_model_name": "LayoutModel",
            "_view_count": null,
            "_view_module": "@jupyter-widgets/base",
            "_view_module_version": "1.2.0",
            "_view_name": "LayoutView",
            "align_content": null,
            "align_items": null,
            "align_self": null,
            "border": null,
            "bottom": null,
            "display": null,
            "flex": null,
            "flex_flow": null,
            "grid_area": null,
            "grid_auto_columns": null,
            "grid_auto_flow": null,
            "grid_auto_rows": null,
            "grid_column": null,
            "grid_gap": null,
            "grid_row": null,
            "grid_template_areas": null,
            "grid_template_columns": null,
            "grid_template_rows": null,
            "height": null,
            "justify_content": null,
            "justify_items": null,
            "left": null,
            "margin": null,
            "max_height": null,
            "max_width": null,
            "min_height": null,
            "min_width": null,
            "object_fit": null,
            "object_position": null,
            "order": null,
            "overflow": null,
            "overflow_x": null,
            "overflow_y": null,
            "padding": null,
            "right": null,
            "top": null,
            "visibility": null,
            "width": null
          }
        },
        "f6c4bc34138242c29c94d6c1a892d57e": {
          "model_module": "@jupyter-widgets/controls",
          "model_name": "DescriptionStyleModel",
          "model_module_version": "1.5.0",
          "state": {
            "_model_module": "@jupyter-widgets/controls",
            "_model_module_version": "1.5.0",
            "_model_name": "DescriptionStyleModel",
            "_view_count": null,
            "_view_module": "@jupyter-widgets/base",
            "_view_module_version": "1.2.0",
            "_view_name": "StyleView",
            "description_width": ""
          }
        },
        "b31782d1138442a581e90cc93b67dd4b": {
          "model_module": "@jupyter-widgets/controls",
          "model_name": "HBoxModel",
          "model_module_version": "1.5.0",
          "state": {
            "_dom_classes": [],
            "_model_module": "@jupyter-widgets/controls",
            "_model_module_version": "1.5.0",
            "_model_name": "HBoxModel",
            "_view_count": null,
            "_view_module": "@jupyter-widgets/controls",
            "_view_module_version": "1.5.0",
            "_view_name": "HBoxView",
            "box_style": "",
            "children": [
              "IPY_MODEL_f0e008439e7544b78dcdfa3056abf690",
              "IPY_MODEL_27862d785c39426da580be3a0c5892a7",
              "IPY_MODEL_6da7f67169764acca5496da35a49af8b"
            ],
            "layout": "IPY_MODEL_4301d3386b034bea8c4d911bdc1f5fcb"
          }
        },
        "f0e008439e7544b78dcdfa3056abf690": {
          "model_module": "@jupyter-widgets/controls",
          "model_name": "HTMLModel",
          "model_module_version": "1.5.0",
          "state": {
            "_dom_classes": [],
            "_model_module": "@jupyter-widgets/controls",
            "_model_module_version": "1.5.0",
            "_model_name": "HTMLModel",
            "_view_count": null,
            "_view_module": "@jupyter-widgets/controls",
            "_view_module_version": "1.5.0",
            "_view_name": "HTMLView",
            "description": "",
            "description_tooltip": null,
            "layout": "IPY_MODEL_c158bd59e52e45d691075af82af48d45",
            "placeholder": "​",
            "style": "IPY_MODEL_938c874b0f214436915e0fac27c42893",
            "value": "modules.json: 100%"
          }
        },
        "27862d785c39426da580be3a0c5892a7": {
          "model_module": "@jupyter-widgets/controls",
          "model_name": "FloatProgressModel",
          "model_module_version": "1.5.0",
          "state": {
            "_dom_classes": [],
            "_model_module": "@jupyter-widgets/controls",
            "_model_module_version": "1.5.0",
            "_model_name": "FloatProgressModel",
            "_view_count": null,
            "_view_module": "@jupyter-widgets/controls",
            "_view_module_version": "1.5.0",
            "_view_name": "ProgressView",
            "bar_style": "success",
            "description": "",
            "description_tooltip": null,
            "layout": "IPY_MODEL_fd103ade5cc242a5841c9d50948b97c3",
            "max": 385,
            "min": 0,
            "orientation": "horizontal",
            "style": "IPY_MODEL_2457902a008146098f758b39f0c7027b",
            "value": 385
          }
        },
        "6da7f67169764acca5496da35a49af8b": {
          "model_module": "@jupyter-widgets/controls",
          "model_name": "HTMLModel",
          "model_module_version": "1.5.0",
          "state": {
            "_dom_classes": [],
            "_model_module": "@jupyter-widgets/controls",
            "_model_module_version": "1.5.0",
            "_model_name": "HTMLModel",
            "_view_count": null,
            "_view_module": "@jupyter-widgets/controls",
            "_view_module_version": "1.5.0",
            "_view_name": "HTMLView",
            "description": "",
            "description_tooltip": null,
            "layout": "IPY_MODEL_25024c3d319f46359247904920409af5",
            "placeholder": "​",
            "style": "IPY_MODEL_9a5b2551265649fc9a4fe97adfa54e0b",
            "value": " 385/385 [00:00&lt;00:00, 8.95kB/s]"
          }
        },
        "4301d3386b034bea8c4d911bdc1f5fcb": {
          "model_module": "@jupyter-widgets/base",
          "model_name": "LayoutModel",
          "model_module_version": "1.2.0",
          "state": {
            "_model_module": "@jupyter-widgets/base",
            "_model_module_version": "1.2.0",
            "_model_name": "LayoutModel",
            "_view_count": null,
            "_view_module": "@jupyter-widgets/base",
            "_view_module_version": "1.2.0",
            "_view_name": "LayoutView",
            "align_content": null,
            "align_items": null,
            "align_self": null,
            "border": null,
            "bottom": null,
            "display": null,
            "flex": null,
            "flex_flow": null,
            "grid_area": null,
            "grid_auto_columns": null,
            "grid_auto_flow": null,
            "grid_auto_rows": null,
            "grid_column": null,
            "grid_gap": null,
            "grid_row": null,
            "grid_template_areas": null,
            "grid_template_columns": null,
            "grid_template_rows": null,
            "height": null,
            "justify_content": null,
            "justify_items": null,
            "left": null,
            "margin": null,
            "max_height": null,
            "max_width": null,
            "min_height": null,
            "min_width": null,
            "object_fit": null,
            "object_position": null,
            "order": null,
            "overflow": null,
            "overflow_x": null,
            "overflow_y": null,
            "padding": null,
            "right": null,
            "top": null,
            "visibility": null,
            "width": null
          }
        },
        "c158bd59e52e45d691075af82af48d45": {
          "model_module": "@jupyter-widgets/base",
          "model_name": "LayoutModel",
          "model_module_version": "1.2.0",
          "state": {
            "_model_module": "@jupyter-widgets/base",
            "_model_module_version": "1.2.0",
            "_model_name": "LayoutModel",
            "_view_count": null,
            "_view_module": "@jupyter-widgets/base",
            "_view_module_version": "1.2.0",
            "_view_name": "LayoutView",
            "align_content": null,
            "align_items": null,
            "align_self": null,
            "border": null,
            "bottom": null,
            "display": null,
            "flex": null,
            "flex_flow": null,
            "grid_area": null,
            "grid_auto_columns": null,
            "grid_auto_flow": null,
            "grid_auto_rows": null,
            "grid_column": null,
            "grid_gap": null,
            "grid_row": null,
            "grid_template_areas": null,
            "grid_template_columns": null,
            "grid_template_rows": null,
            "height": null,
            "justify_content": null,
            "justify_items": null,
            "left": null,
            "margin": null,
            "max_height": null,
            "max_width": null,
            "min_height": null,
            "min_width": null,
            "object_fit": null,
            "object_position": null,
            "order": null,
            "overflow": null,
            "overflow_x": null,
            "overflow_y": null,
            "padding": null,
            "right": null,
            "top": null,
            "visibility": null,
            "width": null
          }
        },
        "938c874b0f214436915e0fac27c42893": {
          "model_module": "@jupyter-widgets/controls",
          "model_name": "DescriptionStyleModel",
          "model_module_version": "1.5.0",
          "state": {
            "_model_module": "@jupyter-widgets/controls",
            "_model_module_version": "1.5.0",
            "_model_name": "DescriptionStyleModel",
            "_view_count": null,
            "_view_module": "@jupyter-widgets/base",
            "_view_module_version": "1.2.0",
            "_view_name": "StyleView",
            "description_width": ""
          }
        },
        "fd103ade5cc242a5841c9d50948b97c3": {
          "model_module": "@jupyter-widgets/base",
          "model_name": "LayoutModel",
          "model_module_version": "1.2.0",
          "state": {
            "_model_module": "@jupyter-widgets/base",
            "_model_module_version": "1.2.0",
            "_model_name": "LayoutModel",
            "_view_count": null,
            "_view_module": "@jupyter-widgets/base",
            "_view_module_version": "1.2.0",
            "_view_name": "LayoutView",
            "align_content": null,
            "align_items": null,
            "align_self": null,
            "border": null,
            "bottom": null,
            "display": null,
            "flex": null,
            "flex_flow": null,
            "grid_area": null,
            "grid_auto_columns": null,
            "grid_auto_flow": null,
            "grid_auto_rows": null,
            "grid_column": null,
            "grid_gap": null,
            "grid_row": null,
            "grid_template_areas": null,
            "grid_template_columns": null,
            "grid_template_rows": null,
            "height": null,
            "justify_content": null,
            "justify_items": null,
            "left": null,
            "margin": null,
            "max_height": null,
            "max_width": null,
            "min_height": null,
            "min_width": null,
            "object_fit": null,
            "object_position": null,
            "order": null,
            "overflow": null,
            "overflow_x": null,
            "overflow_y": null,
            "padding": null,
            "right": null,
            "top": null,
            "visibility": null,
            "width": null
          }
        },
        "2457902a008146098f758b39f0c7027b": {
          "model_module": "@jupyter-widgets/controls",
          "model_name": "ProgressStyleModel",
          "model_module_version": "1.5.0",
          "state": {
            "_model_module": "@jupyter-widgets/controls",
            "_model_module_version": "1.5.0",
            "_model_name": "ProgressStyleModel",
            "_view_count": null,
            "_view_module": "@jupyter-widgets/base",
            "_view_module_version": "1.2.0",
            "_view_name": "StyleView",
            "bar_color": null,
            "description_width": ""
          }
        },
        "25024c3d319f46359247904920409af5": {
          "model_module": "@jupyter-widgets/base",
          "model_name": "LayoutModel",
          "model_module_version": "1.2.0",
          "state": {
            "_model_module": "@jupyter-widgets/base",
            "_model_module_version": "1.2.0",
            "_model_name": "LayoutModel",
            "_view_count": null,
            "_view_module": "@jupyter-widgets/base",
            "_view_module_version": "1.2.0",
            "_view_name": "LayoutView",
            "align_content": null,
            "align_items": null,
            "align_self": null,
            "border": null,
            "bottom": null,
            "display": null,
            "flex": null,
            "flex_flow": null,
            "grid_area": null,
            "grid_auto_columns": null,
            "grid_auto_flow": null,
            "grid_auto_rows": null,
            "grid_column": null,
            "grid_gap": null,
            "grid_row": null,
            "grid_template_areas": null,
            "grid_template_columns": null,
            "grid_template_rows": null,
            "height": null,
            "justify_content": null,
            "justify_items": null,
            "left": null,
            "margin": null,
            "max_height": null,
            "max_width": null,
            "min_height": null,
            "min_width": null,
            "object_fit": null,
            "object_position": null,
            "order": null,
            "overflow": null,
            "overflow_x": null,
            "overflow_y": null,
            "padding": null,
            "right": null,
            "top": null,
            "visibility": null,
            "width": null
          }
        },
        "9a5b2551265649fc9a4fe97adfa54e0b": {
          "model_module": "@jupyter-widgets/controls",
          "model_name": "DescriptionStyleModel",
          "model_module_version": "1.5.0",
          "state": {
            "_model_module": "@jupyter-widgets/controls",
            "_model_module_version": "1.5.0",
            "_model_name": "DescriptionStyleModel",
            "_view_count": null,
            "_view_module": "@jupyter-widgets/base",
            "_view_module_version": "1.2.0",
            "_view_name": "StyleView",
            "description_width": ""
          }
        },
        "d697294f8c5b40f69ce863cc57734f6c": {
          "model_module": "@jupyter-widgets/controls",
          "model_name": "HBoxModel",
          "model_module_version": "1.5.0",
          "state": {
            "_dom_classes": [],
            "_model_module": "@jupyter-widgets/controls",
            "_model_module_version": "1.5.0",
            "_model_name": "HBoxModel",
            "_view_count": null,
            "_view_module": "@jupyter-widgets/controls",
            "_view_module_version": "1.5.0",
            "_view_name": "HBoxView",
            "box_style": "",
            "children": [
              "IPY_MODEL_b05ca5d2207244e4a0086db4ed8a3aad",
              "IPY_MODEL_8ed68c6b7f9a480dbcd6b572ef6878ce",
              "IPY_MODEL_45be3d8c8f7b4b4cb854c1c2887c6de2"
            ],
            "layout": "IPY_MODEL_a321fef12df54e2b92273ec433a6392e"
          }
        },
        "b05ca5d2207244e4a0086db4ed8a3aad": {
          "model_module": "@jupyter-widgets/controls",
          "model_name": "HTMLModel",
          "model_module_version": "1.5.0",
          "state": {
            "_dom_classes": [],
            "_model_module": "@jupyter-widgets/controls",
            "_model_module_version": "1.5.0",
            "_model_name": "HTMLModel",
            "_view_count": null,
            "_view_module": "@jupyter-widgets/controls",
            "_view_module_version": "1.5.0",
            "_view_name": "HTMLView",
            "description": "",
            "description_tooltip": null,
            "layout": "IPY_MODEL_1923fba0b1ce4a7f82b3730bdc7889a7",
            "placeholder": "​",
            "style": "IPY_MODEL_b9bcc5da861d48f4b403d229fde7a710",
            "value": "README.md: 100%"
          }
        },
        "8ed68c6b7f9a480dbcd6b572ef6878ce": {
          "model_module": "@jupyter-widgets/controls",
          "model_name": "FloatProgressModel",
          "model_module_version": "1.5.0",
          "state": {
            "_dom_classes": [],
            "_model_module": "@jupyter-widgets/controls",
            "_model_module_version": "1.5.0",
            "_model_name": "FloatProgressModel",
            "_view_count": null,
            "_view_module": "@jupyter-widgets/controls",
            "_view_module_version": "1.5.0",
            "_view_name": "ProgressView",
            "bar_style": "success",
            "description": "",
            "description_tooltip": null,
            "layout": "IPY_MODEL_3c3a27cbe3fb4aca9e99297f54d4f2c9",
            "max": 67863,
            "min": 0,
            "orientation": "horizontal",
            "style": "IPY_MODEL_b8342d2c207d40bc8ded57ee83c69e18",
            "value": 67863
          }
        },
        "45be3d8c8f7b4b4cb854c1c2887c6de2": {
          "model_module": "@jupyter-widgets/controls",
          "model_name": "HTMLModel",
          "model_module_version": "1.5.0",
          "state": {
            "_dom_classes": [],
            "_model_module": "@jupyter-widgets/controls",
            "_model_module_version": "1.5.0",
            "_model_name": "HTMLModel",
            "_view_count": null,
            "_view_module": "@jupyter-widgets/controls",
            "_view_module_version": "1.5.0",
            "_view_name": "HTMLView",
            "description": "",
            "description_tooltip": null,
            "layout": "IPY_MODEL_9f43e404cc4f4ecc8ca9a21a34596eaf",
            "placeholder": "​",
            "style": "IPY_MODEL_d27bfd2c80e4497194ecbf60936fa11a",
            "value": " 67.9k/67.9k [00:00&lt;00:00, 4.72MB/s]"
          }
        },
        "a321fef12df54e2b92273ec433a6392e": {
          "model_module": "@jupyter-widgets/base",
          "model_name": "LayoutModel",
          "model_module_version": "1.2.0",
          "state": {
            "_model_module": "@jupyter-widgets/base",
            "_model_module_version": "1.2.0",
            "_model_name": "LayoutModel",
            "_view_count": null,
            "_view_module": "@jupyter-widgets/base",
            "_view_module_version": "1.2.0",
            "_view_name": "LayoutView",
            "align_content": null,
            "align_items": null,
            "align_self": null,
            "border": null,
            "bottom": null,
            "display": null,
            "flex": null,
            "flex_flow": null,
            "grid_area": null,
            "grid_auto_columns": null,
            "grid_auto_flow": null,
            "grid_auto_rows": null,
            "grid_column": null,
            "grid_gap": null,
            "grid_row": null,
            "grid_template_areas": null,
            "grid_template_columns": null,
            "grid_template_rows": null,
            "height": null,
            "justify_content": null,
            "justify_items": null,
            "left": null,
            "margin": null,
            "max_height": null,
            "max_width": null,
            "min_height": null,
            "min_width": null,
            "object_fit": null,
            "object_position": null,
            "order": null,
            "overflow": null,
            "overflow_x": null,
            "overflow_y": null,
            "padding": null,
            "right": null,
            "top": null,
            "visibility": null,
            "width": null
          }
        },
        "1923fba0b1ce4a7f82b3730bdc7889a7": {
          "model_module": "@jupyter-widgets/base",
          "model_name": "LayoutModel",
          "model_module_version": "1.2.0",
          "state": {
            "_model_module": "@jupyter-widgets/base",
            "_model_module_version": "1.2.0",
            "_model_name": "LayoutModel",
            "_view_count": null,
            "_view_module": "@jupyter-widgets/base",
            "_view_module_version": "1.2.0",
            "_view_name": "LayoutView",
            "align_content": null,
            "align_items": null,
            "align_self": null,
            "border": null,
            "bottom": null,
            "display": null,
            "flex": null,
            "flex_flow": null,
            "grid_area": null,
            "grid_auto_columns": null,
            "grid_auto_flow": null,
            "grid_auto_rows": null,
            "grid_column": null,
            "grid_gap": null,
            "grid_row": null,
            "grid_template_areas": null,
            "grid_template_columns": null,
            "grid_template_rows": null,
            "height": null,
            "justify_content": null,
            "justify_items": null,
            "left": null,
            "margin": null,
            "max_height": null,
            "max_width": null,
            "min_height": null,
            "min_width": null,
            "object_fit": null,
            "object_position": null,
            "order": null,
            "overflow": null,
            "overflow_x": null,
            "overflow_y": null,
            "padding": null,
            "right": null,
            "top": null,
            "visibility": null,
            "width": null
          }
        },
        "b9bcc5da861d48f4b403d229fde7a710": {
          "model_module": "@jupyter-widgets/controls",
          "model_name": "DescriptionStyleModel",
          "model_module_version": "1.5.0",
          "state": {
            "_model_module": "@jupyter-widgets/controls",
            "_model_module_version": "1.5.0",
            "_model_name": "DescriptionStyleModel",
            "_view_count": null,
            "_view_module": "@jupyter-widgets/base",
            "_view_module_version": "1.2.0",
            "_view_name": "StyleView",
            "description_width": ""
          }
        },
        "3c3a27cbe3fb4aca9e99297f54d4f2c9": {
          "model_module": "@jupyter-widgets/base",
          "model_name": "LayoutModel",
          "model_module_version": "1.2.0",
          "state": {
            "_model_module": "@jupyter-widgets/base",
            "_model_module_version": "1.2.0",
            "_model_name": "LayoutModel",
            "_view_count": null,
            "_view_module": "@jupyter-widgets/base",
            "_view_module_version": "1.2.0",
            "_view_name": "LayoutView",
            "align_content": null,
            "align_items": null,
            "align_self": null,
            "border": null,
            "bottom": null,
            "display": null,
            "flex": null,
            "flex_flow": null,
            "grid_area": null,
            "grid_auto_columns": null,
            "grid_auto_flow": null,
            "grid_auto_rows": null,
            "grid_column": null,
            "grid_gap": null,
            "grid_row": null,
            "grid_template_areas": null,
            "grid_template_columns": null,
            "grid_template_rows": null,
            "height": null,
            "justify_content": null,
            "justify_items": null,
            "left": null,
            "margin": null,
            "max_height": null,
            "max_width": null,
            "min_height": null,
            "min_width": null,
            "object_fit": null,
            "object_position": null,
            "order": null,
            "overflow": null,
            "overflow_x": null,
            "overflow_y": null,
            "padding": null,
            "right": null,
            "top": null,
            "visibility": null,
            "width": null
          }
        },
        "b8342d2c207d40bc8ded57ee83c69e18": {
          "model_module": "@jupyter-widgets/controls",
          "model_name": "ProgressStyleModel",
          "model_module_version": "1.5.0",
          "state": {
            "_model_module": "@jupyter-widgets/controls",
            "_model_module_version": "1.5.0",
            "_model_name": "ProgressStyleModel",
            "_view_count": null,
            "_view_module": "@jupyter-widgets/base",
            "_view_module_version": "1.2.0",
            "_view_name": "StyleView",
            "bar_color": null,
            "description_width": ""
          }
        },
        "9f43e404cc4f4ecc8ca9a21a34596eaf": {
          "model_module": "@jupyter-widgets/base",
          "model_name": "LayoutModel",
          "model_module_version": "1.2.0",
          "state": {
            "_model_module": "@jupyter-widgets/base",
            "_model_module_version": "1.2.0",
            "_model_name": "LayoutModel",
            "_view_count": null,
            "_view_module": "@jupyter-widgets/base",
            "_view_module_version": "1.2.0",
            "_view_name": "LayoutView",
            "align_content": null,
            "align_items": null,
            "align_self": null,
            "border": null,
            "bottom": null,
            "display": null,
            "flex": null,
            "flex_flow": null,
            "grid_area": null,
            "grid_auto_columns": null,
            "grid_auto_flow": null,
            "grid_auto_rows": null,
            "grid_column": null,
            "grid_gap": null,
            "grid_row": null,
            "grid_template_areas": null,
            "grid_template_columns": null,
            "grid_template_rows": null,
            "height": null,
            "justify_content": null,
            "justify_items": null,
            "left": null,
            "margin": null,
            "max_height": null,
            "max_width": null,
            "min_height": null,
            "min_width": null,
            "object_fit": null,
            "object_position": null,
            "order": null,
            "overflow": null,
            "overflow_x": null,
            "overflow_y": null,
            "padding": null,
            "right": null,
            "top": null,
            "visibility": null,
            "width": null
          }
        },
        "d27bfd2c80e4497194ecbf60936fa11a": {
          "model_module": "@jupyter-widgets/controls",
          "model_name": "DescriptionStyleModel",
          "model_module_version": "1.5.0",
          "state": {
            "_model_module": "@jupyter-widgets/controls",
            "_model_module_version": "1.5.0",
            "_model_name": "DescriptionStyleModel",
            "_view_count": null,
            "_view_module": "@jupyter-widgets/base",
            "_view_module_version": "1.2.0",
            "_view_name": "StyleView",
            "description_width": ""
          }
        },
        "59fc54230e0449c4825bfe68783928d1": {
          "model_module": "@jupyter-widgets/controls",
          "model_name": "HBoxModel",
          "model_module_version": "1.5.0",
          "state": {
            "_dom_classes": [],
            "_model_module": "@jupyter-widgets/controls",
            "_model_module_version": "1.5.0",
            "_model_name": "HBoxModel",
            "_view_count": null,
            "_view_module": "@jupyter-widgets/controls",
            "_view_module_version": "1.5.0",
            "_view_name": "HBoxView",
            "box_style": "",
            "children": [
              "IPY_MODEL_6ebfd35841a84389b7245873a2b156e8",
              "IPY_MODEL_2db66e31ec614ed79bfb5da33ca1f9fa",
              "IPY_MODEL_816e2c75458b4abeac06b804e63ebf50"
            ],
            "layout": "IPY_MODEL_a3cc02b1b84348b6a1b24391abab96d8"
          }
        },
        "6ebfd35841a84389b7245873a2b156e8": {
          "model_module": "@jupyter-widgets/controls",
          "model_name": "HTMLModel",
          "model_module_version": "1.5.0",
          "state": {
            "_dom_classes": [],
            "_model_module": "@jupyter-widgets/controls",
            "_model_module_version": "1.5.0",
            "_model_name": "HTMLModel",
            "_view_count": null,
            "_view_module": "@jupyter-widgets/controls",
            "_view_module_version": "1.5.0",
            "_view_name": "HTMLView",
            "description": "",
            "description_tooltip": null,
            "layout": "IPY_MODEL_8cd14ba3d1194efa8733621b29974e4e",
            "placeholder": "​",
            "style": "IPY_MODEL_f5b345f2e7a2403b9e01f51e3087a925",
            "value": "sentence_bert_config.json: 100%"
          }
        },
        "2db66e31ec614ed79bfb5da33ca1f9fa": {
          "model_module": "@jupyter-widgets/controls",
          "model_name": "FloatProgressModel",
          "model_module_version": "1.5.0",
          "state": {
            "_dom_classes": [],
            "_model_module": "@jupyter-widgets/controls",
            "_model_module_version": "1.5.0",
            "_model_name": "FloatProgressModel",
            "_view_count": null,
            "_view_module": "@jupyter-widgets/controls",
            "_view_module_version": "1.5.0",
            "_view_name": "ProgressView",
            "bar_style": "success",
            "description": "",
            "description_tooltip": null,
            "layout": "IPY_MODEL_7857ffb579e74ab9afa8f24d3e543174",
            "max": 57,
            "min": 0,
            "orientation": "horizontal",
            "style": "IPY_MODEL_5cfd273c51244bd99e5fe34abf70c127",
            "value": 57
          }
        },
        "816e2c75458b4abeac06b804e63ebf50": {
          "model_module": "@jupyter-widgets/controls",
          "model_name": "HTMLModel",
          "model_module_version": "1.5.0",
          "state": {
            "_dom_classes": [],
            "_model_module": "@jupyter-widgets/controls",
            "_model_module_version": "1.5.0",
            "_model_name": "HTMLModel",
            "_view_count": null,
            "_view_module": "@jupyter-widgets/controls",
            "_view_module_version": "1.5.0",
            "_view_name": "HTMLView",
            "description": "",
            "description_tooltip": null,
            "layout": "IPY_MODEL_66ccd1f8badd4d4895027c12fab312b6",
            "placeholder": "​",
            "style": "IPY_MODEL_5c187b0641bc429c848bb92e1d377908",
            "value": " 57.0/57.0 [00:00&lt;00:00, 3.98kB/s]"
          }
        },
        "a3cc02b1b84348b6a1b24391abab96d8": {
          "model_module": "@jupyter-widgets/base",
          "model_name": "LayoutModel",
          "model_module_version": "1.2.0",
          "state": {
            "_model_module": "@jupyter-widgets/base",
            "_model_module_version": "1.2.0",
            "_model_name": "LayoutModel",
            "_view_count": null,
            "_view_module": "@jupyter-widgets/base",
            "_view_module_version": "1.2.0",
            "_view_name": "LayoutView",
            "align_content": null,
            "align_items": null,
            "align_self": null,
            "border": null,
            "bottom": null,
            "display": null,
            "flex": null,
            "flex_flow": null,
            "grid_area": null,
            "grid_auto_columns": null,
            "grid_auto_flow": null,
            "grid_auto_rows": null,
            "grid_column": null,
            "grid_gap": null,
            "grid_row": null,
            "grid_template_areas": null,
            "grid_template_columns": null,
            "grid_template_rows": null,
            "height": null,
            "justify_content": null,
            "justify_items": null,
            "left": null,
            "margin": null,
            "max_height": null,
            "max_width": null,
            "min_height": null,
            "min_width": null,
            "object_fit": null,
            "object_position": null,
            "order": null,
            "overflow": null,
            "overflow_x": null,
            "overflow_y": null,
            "padding": null,
            "right": null,
            "top": null,
            "visibility": null,
            "width": null
          }
        },
        "8cd14ba3d1194efa8733621b29974e4e": {
          "model_module": "@jupyter-widgets/base",
          "model_name": "LayoutModel",
          "model_module_version": "1.2.0",
          "state": {
            "_model_module": "@jupyter-widgets/base",
            "_model_module_version": "1.2.0",
            "_model_name": "LayoutModel",
            "_view_count": null,
            "_view_module": "@jupyter-widgets/base",
            "_view_module_version": "1.2.0",
            "_view_name": "LayoutView",
            "align_content": null,
            "align_items": null,
            "align_self": null,
            "border": null,
            "bottom": null,
            "display": null,
            "flex": null,
            "flex_flow": null,
            "grid_area": null,
            "grid_auto_columns": null,
            "grid_auto_flow": null,
            "grid_auto_rows": null,
            "grid_column": null,
            "grid_gap": null,
            "grid_row": null,
            "grid_template_areas": null,
            "grid_template_columns": null,
            "grid_template_rows": null,
            "height": null,
            "justify_content": null,
            "justify_items": null,
            "left": null,
            "margin": null,
            "max_height": null,
            "max_width": null,
            "min_height": null,
            "min_width": null,
            "object_fit": null,
            "object_position": null,
            "order": null,
            "overflow": null,
            "overflow_x": null,
            "overflow_y": null,
            "padding": null,
            "right": null,
            "top": null,
            "visibility": null,
            "width": null
          }
        },
        "f5b345f2e7a2403b9e01f51e3087a925": {
          "model_module": "@jupyter-widgets/controls",
          "model_name": "DescriptionStyleModel",
          "model_module_version": "1.5.0",
          "state": {
            "_model_module": "@jupyter-widgets/controls",
            "_model_module_version": "1.5.0",
            "_model_name": "DescriptionStyleModel",
            "_view_count": null,
            "_view_module": "@jupyter-widgets/base",
            "_view_module_version": "1.2.0",
            "_view_name": "StyleView",
            "description_width": ""
          }
        },
        "7857ffb579e74ab9afa8f24d3e543174": {
          "model_module": "@jupyter-widgets/base",
          "model_name": "LayoutModel",
          "model_module_version": "1.2.0",
          "state": {
            "_model_module": "@jupyter-widgets/base",
            "_model_module_version": "1.2.0",
            "_model_name": "LayoutModel",
            "_view_count": null,
            "_view_module": "@jupyter-widgets/base",
            "_view_module_version": "1.2.0",
            "_view_name": "LayoutView",
            "align_content": null,
            "align_items": null,
            "align_self": null,
            "border": null,
            "bottom": null,
            "display": null,
            "flex": null,
            "flex_flow": null,
            "grid_area": null,
            "grid_auto_columns": null,
            "grid_auto_flow": null,
            "grid_auto_rows": null,
            "grid_column": null,
            "grid_gap": null,
            "grid_row": null,
            "grid_template_areas": null,
            "grid_template_columns": null,
            "grid_template_rows": null,
            "height": null,
            "justify_content": null,
            "justify_items": null,
            "left": null,
            "margin": null,
            "max_height": null,
            "max_width": null,
            "min_height": null,
            "min_width": null,
            "object_fit": null,
            "object_position": null,
            "order": null,
            "overflow": null,
            "overflow_x": null,
            "overflow_y": null,
            "padding": null,
            "right": null,
            "top": null,
            "visibility": null,
            "width": null
          }
        },
        "5cfd273c51244bd99e5fe34abf70c127": {
          "model_module": "@jupyter-widgets/controls",
          "model_name": "ProgressStyleModel",
          "model_module_version": "1.5.0",
          "state": {
            "_model_module": "@jupyter-widgets/controls",
            "_model_module_version": "1.5.0",
            "_model_name": "ProgressStyleModel",
            "_view_count": null,
            "_view_module": "@jupyter-widgets/base",
            "_view_module_version": "1.2.0",
            "_view_name": "StyleView",
            "bar_color": null,
            "description_width": ""
          }
        },
        "66ccd1f8badd4d4895027c12fab312b6": {
          "model_module": "@jupyter-widgets/base",
          "model_name": "LayoutModel",
          "model_module_version": "1.2.0",
          "state": {
            "_model_module": "@jupyter-widgets/base",
            "_model_module_version": "1.2.0",
            "_model_name": "LayoutModel",
            "_view_count": null,
            "_view_module": "@jupyter-widgets/base",
            "_view_module_version": "1.2.0",
            "_view_name": "LayoutView",
            "align_content": null,
            "align_items": null,
            "align_self": null,
            "border": null,
            "bottom": null,
            "display": null,
            "flex": null,
            "flex_flow": null,
            "grid_area": null,
            "grid_auto_columns": null,
            "grid_auto_flow": null,
            "grid_auto_rows": null,
            "grid_column": null,
            "grid_gap": null,
            "grid_row": null,
            "grid_template_areas": null,
            "grid_template_columns": null,
            "grid_template_rows": null,
            "height": null,
            "justify_content": null,
            "justify_items": null,
            "left": null,
            "margin": null,
            "max_height": null,
            "max_width": null,
            "min_height": null,
            "min_width": null,
            "object_fit": null,
            "object_position": null,
            "order": null,
            "overflow": null,
            "overflow_x": null,
            "overflow_y": null,
            "padding": null,
            "right": null,
            "top": null,
            "visibility": null,
            "width": null
          }
        },
        "5c187b0641bc429c848bb92e1d377908": {
          "model_module": "@jupyter-widgets/controls",
          "model_name": "DescriptionStyleModel",
          "model_module_version": "1.5.0",
          "state": {
            "_model_module": "@jupyter-widgets/controls",
            "_model_module_version": "1.5.0",
            "_model_name": "DescriptionStyleModel",
            "_view_count": null,
            "_view_module": "@jupyter-widgets/base",
            "_view_module_version": "1.2.0",
            "_view_name": "StyleView",
            "description_width": ""
          }
        },
        "7624bafa615c4640acf9815bbe83a84f": {
          "model_module": "@jupyter-widgets/controls",
          "model_name": "HBoxModel",
          "model_module_version": "1.5.0",
          "state": {
            "_dom_classes": [],
            "_model_module": "@jupyter-widgets/controls",
            "_model_module_version": "1.5.0",
            "_model_name": "HBoxModel",
            "_view_count": null,
            "_view_module": "@jupyter-widgets/controls",
            "_view_module_version": "1.5.0",
            "_view_name": "HBoxView",
            "box_style": "",
            "children": [
              "IPY_MODEL_275ecf980a36488fa5e8d6ef0a760bf2",
              "IPY_MODEL_8bdc03c070be4e3e8d24d131c6e9c033",
              "IPY_MODEL_6439591770044b6586dde457fc80fce6"
            ],
            "layout": "IPY_MODEL_7cfc0ce948964ae5990b6e2e43ecca1e"
          }
        },
        "275ecf980a36488fa5e8d6ef0a760bf2": {
          "model_module": "@jupyter-widgets/controls",
          "model_name": "HTMLModel",
          "model_module_version": "1.5.0",
          "state": {
            "_dom_classes": [],
            "_model_module": "@jupyter-widgets/controls",
            "_model_module_version": "1.5.0",
            "_model_name": "HTMLModel",
            "_view_count": null,
            "_view_module": "@jupyter-widgets/controls",
            "_view_module_version": "1.5.0",
            "_view_name": "HTMLView",
            "description": "",
            "description_tooltip": null,
            "layout": "IPY_MODEL_ae3804cb9f8a4e499f8783cd8607722c",
            "placeholder": "​",
            "style": "IPY_MODEL_023360e35d83401dadcbff583f0a6500",
            "value": "config.json: 100%"
          }
        },
        "8bdc03c070be4e3e8d24d131c6e9c033": {
          "model_module": "@jupyter-widgets/controls",
          "model_name": "FloatProgressModel",
          "model_module_version": "1.5.0",
          "state": {
            "_dom_classes": [],
            "_model_module": "@jupyter-widgets/controls",
            "_model_module_version": "1.5.0",
            "_model_name": "FloatProgressModel",
            "_view_count": null,
            "_view_module": "@jupyter-widgets/controls",
            "_view_module_version": "1.5.0",
            "_view_name": "ProgressView",
            "bar_style": "success",
            "description": "",
            "description_tooltip": null,
            "layout": "IPY_MODEL_6c23fa8962f64d0ea9d3e7e87fc53548",
            "max": 619,
            "min": 0,
            "orientation": "horizontal",
            "style": "IPY_MODEL_e68c4f3d67944447a2cf260075dbe37a",
            "value": 619
          }
        },
        "6439591770044b6586dde457fc80fce6": {
          "model_module": "@jupyter-widgets/controls",
          "model_name": "HTMLModel",
          "model_module_version": "1.5.0",
          "state": {
            "_dom_classes": [],
            "_model_module": "@jupyter-widgets/controls",
            "_model_module_version": "1.5.0",
            "_model_name": "HTMLModel",
            "_view_count": null,
            "_view_module": "@jupyter-widgets/controls",
            "_view_module_version": "1.5.0",
            "_view_name": "HTMLView",
            "description": "",
            "description_tooltip": null,
            "layout": "IPY_MODEL_16f862152df348baa0daae791b664e9d",
            "placeholder": "​",
            "style": "IPY_MODEL_5bcc5fb30e7c4b54a1bb20cda59d7b64",
            "value": " 619/619 [00:00&lt;00:00, 45.7kB/s]"
          }
        },
        "7cfc0ce948964ae5990b6e2e43ecca1e": {
          "model_module": "@jupyter-widgets/base",
          "model_name": "LayoutModel",
          "model_module_version": "1.2.0",
          "state": {
            "_model_module": "@jupyter-widgets/base",
            "_model_module_version": "1.2.0",
            "_model_name": "LayoutModel",
            "_view_count": null,
            "_view_module": "@jupyter-widgets/base",
            "_view_module_version": "1.2.0",
            "_view_name": "LayoutView",
            "align_content": null,
            "align_items": null,
            "align_self": null,
            "border": null,
            "bottom": null,
            "display": null,
            "flex": null,
            "flex_flow": null,
            "grid_area": null,
            "grid_auto_columns": null,
            "grid_auto_flow": null,
            "grid_auto_rows": null,
            "grid_column": null,
            "grid_gap": null,
            "grid_row": null,
            "grid_template_areas": null,
            "grid_template_columns": null,
            "grid_template_rows": null,
            "height": null,
            "justify_content": null,
            "justify_items": null,
            "left": null,
            "margin": null,
            "max_height": null,
            "max_width": null,
            "min_height": null,
            "min_width": null,
            "object_fit": null,
            "object_position": null,
            "order": null,
            "overflow": null,
            "overflow_x": null,
            "overflow_y": null,
            "padding": null,
            "right": null,
            "top": null,
            "visibility": null,
            "width": null
          }
        },
        "ae3804cb9f8a4e499f8783cd8607722c": {
          "model_module": "@jupyter-widgets/base",
          "model_name": "LayoutModel",
          "model_module_version": "1.2.0",
          "state": {
            "_model_module": "@jupyter-widgets/base",
            "_model_module_version": "1.2.0",
            "_model_name": "LayoutModel",
            "_view_count": null,
            "_view_module": "@jupyter-widgets/base",
            "_view_module_version": "1.2.0",
            "_view_name": "LayoutView",
            "align_content": null,
            "align_items": null,
            "align_self": null,
            "border": null,
            "bottom": null,
            "display": null,
            "flex": null,
            "flex_flow": null,
            "grid_area": null,
            "grid_auto_columns": null,
            "grid_auto_flow": null,
            "grid_auto_rows": null,
            "grid_column": null,
            "grid_gap": null,
            "grid_row": null,
            "grid_template_areas": null,
            "grid_template_columns": null,
            "grid_template_rows": null,
            "height": null,
            "justify_content": null,
            "justify_items": null,
            "left": null,
            "margin": null,
            "max_height": null,
            "max_width": null,
            "min_height": null,
            "min_width": null,
            "object_fit": null,
            "object_position": null,
            "order": null,
            "overflow": null,
            "overflow_x": null,
            "overflow_y": null,
            "padding": null,
            "right": null,
            "top": null,
            "visibility": null,
            "width": null
          }
        },
        "023360e35d83401dadcbff583f0a6500": {
          "model_module": "@jupyter-widgets/controls",
          "model_name": "DescriptionStyleModel",
          "model_module_version": "1.5.0",
          "state": {
            "_model_module": "@jupyter-widgets/controls",
            "_model_module_version": "1.5.0",
            "_model_name": "DescriptionStyleModel",
            "_view_count": null,
            "_view_module": "@jupyter-widgets/base",
            "_view_module_version": "1.2.0",
            "_view_name": "StyleView",
            "description_width": ""
          }
        },
        "6c23fa8962f64d0ea9d3e7e87fc53548": {
          "model_module": "@jupyter-widgets/base",
          "model_name": "LayoutModel",
          "model_module_version": "1.2.0",
          "state": {
            "_model_module": "@jupyter-widgets/base",
            "_model_module_version": "1.2.0",
            "_model_name": "LayoutModel",
            "_view_count": null,
            "_view_module": "@jupyter-widgets/base",
            "_view_module_version": "1.2.0",
            "_view_name": "LayoutView",
            "align_content": null,
            "align_items": null,
            "align_self": null,
            "border": null,
            "bottom": null,
            "display": null,
            "flex": null,
            "flex_flow": null,
            "grid_area": null,
            "grid_auto_columns": null,
            "grid_auto_flow": null,
            "grid_auto_rows": null,
            "grid_column": null,
            "grid_gap": null,
            "grid_row": null,
            "grid_template_areas": null,
            "grid_template_columns": null,
            "grid_template_rows": null,
            "height": null,
            "justify_content": null,
            "justify_items": null,
            "left": null,
            "margin": null,
            "max_height": null,
            "max_width": null,
            "min_height": null,
            "min_width": null,
            "object_fit": null,
            "object_position": null,
            "order": null,
            "overflow": null,
            "overflow_x": null,
            "overflow_y": null,
            "padding": null,
            "right": null,
            "top": null,
            "visibility": null,
            "width": null
          }
        },
        "e68c4f3d67944447a2cf260075dbe37a": {
          "model_module": "@jupyter-widgets/controls",
          "model_name": "ProgressStyleModel",
          "model_module_version": "1.5.0",
          "state": {
            "_model_module": "@jupyter-widgets/controls",
            "_model_module_version": "1.5.0",
            "_model_name": "ProgressStyleModel",
            "_view_count": null,
            "_view_module": "@jupyter-widgets/base",
            "_view_module_version": "1.2.0",
            "_view_name": "StyleView",
            "bar_color": null,
            "description_width": ""
          }
        },
        "16f862152df348baa0daae791b664e9d": {
          "model_module": "@jupyter-widgets/base",
          "model_name": "LayoutModel",
          "model_module_version": "1.2.0",
          "state": {
            "_model_module": "@jupyter-widgets/base",
            "_model_module_version": "1.2.0",
            "_model_name": "LayoutModel",
            "_view_count": null,
            "_view_module": "@jupyter-widgets/base",
            "_view_module_version": "1.2.0",
            "_view_name": "LayoutView",
            "align_content": null,
            "align_items": null,
            "align_self": null,
            "border": null,
            "bottom": null,
            "display": null,
            "flex": null,
            "flex_flow": null,
            "grid_area": null,
            "grid_auto_columns": null,
            "grid_auto_flow": null,
            "grid_auto_rows": null,
            "grid_column": null,
            "grid_gap": null,
            "grid_row": null,
            "grid_template_areas": null,
            "grid_template_columns": null,
            "grid_template_rows": null,
            "height": null,
            "justify_content": null,
            "justify_items": null,
            "left": null,
            "margin": null,
            "max_height": null,
            "max_width": null,
            "min_height": null,
            "min_width": null,
            "object_fit": null,
            "object_position": null,
            "order": null,
            "overflow": null,
            "overflow_x": null,
            "overflow_y": null,
            "padding": null,
            "right": null,
            "top": null,
            "visibility": null,
            "width": null
          }
        },
        "5bcc5fb30e7c4b54a1bb20cda59d7b64": {
          "model_module": "@jupyter-widgets/controls",
          "model_name": "DescriptionStyleModel",
          "model_module_version": "1.5.0",
          "state": {
            "_model_module": "@jupyter-widgets/controls",
            "_model_module_version": "1.5.0",
            "_model_name": "DescriptionStyleModel",
            "_view_count": null,
            "_view_module": "@jupyter-widgets/base",
            "_view_module_version": "1.2.0",
            "_view_name": "StyleView",
            "description_width": ""
          }
        },
        "12fcaa0e702b49c6a1255fda69f4519c": {
          "model_module": "@jupyter-widgets/controls",
          "model_name": "HBoxModel",
          "model_module_version": "1.5.0",
          "state": {
            "_dom_classes": [],
            "_model_module": "@jupyter-widgets/controls",
            "_model_module_version": "1.5.0",
            "_model_name": "HBoxModel",
            "_view_count": null,
            "_view_module": "@jupyter-widgets/controls",
            "_view_module_version": "1.5.0",
            "_view_name": "HBoxView",
            "box_style": "",
            "children": [
              "IPY_MODEL_b7aa173139e2434082ee4741b30569b6",
              "IPY_MODEL_82f409b20b064399872af2b80d610267",
              "IPY_MODEL_8d7ea2e4a93a4c1ba129c3a07936e269"
            ],
            "layout": "IPY_MODEL_debffb5442844871881158e1bfd355fa"
          }
        },
        "b7aa173139e2434082ee4741b30569b6": {
          "model_module": "@jupyter-widgets/controls",
          "model_name": "HTMLModel",
          "model_module_version": "1.5.0",
          "state": {
            "_dom_classes": [],
            "_model_module": "@jupyter-widgets/controls",
            "_model_module_version": "1.5.0",
            "_model_name": "HTMLModel",
            "_view_count": null,
            "_view_module": "@jupyter-widgets/controls",
            "_view_module_version": "1.5.0",
            "_view_name": "HTMLView",
            "description": "",
            "description_tooltip": null,
            "layout": "IPY_MODEL_a3e9ff3ec1044ca788f33c47797b9ee2",
            "placeholder": "​",
            "style": "IPY_MODEL_38ddb92cd8ed484cbe3f36ba6588a314",
            "value": "model.safetensors: 100%"
          }
        },
        "82f409b20b064399872af2b80d610267": {
          "model_module": "@jupyter-widgets/controls",
          "model_name": "FloatProgressModel",
          "model_module_version": "1.5.0",
          "state": {
            "_dom_classes": [],
            "_model_module": "@jupyter-widgets/controls",
            "_model_module_version": "1.5.0",
            "_model_name": "FloatProgressModel",
            "_view_count": null,
            "_view_module": "@jupyter-widgets/controls",
            "_view_module_version": "1.5.0",
            "_view_name": "ProgressView",
            "bar_style": "success",
            "description": "",
            "description_tooltip": null,
            "layout": "IPY_MODEL_5173190aaf2f4fcb88056968eb4c0a3c",
            "max": 670332568,
            "min": 0,
            "orientation": "horizontal",
            "style": "IPY_MODEL_216c0296cd364e04b26698a0c7abed56",
            "value": 670332568
          }
        },
        "8d7ea2e4a93a4c1ba129c3a07936e269": {
          "model_module": "@jupyter-widgets/controls",
          "model_name": "HTMLModel",
          "model_module_version": "1.5.0",
          "state": {
            "_dom_classes": [],
            "_model_module": "@jupyter-widgets/controls",
            "_model_module_version": "1.5.0",
            "_model_name": "HTMLModel",
            "_view_count": null,
            "_view_module": "@jupyter-widgets/controls",
            "_view_module_version": "1.5.0",
            "_view_name": "HTMLView",
            "description": "",
            "description_tooltip": null,
            "layout": "IPY_MODEL_ec1a694b2a414027ac8f0b4d4eba5da9",
            "placeholder": "​",
            "style": "IPY_MODEL_1eacac1c976843c29677bdcd93d249fb",
            "value": " 670M/670M [00:03&lt;00:00, 238MB/s]"
          }
        },
        "debffb5442844871881158e1bfd355fa": {
          "model_module": "@jupyter-widgets/base",
          "model_name": "LayoutModel",
          "model_module_version": "1.2.0",
          "state": {
            "_model_module": "@jupyter-widgets/base",
            "_model_module_version": "1.2.0",
            "_model_name": "LayoutModel",
            "_view_count": null,
            "_view_module": "@jupyter-widgets/base",
            "_view_module_version": "1.2.0",
            "_view_name": "LayoutView",
            "align_content": null,
            "align_items": null,
            "align_self": null,
            "border": null,
            "bottom": null,
            "display": null,
            "flex": null,
            "flex_flow": null,
            "grid_area": null,
            "grid_auto_columns": null,
            "grid_auto_flow": null,
            "grid_auto_rows": null,
            "grid_column": null,
            "grid_gap": null,
            "grid_row": null,
            "grid_template_areas": null,
            "grid_template_columns": null,
            "grid_template_rows": null,
            "height": null,
            "justify_content": null,
            "justify_items": null,
            "left": null,
            "margin": null,
            "max_height": null,
            "max_width": null,
            "min_height": null,
            "min_width": null,
            "object_fit": null,
            "object_position": null,
            "order": null,
            "overflow": null,
            "overflow_x": null,
            "overflow_y": null,
            "padding": null,
            "right": null,
            "top": null,
            "visibility": null,
            "width": null
          }
        },
        "a3e9ff3ec1044ca788f33c47797b9ee2": {
          "model_module": "@jupyter-widgets/base",
          "model_name": "LayoutModel",
          "model_module_version": "1.2.0",
          "state": {
            "_model_module": "@jupyter-widgets/base",
            "_model_module_version": "1.2.0",
            "_model_name": "LayoutModel",
            "_view_count": null,
            "_view_module": "@jupyter-widgets/base",
            "_view_module_version": "1.2.0",
            "_view_name": "LayoutView",
            "align_content": null,
            "align_items": null,
            "align_self": null,
            "border": null,
            "bottom": null,
            "display": null,
            "flex": null,
            "flex_flow": null,
            "grid_area": null,
            "grid_auto_columns": null,
            "grid_auto_flow": null,
            "grid_auto_rows": null,
            "grid_column": null,
            "grid_gap": null,
            "grid_row": null,
            "grid_template_areas": null,
            "grid_template_columns": null,
            "grid_template_rows": null,
            "height": null,
            "justify_content": null,
            "justify_items": null,
            "left": null,
            "margin": null,
            "max_height": null,
            "max_width": null,
            "min_height": null,
            "min_width": null,
            "object_fit": null,
            "object_position": null,
            "order": null,
            "overflow": null,
            "overflow_x": null,
            "overflow_y": null,
            "padding": null,
            "right": null,
            "top": null,
            "visibility": null,
            "width": null
          }
        },
        "38ddb92cd8ed484cbe3f36ba6588a314": {
          "model_module": "@jupyter-widgets/controls",
          "model_name": "DescriptionStyleModel",
          "model_module_version": "1.5.0",
          "state": {
            "_model_module": "@jupyter-widgets/controls",
            "_model_module_version": "1.5.0",
            "_model_name": "DescriptionStyleModel",
            "_view_count": null,
            "_view_module": "@jupyter-widgets/base",
            "_view_module_version": "1.2.0",
            "_view_name": "StyleView",
            "description_width": ""
          }
        },
        "5173190aaf2f4fcb88056968eb4c0a3c": {
          "model_module": "@jupyter-widgets/base",
          "model_name": "LayoutModel",
          "model_module_version": "1.2.0",
          "state": {
            "_model_module": "@jupyter-widgets/base",
            "_model_module_version": "1.2.0",
            "_model_name": "LayoutModel",
            "_view_count": null,
            "_view_module": "@jupyter-widgets/base",
            "_view_module_version": "1.2.0",
            "_view_name": "LayoutView",
            "align_content": null,
            "align_items": null,
            "align_self": null,
            "border": null,
            "bottom": null,
            "display": null,
            "flex": null,
            "flex_flow": null,
            "grid_area": null,
            "grid_auto_columns": null,
            "grid_auto_flow": null,
            "grid_auto_rows": null,
            "grid_column": null,
            "grid_gap": null,
            "grid_row": null,
            "grid_template_areas": null,
            "grid_template_columns": null,
            "grid_template_rows": null,
            "height": null,
            "justify_content": null,
            "justify_items": null,
            "left": null,
            "margin": null,
            "max_height": null,
            "max_width": null,
            "min_height": null,
            "min_width": null,
            "object_fit": null,
            "object_position": null,
            "order": null,
            "overflow": null,
            "overflow_x": null,
            "overflow_y": null,
            "padding": null,
            "right": null,
            "top": null,
            "visibility": null,
            "width": null
          }
        },
        "216c0296cd364e04b26698a0c7abed56": {
          "model_module": "@jupyter-widgets/controls",
          "model_name": "ProgressStyleModel",
          "model_module_version": "1.5.0",
          "state": {
            "_model_module": "@jupyter-widgets/controls",
            "_model_module_version": "1.5.0",
            "_model_name": "ProgressStyleModel",
            "_view_count": null,
            "_view_module": "@jupyter-widgets/base",
            "_view_module_version": "1.2.0",
            "_view_name": "StyleView",
            "bar_color": null,
            "description_width": ""
          }
        },
        "ec1a694b2a414027ac8f0b4d4eba5da9": {
          "model_module": "@jupyter-widgets/base",
          "model_name": "LayoutModel",
          "model_module_version": "1.2.0",
          "state": {
            "_model_module": "@jupyter-widgets/base",
            "_model_module_version": "1.2.0",
            "_model_name": "LayoutModel",
            "_view_count": null,
            "_view_module": "@jupyter-widgets/base",
            "_view_module_version": "1.2.0",
            "_view_name": "LayoutView",
            "align_content": null,
            "align_items": null,
            "align_self": null,
            "border": null,
            "bottom": null,
            "display": null,
            "flex": null,
            "flex_flow": null,
            "grid_area": null,
            "grid_auto_columns": null,
            "grid_auto_flow": null,
            "grid_auto_rows": null,
            "grid_column": null,
            "grid_gap": null,
            "grid_row": null,
            "grid_template_areas": null,
            "grid_template_columns": null,
            "grid_template_rows": null,
            "height": null,
            "justify_content": null,
            "justify_items": null,
            "left": null,
            "margin": null,
            "max_height": null,
            "max_width": null,
            "min_height": null,
            "min_width": null,
            "object_fit": null,
            "object_position": null,
            "order": null,
            "overflow": null,
            "overflow_x": null,
            "overflow_y": null,
            "padding": null,
            "right": null,
            "top": null,
            "visibility": null,
            "width": null
          }
        },
        "1eacac1c976843c29677bdcd93d249fb": {
          "model_module": "@jupyter-widgets/controls",
          "model_name": "DescriptionStyleModel",
          "model_module_version": "1.5.0",
          "state": {
            "_model_module": "@jupyter-widgets/controls",
            "_model_module_version": "1.5.0",
            "_model_name": "DescriptionStyleModel",
            "_view_count": null,
            "_view_module": "@jupyter-widgets/base",
            "_view_module_version": "1.2.0",
            "_view_name": "StyleView",
            "description_width": ""
          }
        },
        "280eea1af71d435989dcffcbd6e9a4fa": {
          "model_module": "@jupyter-widgets/controls",
          "model_name": "HBoxModel",
          "model_module_version": "1.5.0",
          "state": {
            "_dom_classes": [],
            "_model_module": "@jupyter-widgets/controls",
            "_model_module_version": "1.5.0",
            "_model_name": "HBoxModel",
            "_view_count": null,
            "_view_module": "@jupyter-widgets/controls",
            "_view_module_version": "1.5.0",
            "_view_name": "HBoxView",
            "box_style": "",
            "children": [
              "IPY_MODEL_0adf7c9317b443a1b9c0fe4598bc5bba",
              "IPY_MODEL_c47ca519c2ba40f8b482b1f56f52d418",
              "IPY_MODEL_b9f45d80b8e0465f987e75c892103092"
            ],
            "layout": "IPY_MODEL_4e85d5b8c7b64e078c78e045c35f4cad"
          }
        },
        "0adf7c9317b443a1b9c0fe4598bc5bba": {
          "model_module": "@jupyter-widgets/controls",
          "model_name": "HTMLModel",
          "model_module_version": "1.5.0",
          "state": {
            "_dom_classes": [],
            "_model_module": "@jupyter-widgets/controls",
            "_model_module_version": "1.5.0",
            "_model_name": "HTMLModel",
            "_view_count": null,
            "_view_module": "@jupyter-widgets/controls",
            "_view_module_version": "1.5.0",
            "_view_name": "HTMLView",
            "description": "",
            "description_tooltip": null,
            "layout": "IPY_MODEL_d6a352ddfb2f427bb633c19c5ac4c741",
            "placeholder": "​",
            "style": "IPY_MODEL_72cc0753f7db445b8ae78fe21770acd0",
            "value": "tokenizer_config.json: 100%"
          }
        },
        "c47ca519c2ba40f8b482b1f56f52d418": {
          "model_module": "@jupyter-widgets/controls",
          "model_name": "FloatProgressModel",
          "model_module_version": "1.5.0",
          "state": {
            "_dom_classes": [],
            "_model_module": "@jupyter-widgets/controls",
            "_model_module_version": "1.5.0",
            "_model_name": "FloatProgressModel",
            "_view_count": null,
            "_view_module": "@jupyter-widgets/controls",
            "_view_module_version": "1.5.0",
            "_view_name": "ProgressView",
            "bar_style": "success",
            "description": "",
            "description_tooltip": null,
            "layout": "IPY_MODEL_8f1d888eab9e400abf76f3f8d81b2b63",
            "max": 342,
            "min": 0,
            "orientation": "horizontal",
            "style": "IPY_MODEL_ab014cf6fbfe4866b084a379ecc3efae",
            "value": 342
          }
        },
        "b9f45d80b8e0465f987e75c892103092": {
          "model_module": "@jupyter-widgets/controls",
          "model_name": "HTMLModel",
          "model_module_version": "1.5.0",
          "state": {
            "_dom_classes": [],
            "_model_module": "@jupyter-widgets/controls",
            "_model_module_version": "1.5.0",
            "_model_name": "HTMLModel",
            "_view_count": null,
            "_view_module": "@jupyter-widgets/controls",
            "_view_module_version": "1.5.0",
            "_view_name": "HTMLView",
            "description": "",
            "description_tooltip": null,
            "layout": "IPY_MODEL_d09fe5d7e00f44109f98eab6cba42410",
            "placeholder": "​",
            "style": "IPY_MODEL_3db756297b0b4ef1b4bbaedb254d8300",
            "value": " 342/342 [00:00&lt;00:00, 36.4kB/s]"
          }
        },
        "4e85d5b8c7b64e078c78e045c35f4cad": {
          "model_module": "@jupyter-widgets/base",
          "model_name": "LayoutModel",
          "model_module_version": "1.2.0",
          "state": {
            "_model_module": "@jupyter-widgets/base",
            "_model_module_version": "1.2.0",
            "_model_name": "LayoutModel",
            "_view_count": null,
            "_view_module": "@jupyter-widgets/base",
            "_view_module_version": "1.2.0",
            "_view_name": "LayoutView",
            "align_content": null,
            "align_items": null,
            "align_self": null,
            "border": null,
            "bottom": null,
            "display": null,
            "flex": null,
            "flex_flow": null,
            "grid_area": null,
            "grid_auto_columns": null,
            "grid_auto_flow": null,
            "grid_auto_rows": null,
            "grid_column": null,
            "grid_gap": null,
            "grid_row": null,
            "grid_template_areas": null,
            "grid_template_columns": null,
            "grid_template_rows": null,
            "height": null,
            "justify_content": null,
            "justify_items": null,
            "left": null,
            "margin": null,
            "max_height": null,
            "max_width": null,
            "min_height": null,
            "min_width": null,
            "object_fit": null,
            "object_position": null,
            "order": null,
            "overflow": null,
            "overflow_x": null,
            "overflow_y": null,
            "padding": null,
            "right": null,
            "top": null,
            "visibility": null,
            "width": null
          }
        },
        "d6a352ddfb2f427bb633c19c5ac4c741": {
          "model_module": "@jupyter-widgets/base",
          "model_name": "LayoutModel",
          "model_module_version": "1.2.0",
          "state": {
            "_model_module": "@jupyter-widgets/base",
            "_model_module_version": "1.2.0",
            "_model_name": "LayoutModel",
            "_view_count": null,
            "_view_module": "@jupyter-widgets/base",
            "_view_module_version": "1.2.0",
            "_view_name": "LayoutView",
            "align_content": null,
            "align_items": null,
            "align_self": null,
            "border": null,
            "bottom": null,
            "display": null,
            "flex": null,
            "flex_flow": null,
            "grid_area": null,
            "grid_auto_columns": null,
            "grid_auto_flow": null,
            "grid_auto_rows": null,
            "grid_column": null,
            "grid_gap": null,
            "grid_row": null,
            "grid_template_areas": null,
            "grid_template_columns": null,
            "grid_template_rows": null,
            "height": null,
            "justify_content": null,
            "justify_items": null,
            "left": null,
            "margin": null,
            "max_height": null,
            "max_width": null,
            "min_height": null,
            "min_width": null,
            "object_fit": null,
            "object_position": null,
            "order": null,
            "overflow": null,
            "overflow_x": null,
            "overflow_y": null,
            "padding": null,
            "right": null,
            "top": null,
            "visibility": null,
            "width": null
          }
        },
        "72cc0753f7db445b8ae78fe21770acd0": {
          "model_module": "@jupyter-widgets/controls",
          "model_name": "DescriptionStyleModel",
          "model_module_version": "1.5.0",
          "state": {
            "_model_module": "@jupyter-widgets/controls",
            "_model_module_version": "1.5.0",
            "_model_name": "DescriptionStyleModel",
            "_view_count": null,
            "_view_module": "@jupyter-widgets/base",
            "_view_module_version": "1.2.0",
            "_view_name": "StyleView",
            "description_width": ""
          }
        },
        "8f1d888eab9e400abf76f3f8d81b2b63": {
          "model_module": "@jupyter-widgets/base",
          "model_name": "LayoutModel",
          "model_module_version": "1.2.0",
          "state": {
            "_model_module": "@jupyter-widgets/base",
            "_model_module_version": "1.2.0",
            "_model_name": "LayoutModel",
            "_view_count": null,
            "_view_module": "@jupyter-widgets/base",
            "_view_module_version": "1.2.0",
            "_view_name": "LayoutView",
            "align_content": null,
            "align_items": null,
            "align_self": null,
            "border": null,
            "bottom": null,
            "display": null,
            "flex": null,
            "flex_flow": null,
            "grid_area": null,
            "grid_auto_columns": null,
            "grid_auto_flow": null,
            "grid_auto_rows": null,
            "grid_column": null,
            "grid_gap": null,
            "grid_row": null,
            "grid_template_areas": null,
            "grid_template_columns": null,
            "grid_template_rows": null,
            "height": null,
            "justify_content": null,
            "justify_items": null,
            "left": null,
            "margin": null,
            "max_height": null,
            "max_width": null,
            "min_height": null,
            "min_width": null,
            "object_fit": null,
            "object_position": null,
            "order": null,
            "overflow": null,
            "overflow_x": null,
            "overflow_y": null,
            "padding": null,
            "right": null,
            "top": null,
            "visibility": null,
            "width": null
          }
        },
        "ab014cf6fbfe4866b084a379ecc3efae": {
          "model_module": "@jupyter-widgets/controls",
          "model_name": "ProgressStyleModel",
          "model_module_version": "1.5.0",
          "state": {
            "_model_module": "@jupyter-widgets/controls",
            "_model_module_version": "1.5.0",
            "_model_name": "ProgressStyleModel",
            "_view_count": null,
            "_view_module": "@jupyter-widgets/base",
            "_view_module_version": "1.2.0",
            "_view_name": "StyleView",
            "bar_color": null,
            "description_width": ""
          }
        },
        "d09fe5d7e00f44109f98eab6cba42410": {
          "model_module": "@jupyter-widgets/base",
          "model_name": "LayoutModel",
          "model_module_version": "1.2.0",
          "state": {
            "_model_module": "@jupyter-widgets/base",
            "_model_module_version": "1.2.0",
            "_model_name": "LayoutModel",
            "_view_count": null,
            "_view_module": "@jupyter-widgets/base",
            "_view_module_version": "1.2.0",
            "_view_name": "LayoutView",
            "align_content": null,
            "align_items": null,
            "align_self": null,
            "border": null,
            "bottom": null,
            "display": null,
            "flex": null,
            "flex_flow": null,
            "grid_area": null,
            "grid_auto_columns": null,
            "grid_auto_flow": null,
            "grid_auto_rows": null,
            "grid_column": null,
            "grid_gap": null,
            "grid_row": null,
            "grid_template_areas": null,
            "grid_template_columns": null,
            "grid_template_rows": null,
            "height": null,
            "justify_content": null,
            "justify_items": null,
            "left": null,
            "margin": null,
            "max_height": null,
            "max_width": null,
            "min_height": null,
            "min_width": null,
            "object_fit": null,
            "object_position": null,
            "order": null,
            "overflow": null,
            "overflow_x": null,
            "overflow_y": null,
            "padding": null,
            "right": null,
            "top": null,
            "visibility": null,
            "width": null
          }
        },
        "3db756297b0b4ef1b4bbaedb254d8300": {
          "model_module": "@jupyter-widgets/controls",
          "model_name": "DescriptionStyleModel",
          "model_module_version": "1.5.0",
          "state": {
            "_model_module": "@jupyter-widgets/controls",
            "_model_module_version": "1.5.0",
            "_model_name": "DescriptionStyleModel",
            "_view_count": null,
            "_view_module": "@jupyter-widgets/base",
            "_view_module_version": "1.2.0",
            "_view_name": "StyleView",
            "description_width": ""
          }
        },
        "e0ed003c076f45c49b06c598bd54d8f3": {
          "model_module": "@jupyter-widgets/controls",
          "model_name": "HBoxModel",
          "model_module_version": "1.5.0",
          "state": {
            "_dom_classes": [],
            "_model_module": "@jupyter-widgets/controls",
            "_model_module_version": "1.5.0",
            "_model_name": "HBoxModel",
            "_view_count": null,
            "_view_module": "@jupyter-widgets/controls",
            "_view_module_version": "1.5.0",
            "_view_name": "HBoxView",
            "box_style": "",
            "children": [
              "IPY_MODEL_d26e03755a544a54a6a1a7fb5ee09c57",
              "IPY_MODEL_6827a3ebefc349ad9938238ce858f54c",
              "IPY_MODEL_5b26a64bc118418dbb0515e3bd8328ab"
            ],
            "layout": "IPY_MODEL_274946c8f1d5400b997af8e8afcc7ec7"
          }
        },
        "d26e03755a544a54a6a1a7fb5ee09c57": {
          "model_module": "@jupyter-widgets/controls",
          "model_name": "HTMLModel",
          "model_module_version": "1.5.0",
          "state": {
            "_dom_classes": [],
            "_model_module": "@jupyter-widgets/controls",
            "_model_module_version": "1.5.0",
            "_model_name": "HTMLModel",
            "_view_count": null,
            "_view_module": "@jupyter-widgets/controls",
            "_view_module_version": "1.5.0",
            "_view_name": "HTMLView",
            "description": "",
            "description_tooltip": null,
            "layout": "IPY_MODEL_f08cab2ea99c4689bf8bff5d9a146a5a",
            "placeholder": "​",
            "style": "IPY_MODEL_97d7396481984354aaf42ce29b6c3acc",
            "value": "vocab.txt: 100%"
          }
        },
        "6827a3ebefc349ad9938238ce858f54c": {
          "model_module": "@jupyter-widgets/controls",
          "model_name": "FloatProgressModel",
          "model_module_version": "1.5.0",
          "state": {
            "_dom_classes": [],
            "_model_module": "@jupyter-widgets/controls",
            "_model_module_version": "1.5.0",
            "_model_name": "FloatProgressModel",
            "_view_count": null,
            "_view_module": "@jupyter-widgets/controls",
            "_view_module_version": "1.5.0",
            "_view_name": "ProgressView",
            "bar_style": "success",
            "description": "",
            "description_tooltip": null,
            "layout": "IPY_MODEL_d9e8f2493d5e49d39c4297b738b681df",
            "max": 231508,
            "min": 0,
            "orientation": "horizontal",
            "style": "IPY_MODEL_abb4f2cc683d4b83ab4adef6bfb3dc20",
            "value": 231508
          }
        },
        "5b26a64bc118418dbb0515e3bd8328ab": {
          "model_module": "@jupyter-widgets/controls",
          "model_name": "HTMLModel",
          "model_module_version": "1.5.0",
          "state": {
            "_dom_classes": [],
            "_model_module": "@jupyter-widgets/controls",
            "_model_module_version": "1.5.0",
            "_model_name": "HTMLModel",
            "_view_count": null,
            "_view_module": "@jupyter-widgets/controls",
            "_view_module_version": "1.5.0",
            "_view_name": "HTMLView",
            "description": "",
            "description_tooltip": null,
            "layout": "IPY_MODEL_247ff9fdd80242a3bcb8be03b4dde653",
            "placeholder": "​",
            "style": "IPY_MODEL_f49014f864ea4f44a80c729a4cf2c50b",
            "value": " 232k/232k [00:00&lt;00:00, 813kB/s]"
          }
        },
        "274946c8f1d5400b997af8e8afcc7ec7": {
          "model_module": "@jupyter-widgets/base",
          "model_name": "LayoutModel",
          "model_module_version": "1.2.0",
          "state": {
            "_model_module": "@jupyter-widgets/base",
            "_model_module_version": "1.2.0",
            "_model_name": "LayoutModel",
            "_view_count": null,
            "_view_module": "@jupyter-widgets/base",
            "_view_module_version": "1.2.0",
            "_view_name": "LayoutView",
            "align_content": null,
            "align_items": null,
            "align_self": null,
            "border": null,
            "bottom": null,
            "display": null,
            "flex": null,
            "flex_flow": null,
            "grid_area": null,
            "grid_auto_columns": null,
            "grid_auto_flow": null,
            "grid_auto_rows": null,
            "grid_column": null,
            "grid_gap": null,
            "grid_row": null,
            "grid_template_areas": null,
            "grid_template_columns": null,
            "grid_template_rows": null,
            "height": null,
            "justify_content": null,
            "justify_items": null,
            "left": null,
            "margin": null,
            "max_height": null,
            "max_width": null,
            "min_height": null,
            "min_width": null,
            "object_fit": null,
            "object_position": null,
            "order": null,
            "overflow": null,
            "overflow_x": null,
            "overflow_y": null,
            "padding": null,
            "right": null,
            "top": null,
            "visibility": null,
            "width": null
          }
        },
        "f08cab2ea99c4689bf8bff5d9a146a5a": {
          "model_module": "@jupyter-widgets/base",
          "model_name": "LayoutModel",
          "model_module_version": "1.2.0",
          "state": {
            "_model_module": "@jupyter-widgets/base",
            "_model_module_version": "1.2.0",
            "_model_name": "LayoutModel",
            "_view_count": null,
            "_view_module": "@jupyter-widgets/base",
            "_view_module_version": "1.2.0",
            "_view_name": "LayoutView",
            "align_content": null,
            "align_items": null,
            "align_self": null,
            "border": null,
            "bottom": null,
            "display": null,
            "flex": null,
            "flex_flow": null,
            "grid_area": null,
            "grid_auto_columns": null,
            "grid_auto_flow": null,
            "grid_auto_rows": null,
            "grid_column": null,
            "grid_gap": null,
            "grid_row": null,
            "grid_template_areas": null,
            "grid_template_columns": null,
            "grid_template_rows": null,
            "height": null,
            "justify_content": null,
            "justify_items": null,
            "left": null,
            "margin": null,
            "max_height": null,
            "max_width": null,
            "min_height": null,
            "min_width": null,
            "object_fit": null,
            "object_position": null,
            "order": null,
            "overflow": null,
            "overflow_x": null,
            "overflow_y": null,
            "padding": null,
            "right": null,
            "top": null,
            "visibility": null,
            "width": null
          }
        },
        "97d7396481984354aaf42ce29b6c3acc": {
          "model_module": "@jupyter-widgets/controls",
          "model_name": "DescriptionStyleModel",
          "model_module_version": "1.5.0",
          "state": {
            "_model_module": "@jupyter-widgets/controls",
            "_model_module_version": "1.5.0",
            "_model_name": "DescriptionStyleModel",
            "_view_count": null,
            "_view_module": "@jupyter-widgets/base",
            "_view_module_version": "1.2.0",
            "_view_name": "StyleView",
            "description_width": ""
          }
        },
        "d9e8f2493d5e49d39c4297b738b681df": {
          "model_module": "@jupyter-widgets/base",
          "model_name": "LayoutModel",
          "model_module_version": "1.2.0",
          "state": {
            "_model_module": "@jupyter-widgets/base",
            "_model_module_version": "1.2.0",
            "_model_name": "LayoutModel",
            "_view_count": null,
            "_view_module": "@jupyter-widgets/base",
            "_view_module_version": "1.2.0",
            "_view_name": "LayoutView",
            "align_content": null,
            "align_items": null,
            "align_self": null,
            "border": null,
            "bottom": null,
            "display": null,
            "flex": null,
            "flex_flow": null,
            "grid_area": null,
            "grid_auto_columns": null,
            "grid_auto_flow": null,
            "grid_auto_rows": null,
            "grid_column": null,
            "grid_gap": null,
            "grid_row": null,
            "grid_template_areas": null,
            "grid_template_columns": null,
            "grid_template_rows": null,
            "height": null,
            "justify_content": null,
            "justify_items": null,
            "left": null,
            "margin": null,
            "max_height": null,
            "max_width": null,
            "min_height": null,
            "min_width": null,
            "object_fit": null,
            "object_position": null,
            "order": null,
            "overflow": null,
            "overflow_x": null,
            "overflow_y": null,
            "padding": null,
            "right": null,
            "top": null,
            "visibility": null,
            "width": null
          }
        },
        "abb4f2cc683d4b83ab4adef6bfb3dc20": {
          "model_module": "@jupyter-widgets/controls",
          "model_name": "ProgressStyleModel",
          "model_module_version": "1.5.0",
          "state": {
            "_model_module": "@jupyter-widgets/controls",
            "_model_module_version": "1.5.0",
            "_model_name": "ProgressStyleModel",
            "_view_count": null,
            "_view_module": "@jupyter-widgets/base",
            "_view_module_version": "1.2.0",
            "_view_name": "StyleView",
            "bar_color": null,
            "description_width": ""
          }
        },
        "247ff9fdd80242a3bcb8be03b4dde653": {
          "model_module": "@jupyter-widgets/base",
          "model_name": "LayoutModel",
          "model_module_version": "1.2.0",
          "state": {
            "_model_module": "@jupyter-widgets/base",
            "_model_module_version": "1.2.0",
            "_model_name": "LayoutModel",
            "_view_count": null,
            "_view_module": "@jupyter-widgets/base",
            "_view_module_version": "1.2.0",
            "_view_name": "LayoutView",
            "align_content": null,
            "align_items": null,
            "align_self": null,
            "border": null,
            "bottom": null,
            "display": null,
            "flex": null,
            "flex_flow": null,
            "grid_area": null,
            "grid_auto_columns": null,
            "grid_auto_flow": null,
            "grid_auto_rows": null,
            "grid_column": null,
            "grid_gap": null,
            "grid_row": null,
            "grid_template_areas": null,
            "grid_template_columns": null,
            "grid_template_rows": null,
            "height": null,
            "justify_content": null,
            "justify_items": null,
            "left": null,
            "margin": null,
            "max_height": null,
            "max_width": null,
            "min_height": null,
            "min_width": null,
            "object_fit": null,
            "object_position": null,
            "order": null,
            "overflow": null,
            "overflow_x": null,
            "overflow_y": null,
            "padding": null,
            "right": null,
            "top": null,
            "visibility": null,
            "width": null
          }
        },
        "f49014f864ea4f44a80c729a4cf2c50b": {
          "model_module": "@jupyter-widgets/controls",
          "model_name": "DescriptionStyleModel",
          "model_module_version": "1.5.0",
          "state": {
            "_model_module": "@jupyter-widgets/controls",
            "_model_module_version": "1.5.0",
            "_model_name": "DescriptionStyleModel",
            "_view_count": null,
            "_view_module": "@jupyter-widgets/base",
            "_view_module_version": "1.2.0",
            "_view_name": "StyleView",
            "description_width": ""
          }
        },
        "a906aed338ca4176a1c01b8642a04468": {
          "model_module": "@jupyter-widgets/controls",
          "model_name": "HBoxModel",
          "model_module_version": "1.5.0",
          "state": {
            "_dom_classes": [],
            "_model_module": "@jupyter-widgets/controls",
            "_model_module_version": "1.5.0",
            "_model_name": "HBoxModel",
            "_view_count": null,
            "_view_module": "@jupyter-widgets/controls",
            "_view_module_version": "1.5.0",
            "_view_name": "HBoxView",
            "box_style": "",
            "children": [
              "IPY_MODEL_cafa5df772a942df84bdb29c1ded6aa6",
              "IPY_MODEL_a1fc48ac614446b68c604766388fcc56",
              "IPY_MODEL_ac8ccf07a04745fe9312247ac7784659"
            ],
            "layout": "IPY_MODEL_3d1ec81b6fd64915929ebdc29e37a492"
          }
        },
        "cafa5df772a942df84bdb29c1ded6aa6": {
          "model_module": "@jupyter-widgets/controls",
          "model_name": "HTMLModel",
          "model_module_version": "1.5.0",
          "state": {
            "_dom_classes": [],
            "_model_module": "@jupyter-widgets/controls",
            "_model_module_version": "1.5.0",
            "_model_name": "HTMLModel",
            "_view_count": null,
            "_view_module": "@jupyter-widgets/controls",
            "_view_module_version": "1.5.0",
            "_view_name": "HTMLView",
            "description": "",
            "description_tooltip": null,
            "layout": "IPY_MODEL_745ac1c64d714602acb8db28165f21ab",
            "placeholder": "​",
            "style": "IPY_MODEL_f29d32d7387e4509ad4ec1caf1c795d8",
            "value": "tokenizer.json: 100%"
          }
        },
        "a1fc48ac614446b68c604766388fcc56": {
          "model_module": "@jupyter-widgets/controls",
          "model_name": "FloatProgressModel",
          "model_module_version": "1.5.0",
          "state": {
            "_dom_classes": [],
            "_model_module": "@jupyter-widgets/controls",
            "_model_module_version": "1.5.0",
            "_model_name": "FloatProgressModel",
            "_view_count": null,
            "_view_module": "@jupyter-widgets/controls",
            "_view_module_version": "1.5.0",
            "_view_name": "ProgressView",
            "bar_style": "success",
            "description": "",
            "description_tooltip": null,
            "layout": "IPY_MODEL_5bfa27c708fb4e058f768c6b7b36cd11",
            "max": 711661,
            "min": 0,
            "orientation": "horizontal",
            "style": "IPY_MODEL_70ecb1586b4a41409925b8870876fa8e",
            "value": 711661
          }
        },
        "ac8ccf07a04745fe9312247ac7784659": {
          "model_module": "@jupyter-widgets/controls",
          "model_name": "HTMLModel",
          "model_module_version": "1.5.0",
          "state": {
            "_dom_classes": [],
            "_model_module": "@jupyter-widgets/controls",
            "_model_module_version": "1.5.0",
            "_model_name": "HTMLModel",
            "_view_count": null,
            "_view_module": "@jupyter-widgets/controls",
            "_view_module_version": "1.5.0",
            "_view_name": "HTMLView",
            "description": "",
            "description_tooltip": null,
            "layout": "IPY_MODEL_924aac25c3f948c58d95589998480fbb",
            "placeholder": "​",
            "style": "IPY_MODEL_fc76313a0a7f4f2295f2b2c68a3702ab",
            "value": " 712k/712k [00:00&lt;00:00, 3.79MB/s]"
          }
        },
        "3d1ec81b6fd64915929ebdc29e37a492": {
          "model_module": "@jupyter-widgets/base",
          "model_name": "LayoutModel",
          "model_module_version": "1.2.0",
          "state": {
            "_model_module": "@jupyter-widgets/base",
            "_model_module_version": "1.2.0",
            "_model_name": "LayoutModel",
            "_view_count": null,
            "_view_module": "@jupyter-widgets/base",
            "_view_module_version": "1.2.0",
            "_view_name": "LayoutView",
            "align_content": null,
            "align_items": null,
            "align_self": null,
            "border": null,
            "bottom": null,
            "display": null,
            "flex": null,
            "flex_flow": null,
            "grid_area": null,
            "grid_auto_columns": null,
            "grid_auto_flow": null,
            "grid_auto_rows": null,
            "grid_column": null,
            "grid_gap": null,
            "grid_row": null,
            "grid_template_areas": null,
            "grid_template_columns": null,
            "grid_template_rows": null,
            "height": null,
            "justify_content": null,
            "justify_items": null,
            "left": null,
            "margin": null,
            "max_height": null,
            "max_width": null,
            "min_height": null,
            "min_width": null,
            "object_fit": null,
            "object_position": null,
            "order": null,
            "overflow": null,
            "overflow_x": null,
            "overflow_y": null,
            "padding": null,
            "right": null,
            "top": null,
            "visibility": null,
            "width": null
          }
        },
        "745ac1c64d714602acb8db28165f21ab": {
          "model_module": "@jupyter-widgets/base",
          "model_name": "LayoutModel",
          "model_module_version": "1.2.0",
          "state": {
            "_model_module": "@jupyter-widgets/base",
            "_model_module_version": "1.2.0",
            "_model_name": "LayoutModel",
            "_view_count": null,
            "_view_module": "@jupyter-widgets/base",
            "_view_module_version": "1.2.0",
            "_view_name": "LayoutView",
            "align_content": null,
            "align_items": null,
            "align_self": null,
            "border": null,
            "bottom": null,
            "display": null,
            "flex": null,
            "flex_flow": null,
            "grid_area": null,
            "grid_auto_columns": null,
            "grid_auto_flow": null,
            "grid_auto_rows": null,
            "grid_column": null,
            "grid_gap": null,
            "grid_row": null,
            "grid_template_areas": null,
            "grid_template_columns": null,
            "grid_template_rows": null,
            "height": null,
            "justify_content": null,
            "justify_items": null,
            "left": null,
            "margin": null,
            "max_height": null,
            "max_width": null,
            "min_height": null,
            "min_width": null,
            "object_fit": null,
            "object_position": null,
            "order": null,
            "overflow": null,
            "overflow_x": null,
            "overflow_y": null,
            "padding": null,
            "right": null,
            "top": null,
            "visibility": null,
            "width": null
          }
        },
        "f29d32d7387e4509ad4ec1caf1c795d8": {
          "model_module": "@jupyter-widgets/controls",
          "model_name": "DescriptionStyleModel",
          "model_module_version": "1.5.0",
          "state": {
            "_model_module": "@jupyter-widgets/controls",
            "_model_module_version": "1.5.0",
            "_model_name": "DescriptionStyleModel",
            "_view_count": null,
            "_view_module": "@jupyter-widgets/base",
            "_view_module_version": "1.2.0",
            "_view_name": "StyleView",
            "description_width": ""
          }
        },
        "5bfa27c708fb4e058f768c6b7b36cd11": {
          "model_module": "@jupyter-widgets/base",
          "model_name": "LayoutModel",
          "model_module_version": "1.2.0",
          "state": {
            "_model_module": "@jupyter-widgets/base",
            "_model_module_version": "1.2.0",
            "_model_name": "LayoutModel",
            "_view_count": null,
            "_view_module": "@jupyter-widgets/base",
            "_view_module_version": "1.2.0",
            "_view_name": "LayoutView",
            "align_content": null,
            "align_items": null,
            "align_self": null,
            "border": null,
            "bottom": null,
            "display": null,
            "flex": null,
            "flex_flow": null,
            "grid_area": null,
            "grid_auto_columns": null,
            "grid_auto_flow": null,
            "grid_auto_rows": null,
            "grid_column": null,
            "grid_gap": null,
            "grid_row": null,
            "grid_template_areas": null,
            "grid_template_columns": null,
            "grid_template_rows": null,
            "height": null,
            "justify_content": null,
            "justify_items": null,
            "left": null,
            "margin": null,
            "max_height": null,
            "max_width": null,
            "min_height": null,
            "min_width": null,
            "object_fit": null,
            "object_position": null,
            "order": null,
            "overflow": null,
            "overflow_x": null,
            "overflow_y": null,
            "padding": null,
            "right": null,
            "top": null,
            "visibility": null,
            "width": null
          }
        },
        "70ecb1586b4a41409925b8870876fa8e": {
          "model_module": "@jupyter-widgets/controls",
          "model_name": "ProgressStyleModel",
          "model_module_version": "1.5.0",
          "state": {
            "_model_module": "@jupyter-widgets/controls",
            "_model_module_version": "1.5.0",
            "_model_name": "ProgressStyleModel",
            "_view_count": null,
            "_view_module": "@jupyter-widgets/base",
            "_view_module_version": "1.2.0",
            "_view_name": "StyleView",
            "bar_color": null,
            "description_width": ""
          }
        },
        "924aac25c3f948c58d95589998480fbb": {
          "model_module": "@jupyter-widgets/base",
          "model_name": "LayoutModel",
          "model_module_version": "1.2.0",
          "state": {
            "_model_module": "@jupyter-widgets/base",
            "_model_module_version": "1.2.0",
            "_model_name": "LayoutModel",
            "_view_count": null,
            "_view_module": "@jupyter-widgets/base",
            "_view_module_version": "1.2.0",
            "_view_name": "LayoutView",
            "align_content": null,
            "align_items": null,
            "align_self": null,
            "border": null,
            "bottom": null,
            "display": null,
            "flex": null,
            "flex_flow": null,
            "grid_area": null,
            "grid_auto_columns": null,
            "grid_auto_flow": null,
            "grid_auto_rows": null,
            "grid_column": null,
            "grid_gap": null,
            "grid_row": null,
            "grid_template_areas": null,
            "grid_template_columns": null,
            "grid_template_rows": null,
            "height": null,
            "justify_content": null,
            "justify_items": null,
            "left": null,
            "margin": null,
            "max_height": null,
            "max_width": null,
            "min_height": null,
            "min_width": null,
            "object_fit": null,
            "object_position": null,
            "order": null,
            "overflow": null,
            "overflow_x": null,
            "overflow_y": null,
            "padding": null,
            "right": null,
            "top": null,
            "visibility": null,
            "width": null
          }
        },
        "fc76313a0a7f4f2295f2b2c68a3702ab": {
          "model_module": "@jupyter-widgets/controls",
          "model_name": "DescriptionStyleModel",
          "model_module_version": "1.5.0",
          "state": {
            "_model_module": "@jupyter-widgets/controls",
            "_model_module_version": "1.5.0",
            "_model_name": "DescriptionStyleModel",
            "_view_count": null,
            "_view_module": "@jupyter-widgets/base",
            "_view_module_version": "1.2.0",
            "_view_name": "StyleView",
            "description_width": ""
          }
        },
        "1ab6b5dbe53b4abbad6a7cd495ba9571": {
          "model_module": "@jupyter-widgets/controls",
          "model_name": "HBoxModel",
          "model_module_version": "1.5.0",
          "state": {
            "_dom_classes": [],
            "_model_module": "@jupyter-widgets/controls",
            "_model_module_version": "1.5.0",
            "_model_name": "HBoxModel",
            "_view_count": null,
            "_view_module": "@jupyter-widgets/controls",
            "_view_module_version": "1.5.0",
            "_view_name": "HBoxView",
            "box_style": "",
            "children": [
              "IPY_MODEL_16ed801ad6ad4930817a25a75717d97f",
              "IPY_MODEL_81d02670a2014456a079495e5f7ac173",
              "IPY_MODEL_f48c265e70c84363a299fdd7db84dc59"
            ],
            "layout": "IPY_MODEL_04b816bd9d8346ac8ed3c7e54c5ea3cb"
          }
        },
        "16ed801ad6ad4930817a25a75717d97f": {
          "model_module": "@jupyter-widgets/controls",
          "model_name": "HTMLModel",
          "model_module_version": "1.5.0",
          "state": {
            "_dom_classes": [],
            "_model_module": "@jupyter-widgets/controls",
            "_model_module_version": "1.5.0",
            "_model_name": "HTMLModel",
            "_view_count": null,
            "_view_module": "@jupyter-widgets/controls",
            "_view_module_version": "1.5.0",
            "_view_name": "HTMLView",
            "description": "",
            "description_tooltip": null,
            "layout": "IPY_MODEL_63efb448af1949a1b6992f3efb08ab61",
            "placeholder": "​",
            "style": "IPY_MODEL_8ccfd2f15a574caeb7edbf734d3b769d",
            "value": "special_tokens_map.json: 100%"
          }
        },
        "81d02670a2014456a079495e5f7ac173": {
          "model_module": "@jupyter-widgets/controls",
          "model_name": "FloatProgressModel",
          "model_module_version": "1.5.0",
          "state": {
            "_dom_classes": [],
            "_model_module": "@jupyter-widgets/controls",
            "_model_module_version": "1.5.0",
            "_model_name": "FloatProgressModel",
            "_view_count": null,
            "_view_module": "@jupyter-widgets/controls",
            "_view_module_version": "1.5.0",
            "_view_name": "ProgressView",
            "bar_style": "success",
            "description": "",
            "description_tooltip": null,
            "layout": "IPY_MODEL_5c107461d24c4b58a7883b530c61a610",
            "max": 125,
            "min": 0,
            "orientation": "horizontal",
            "style": "IPY_MODEL_d1233fda081d46649a9c5bfa927d8159",
            "value": 125
          }
        },
        "f48c265e70c84363a299fdd7db84dc59": {
          "model_module": "@jupyter-widgets/controls",
          "model_name": "HTMLModel",
          "model_module_version": "1.5.0",
          "state": {
            "_dom_classes": [],
            "_model_module": "@jupyter-widgets/controls",
            "_model_module_version": "1.5.0",
            "_model_name": "HTMLModel",
            "_view_count": null,
            "_view_module": "@jupyter-widgets/controls",
            "_view_module_version": "1.5.0",
            "_view_name": "HTMLView",
            "description": "",
            "description_tooltip": null,
            "layout": "IPY_MODEL_f7d322f224de48318d5209a1e5da744a",
            "placeholder": "​",
            "style": "IPY_MODEL_ae919b0a537d4809a8e699822300c585",
            "value": " 125/125 [00:00&lt;00:00, 8.08kB/s]"
          }
        },
        "04b816bd9d8346ac8ed3c7e54c5ea3cb": {
          "model_module": "@jupyter-widgets/base",
          "model_name": "LayoutModel",
          "model_module_version": "1.2.0",
          "state": {
            "_model_module": "@jupyter-widgets/base",
            "_model_module_version": "1.2.0",
            "_model_name": "LayoutModel",
            "_view_count": null,
            "_view_module": "@jupyter-widgets/base",
            "_view_module_version": "1.2.0",
            "_view_name": "LayoutView",
            "align_content": null,
            "align_items": null,
            "align_self": null,
            "border": null,
            "bottom": null,
            "display": null,
            "flex": null,
            "flex_flow": null,
            "grid_area": null,
            "grid_auto_columns": null,
            "grid_auto_flow": null,
            "grid_auto_rows": null,
            "grid_column": null,
            "grid_gap": null,
            "grid_row": null,
            "grid_template_areas": null,
            "grid_template_columns": null,
            "grid_template_rows": null,
            "height": null,
            "justify_content": null,
            "justify_items": null,
            "left": null,
            "margin": null,
            "max_height": null,
            "max_width": null,
            "min_height": null,
            "min_width": null,
            "object_fit": null,
            "object_position": null,
            "order": null,
            "overflow": null,
            "overflow_x": null,
            "overflow_y": null,
            "padding": null,
            "right": null,
            "top": null,
            "visibility": null,
            "width": null
          }
        },
        "63efb448af1949a1b6992f3efb08ab61": {
          "model_module": "@jupyter-widgets/base",
          "model_name": "LayoutModel",
          "model_module_version": "1.2.0",
          "state": {
            "_model_module": "@jupyter-widgets/base",
            "_model_module_version": "1.2.0",
            "_model_name": "LayoutModel",
            "_view_count": null,
            "_view_module": "@jupyter-widgets/base",
            "_view_module_version": "1.2.0",
            "_view_name": "LayoutView",
            "align_content": null,
            "align_items": null,
            "align_self": null,
            "border": null,
            "bottom": null,
            "display": null,
            "flex": null,
            "flex_flow": null,
            "grid_area": null,
            "grid_auto_columns": null,
            "grid_auto_flow": null,
            "grid_auto_rows": null,
            "grid_column": null,
            "grid_gap": null,
            "grid_row": null,
            "grid_template_areas": null,
            "grid_template_columns": null,
            "grid_template_rows": null,
            "height": null,
            "justify_content": null,
            "justify_items": null,
            "left": null,
            "margin": null,
            "max_height": null,
            "max_width": null,
            "min_height": null,
            "min_width": null,
            "object_fit": null,
            "object_position": null,
            "order": null,
            "overflow": null,
            "overflow_x": null,
            "overflow_y": null,
            "padding": null,
            "right": null,
            "top": null,
            "visibility": null,
            "width": null
          }
        },
        "8ccfd2f15a574caeb7edbf734d3b769d": {
          "model_module": "@jupyter-widgets/controls",
          "model_name": "DescriptionStyleModel",
          "model_module_version": "1.5.0",
          "state": {
            "_model_module": "@jupyter-widgets/controls",
            "_model_module_version": "1.5.0",
            "_model_name": "DescriptionStyleModel",
            "_view_count": null,
            "_view_module": "@jupyter-widgets/base",
            "_view_module_version": "1.2.0",
            "_view_name": "StyleView",
            "description_width": ""
          }
        },
        "5c107461d24c4b58a7883b530c61a610": {
          "model_module": "@jupyter-widgets/base",
          "model_name": "LayoutModel",
          "model_module_version": "1.2.0",
          "state": {
            "_model_module": "@jupyter-widgets/base",
            "_model_module_version": "1.2.0",
            "_model_name": "LayoutModel",
            "_view_count": null,
            "_view_module": "@jupyter-widgets/base",
            "_view_module_version": "1.2.0",
            "_view_name": "LayoutView",
            "align_content": null,
            "align_items": null,
            "align_self": null,
            "border": null,
            "bottom": null,
            "display": null,
            "flex": null,
            "flex_flow": null,
            "grid_area": null,
            "grid_auto_columns": null,
            "grid_auto_flow": null,
            "grid_auto_rows": null,
            "grid_column": null,
            "grid_gap": null,
            "grid_row": null,
            "grid_template_areas": null,
            "grid_template_columns": null,
            "grid_template_rows": null,
            "height": null,
            "justify_content": null,
            "justify_items": null,
            "left": null,
            "margin": null,
            "max_height": null,
            "max_width": null,
            "min_height": null,
            "min_width": null,
            "object_fit": null,
            "object_position": null,
            "order": null,
            "overflow": null,
            "overflow_x": null,
            "overflow_y": null,
            "padding": null,
            "right": null,
            "top": null,
            "visibility": null,
            "width": null
          }
        },
        "d1233fda081d46649a9c5bfa927d8159": {
          "model_module": "@jupyter-widgets/controls",
          "model_name": "ProgressStyleModel",
          "model_module_version": "1.5.0",
          "state": {
            "_model_module": "@jupyter-widgets/controls",
            "_model_module_version": "1.5.0",
            "_model_name": "ProgressStyleModel",
            "_view_count": null,
            "_view_module": "@jupyter-widgets/base",
            "_view_module_version": "1.2.0",
            "_view_name": "StyleView",
            "bar_color": null,
            "description_width": ""
          }
        },
        "f7d322f224de48318d5209a1e5da744a": {
          "model_module": "@jupyter-widgets/base",
          "model_name": "LayoutModel",
          "model_module_version": "1.2.0",
          "state": {
            "_model_module": "@jupyter-widgets/base",
            "_model_module_version": "1.2.0",
            "_model_name": "LayoutModel",
            "_view_count": null,
            "_view_module": "@jupyter-widgets/base",
            "_view_module_version": "1.2.0",
            "_view_name": "LayoutView",
            "align_content": null,
            "align_items": null,
            "align_self": null,
            "border": null,
            "bottom": null,
            "display": null,
            "flex": null,
            "flex_flow": null,
            "grid_area": null,
            "grid_auto_columns": null,
            "grid_auto_flow": null,
            "grid_auto_rows": null,
            "grid_column": null,
            "grid_gap": null,
            "grid_row": null,
            "grid_template_areas": null,
            "grid_template_columns": null,
            "grid_template_rows": null,
            "height": null,
            "justify_content": null,
            "justify_items": null,
            "left": null,
            "margin": null,
            "max_height": null,
            "max_width": null,
            "min_height": null,
            "min_width": null,
            "object_fit": null,
            "object_position": null,
            "order": null,
            "overflow": null,
            "overflow_x": null,
            "overflow_y": null,
            "padding": null,
            "right": null,
            "top": null,
            "visibility": null,
            "width": null
          }
        },
        "ae919b0a537d4809a8e699822300c585": {
          "model_module": "@jupyter-widgets/controls",
          "model_name": "DescriptionStyleModel",
          "model_module_version": "1.5.0",
          "state": {
            "_model_module": "@jupyter-widgets/controls",
            "_model_module_version": "1.5.0",
            "_model_name": "DescriptionStyleModel",
            "_view_count": null,
            "_view_module": "@jupyter-widgets/base",
            "_view_module_version": "1.2.0",
            "_view_name": "StyleView",
            "description_width": ""
          }
        },
        "70632a3704b348f98872c9326a3c6826": {
          "model_module": "@jupyter-widgets/controls",
          "model_name": "HBoxModel",
          "model_module_version": "1.5.0",
          "state": {
            "_dom_classes": [],
            "_model_module": "@jupyter-widgets/controls",
            "_model_module_version": "1.5.0",
            "_model_name": "HBoxModel",
            "_view_count": null,
            "_view_module": "@jupyter-widgets/controls",
            "_view_module_version": "1.5.0",
            "_view_name": "HBoxView",
            "box_style": "",
            "children": [
              "IPY_MODEL_1ed6cfbbc2494466b7f2b9bba4821eca",
              "IPY_MODEL_8d140c24d30441a1986a1ac43bcd3ae0",
              "IPY_MODEL_93a6db9f348b4ffd8f65eac321b0e066"
            ],
            "layout": "IPY_MODEL_dffd58f632394970aa18f651675261de"
          }
        },
        "1ed6cfbbc2494466b7f2b9bba4821eca": {
          "model_module": "@jupyter-widgets/controls",
          "model_name": "HTMLModel",
          "model_module_version": "1.5.0",
          "state": {
            "_dom_classes": [],
            "_model_module": "@jupyter-widgets/controls",
            "_model_module_version": "1.5.0",
            "_model_name": "HTMLModel",
            "_view_count": null,
            "_view_module": "@jupyter-widgets/controls",
            "_view_module_version": "1.5.0",
            "_view_name": "HTMLView",
            "description": "",
            "description_tooltip": null,
            "layout": "IPY_MODEL_d4884898d6474ffa94523b12d39b72ba",
            "placeholder": "​",
            "style": "IPY_MODEL_ab43827f3d0d458782cee6293b6e71a7",
            "value": "config.json: 100%"
          }
        },
        "8d140c24d30441a1986a1ac43bcd3ae0": {
          "model_module": "@jupyter-widgets/controls",
          "model_name": "FloatProgressModel",
          "model_module_version": "1.5.0",
          "state": {
            "_dom_classes": [],
            "_model_module": "@jupyter-widgets/controls",
            "_model_module_version": "1.5.0",
            "_model_name": "FloatProgressModel",
            "_view_count": null,
            "_view_module": "@jupyter-widgets/controls",
            "_view_module_version": "1.5.0",
            "_view_name": "ProgressView",
            "bar_style": "success",
            "description": "",
            "description_tooltip": null,
            "layout": "IPY_MODEL_54eb5a4f3c114988b407de7d17d04879",
            "max": 191,
            "min": 0,
            "orientation": "horizontal",
            "style": "IPY_MODEL_be174127bd10433aab5233d3f00271ba",
            "value": 191
          }
        },
        "93a6db9f348b4ffd8f65eac321b0e066": {
          "model_module": "@jupyter-widgets/controls",
          "model_name": "HTMLModel",
          "model_module_version": "1.5.0",
          "state": {
            "_dom_classes": [],
            "_model_module": "@jupyter-widgets/controls",
            "_model_module_version": "1.5.0",
            "_model_name": "HTMLModel",
            "_view_count": null,
            "_view_module": "@jupyter-widgets/controls",
            "_view_module_version": "1.5.0",
            "_view_name": "HTMLView",
            "description": "",
            "description_tooltip": null,
            "layout": "IPY_MODEL_4141595c5fa84c068cccaade86e91664",
            "placeholder": "​",
            "style": "IPY_MODEL_2fe8395ed54e44b68ce8167ebd3e3608",
            "value": " 191/191 [00:00&lt;00:00, 10.4kB/s]"
          }
        },
        "dffd58f632394970aa18f651675261de": {
          "model_module": "@jupyter-widgets/base",
          "model_name": "LayoutModel",
          "model_module_version": "1.2.0",
          "state": {
            "_model_module": "@jupyter-widgets/base",
            "_model_module_version": "1.2.0",
            "_model_name": "LayoutModel",
            "_view_count": null,
            "_view_module": "@jupyter-widgets/base",
            "_view_module_version": "1.2.0",
            "_view_name": "LayoutView",
            "align_content": null,
            "align_items": null,
            "align_self": null,
            "border": null,
            "bottom": null,
            "display": null,
            "flex": null,
            "flex_flow": null,
            "grid_area": null,
            "grid_auto_columns": null,
            "grid_auto_flow": null,
            "grid_auto_rows": null,
            "grid_column": null,
            "grid_gap": null,
            "grid_row": null,
            "grid_template_areas": null,
            "grid_template_columns": null,
            "grid_template_rows": null,
            "height": null,
            "justify_content": null,
            "justify_items": null,
            "left": null,
            "margin": null,
            "max_height": null,
            "max_width": null,
            "min_height": null,
            "min_width": null,
            "object_fit": null,
            "object_position": null,
            "order": null,
            "overflow": null,
            "overflow_x": null,
            "overflow_y": null,
            "padding": null,
            "right": null,
            "top": null,
            "visibility": null,
            "width": null
          }
        },
        "d4884898d6474ffa94523b12d39b72ba": {
          "model_module": "@jupyter-widgets/base",
          "model_name": "LayoutModel",
          "model_module_version": "1.2.0",
          "state": {
            "_model_module": "@jupyter-widgets/base",
            "_model_module_version": "1.2.0",
            "_model_name": "LayoutModel",
            "_view_count": null,
            "_view_module": "@jupyter-widgets/base",
            "_view_module_version": "1.2.0",
            "_view_name": "LayoutView",
            "align_content": null,
            "align_items": null,
            "align_self": null,
            "border": null,
            "bottom": null,
            "display": null,
            "flex": null,
            "flex_flow": null,
            "grid_area": null,
            "grid_auto_columns": null,
            "grid_auto_flow": null,
            "grid_auto_rows": null,
            "grid_column": null,
            "grid_gap": null,
            "grid_row": null,
            "grid_template_areas": null,
            "grid_template_columns": null,
            "grid_template_rows": null,
            "height": null,
            "justify_content": null,
            "justify_items": null,
            "left": null,
            "margin": null,
            "max_height": null,
            "max_width": null,
            "min_height": null,
            "min_width": null,
            "object_fit": null,
            "object_position": null,
            "order": null,
            "overflow": null,
            "overflow_x": null,
            "overflow_y": null,
            "padding": null,
            "right": null,
            "top": null,
            "visibility": null,
            "width": null
          }
        },
        "ab43827f3d0d458782cee6293b6e71a7": {
          "model_module": "@jupyter-widgets/controls",
          "model_name": "DescriptionStyleModel",
          "model_module_version": "1.5.0",
          "state": {
            "_model_module": "@jupyter-widgets/controls",
            "_model_module_version": "1.5.0",
            "_model_name": "DescriptionStyleModel",
            "_view_count": null,
            "_view_module": "@jupyter-widgets/base",
            "_view_module_version": "1.2.0",
            "_view_name": "StyleView",
            "description_width": ""
          }
        },
        "54eb5a4f3c114988b407de7d17d04879": {
          "model_module": "@jupyter-widgets/base",
          "model_name": "LayoutModel",
          "model_module_version": "1.2.0",
          "state": {
            "_model_module": "@jupyter-widgets/base",
            "_model_module_version": "1.2.0",
            "_model_name": "LayoutModel",
            "_view_count": null,
            "_view_module": "@jupyter-widgets/base",
            "_view_module_version": "1.2.0",
            "_view_name": "LayoutView",
            "align_content": null,
            "align_items": null,
            "align_self": null,
            "border": null,
            "bottom": null,
            "display": null,
            "flex": null,
            "flex_flow": null,
            "grid_area": null,
            "grid_auto_columns": null,
            "grid_auto_flow": null,
            "grid_auto_rows": null,
            "grid_column": null,
            "grid_gap": null,
            "grid_row": null,
            "grid_template_areas": null,
            "grid_template_columns": null,
            "grid_template_rows": null,
            "height": null,
            "justify_content": null,
            "justify_items": null,
            "left": null,
            "margin": null,
            "max_height": null,
            "max_width": null,
            "min_height": null,
            "min_width": null,
            "object_fit": null,
            "object_position": null,
            "order": null,
            "overflow": null,
            "overflow_x": null,
            "overflow_y": null,
            "padding": null,
            "right": null,
            "top": null,
            "visibility": null,
            "width": null
          }
        },
        "be174127bd10433aab5233d3f00271ba": {
          "model_module": "@jupyter-widgets/controls",
          "model_name": "ProgressStyleModel",
          "model_module_version": "1.5.0",
          "state": {
            "_model_module": "@jupyter-widgets/controls",
            "_model_module_version": "1.5.0",
            "_model_name": "ProgressStyleModel",
            "_view_count": null,
            "_view_module": "@jupyter-widgets/base",
            "_view_module_version": "1.2.0",
            "_view_name": "StyleView",
            "bar_color": null,
            "description_width": ""
          }
        },
        "4141595c5fa84c068cccaade86e91664": {
          "model_module": "@jupyter-widgets/base",
          "model_name": "LayoutModel",
          "model_module_version": "1.2.0",
          "state": {
            "_model_module": "@jupyter-widgets/base",
            "_model_module_version": "1.2.0",
            "_model_name": "LayoutModel",
            "_view_count": null,
            "_view_module": "@jupyter-widgets/base",
            "_view_module_version": "1.2.0",
            "_view_name": "LayoutView",
            "align_content": null,
            "align_items": null,
            "align_self": null,
            "border": null,
            "bottom": null,
            "display": null,
            "flex": null,
            "flex_flow": null,
            "grid_area": null,
            "grid_auto_columns": null,
            "grid_auto_flow": null,
            "grid_auto_rows": null,
            "grid_column": null,
            "grid_gap": null,
            "grid_row": null,
            "grid_template_areas": null,
            "grid_template_columns": null,
            "grid_template_rows": null,
            "height": null,
            "justify_content": null,
            "justify_items": null,
            "left": null,
            "margin": null,
            "max_height": null,
            "max_width": null,
            "min_height": null,
            "min_width": null,
            "object_fit": null,
            "object_position": null,
            "order": null,
            "overflow": null,
            "overflow_x": null,
            "overflow_y": null,
            "padding": null,
            "right": null,
            "top": null,
            "visibility": null,
            "width": null
          }
        },
        "2fe8395ed54e44b68ce8167ebd3e3608": {
          "model_module": "@jupyter-widgets/controls",
          "model_name": "DescriptionStyleModel",
          "model_module_version": "1.5.0",
          "state": {
            "_model_module": "@jupyter-widgets/controls",
            "_model_module_version": "1.5.0",
            "_model_name": "DescriptionStyleModel",
            "_view_count": null,
            "_view_module": "@jupyter-widgets/base",
            "_view_module_version": "1.2.0",
            "_view_name": "StyleView",
            "description_width": ""
          }
        }
      }
    }
  },
  "nbformat": 4,
  "nbformat_minor": 0
}